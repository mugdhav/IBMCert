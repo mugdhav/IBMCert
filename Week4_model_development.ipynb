{
  "nbformat": 4,
  "nbformat_minor": 0,
  "metadata": {
    "kernelspec": {
      "display_name": "Python",
      "language": "python",
      "name": "conda-env-python-py"
    },
    "language_info": {
      "codemirror_mode": {
        "name": "ipython",
        "version": 3
      },
      "file_extension": ".py",
      "mimetype": "text/x-python",
      "name": "python",
      "nbconvert_exporter": "python",
      "pygments_lexer": "ipython3",
      "version": "3.6.10"
    },
    "colab": {
      "name": "model-development.ipynb",
      "provenance": [],
      "include_colab_link": true
    }
  },
  "cells": [
    {
      "cell_type": "markdown",
      "metadata": {
        "id": "view-in-github",
        "colab_type": "text"
      },
      "source": [
        "<a href=\"https://colab.research.google.com/github/mugdhav/IBMCert/blob/master/Week4_model_development.ipynb\" target=\"_parent\"><img src=\"https://colab.research.google.com/assets/colab-badge.svg\" alt=\"Open In Colab\"/></a>"
      ]
    },
    {
      "cell_type": "markdown",
      "metadata": {
        "id": "eZwR83tHrx1J",
        "colab_type": "text"
      },
      "source": [
        "<div class=\"alert alert-block alert-info\" style=\"margin-top: 20px\">\n",
        "    <a href=\"https://cocl.us/corsera_da0101en_notebook_top\">\n",
        "         <img src=\"https://s3-api.us-geo.objectstorage.softlayer.net/cf-courses-data/CognitiveClass/DA0101EN/Images/TopAd.png\" width=\"750\" align=\"center\">\n",
        "    </a>\n",
        "</div>\n"
      ]
    },
    {
      "cell_type": "markdown",
      "metadata": {
        "id": "3aB90gHvrx1K",
        "colab_type": "text"
      },
      "source": [
        "<a href=\"https://www.bigdatauniversity.com\"><img src = \"https://s3-api.us-geo.objectstorage.softlayer.net/cf-courses-data/CognitiveClass/DA0101EN/Images/CCLog.png\" width = 300, align = \"center\"></a>\n",
        "\n",
        "<h1 align=center><font size=5>Data Analysis with Python</font></h1>"
      ]
    },
    {
      "cell_type": "markdown",
      "metadata": {
        "id": "OUWtD8tZrx1K",
        "colab_type": "text"
      },
      "source": [
        "<h1>Module 4: Model Development</h1>"
      ]
    },
    {
      "cell_type": "markdown",
      "metadata": {
        "id": "_ol8QWf_rx1L",
        "colab_type": "text"
      },
      "source": [
        "<p>In this section, we will develop several models that will predict the price of the car using the variables or features. This is just an estimate but should give us an objective idea of how much the car should cost.</p>"
      ]
    },
    {
      "cell_type": "markdown",
      "metadata": {
        "id": "uHbNiwbrrx1M",
        "colab_type": "text"
      },
      "source": [
        "Some questions we want to ask in this module\n",
        "<ul>\n",
        "    <li>do I know if the dealer is offering fair value for my trade-in?</li>\n",
        "    <li>do I know if I put a fair value on my car?</li>\n",
        "</ul>\n",
        "<p>Data Analytics, we often use <b>Model Development</b> to help us predict future observations from the data we have.</p>\n",
        "\n",
        "<p>A Model will help us understand the exact relationship between different variables and how these variables are used to predict the result.</p>"
      ]
    },
    {
      "cell_type": "markdown",
      "metadata": {
        "id": "YUMQRw0Trx1M",
        "colab_type": "text"
      },
      "source": [
        "<h4>Setup</h4>"
      ]
    },
    {
      "cell_type": "markdown",
      "metadata": {
        "id": "x2vclaENrx1N",
        "colab_type": "text"
      },
      "source": [
        " Import libraries"
      ]
    },
    {
      "cell_type": "code",
      "metadata": {
        "jupyter": {
          "outputs_hidden": false
        },
        "id": "zBJ4U-IIrx1N",
        "colab_type": "code",
        "colab": {}
      },
      "source": [
        "import pandas as pd\n",
        "import numpy as np\n",
        "import matplotlib.pyplot as plt"
      ],
      "execution_count": 0,
      "outputs": []
    },
    {
      "cell_type": "markdown",
      "metadata": {
        "id": "-7KFTbbtrx1R",
        "colab_type": "text"
      },
      "source": [
        "load data and store in dataframe df:"
      ]
    },
    {
      "cell_type": "markdown",
      "metadata": {
        "id": "2_1Hbk-Frx1S",
        "colab_type": "text"
      },
      "source": [
        "This dataset was hosted on IBM Cloud object click <a href=\"https://cocl.us/DA101EN_object_storage\">HERE</a> for free storage."
      ]
    },
    {
      "cell_type": "code",
      "metadata": {
        "jupyter": {
          "outputs_hidden": false
        },
        "id": "55CFAuVurx1S",
        "colab_type": "code",
        "colab": {},
        "outputId": "53ed96cf-04af-4fa1-8148-6f00ad5aea79"
      },
      "source": [
        "# path of data \n",
        "path = 'https://s3-api.us-geo.objectstorage.softlayer.net/cf-courses-data/CognitiveClass/DA0101EN/automobileEDA.csv'\n",
        "df = pd.read_csv(path)\n",
        "df.head()"
      ],
      "execution_count": 0,
      "outputs": [
        {
          "output_type": "execute_result",
          "data": {
            "text/html": [
              "<div>\n",
              "<style scoped>\n",
              "    .dataframe tbody tr th:only-of-type {\n",
              "        vertical-align: middle;\n",
              "    }\n",
              "\n",
              "    .dataframe tbody tr th {\n",
              "        vertical-align: top;\n",
              "    }\n",
              "\n",
              "    .dataframe thead th {\n",
              "        text-align: right;\n",
              "    }\n",
              "</style>\n",
              "<table border=\"1\" class=\"dataframe\">\n",
              "  <thead>\n",
              "    <tr style=\"text-align: right;\">\n",
              "      <th></th>\n",
              "      <th>symboling</th>\n",
              "      <th>normalized-losses</th>\n",
              "      <th>make</th>\n",
              "      <th>aspiration</th>\n",
              "      <th>num-of-doors</th>\n",
              "      <th>body-style</th>\n",
              "      <th>drive-wheels</th>\n",
              "      <th>engine-location</th>\n",
              "      <th>wheel-base</th>\n",
              "      <th>length</th>\n",
              "      <th>...</th>\n",
              "      <th>compression-ratio</th>\n",
              "      <th>horsepower</th>\n",
              "      <th>peak-rpm</th>\n",
              "      <th>city-mpg</th>\n",
              "      <th>highway-mpg</th>\n",
              "      <th>price</th>\n",
              "      <th>city-L/100km</th>\n",
              "      <th>horsepower-binned</th>\n",
              "      <th>diesel</th>\n",
              "      <th>gas</th>\n",
              "    </tr>\n",
              "  </thead>\n",
              "  <tbody>\n",
              "    <tr>\n",
              "      <th>0</th>\n",
              "      <td>3</td>\n",
              "      <td>122</td>\n",
              "      <td>alfa-romero</td>\n",
              "      <td>std</td>\n",
              "      <td>two</td>\n",
              "      <td>convertible</td>\n",
              "      <td>rwd</td>\n",
              "      <td>front</td>\n",
              "      <td>88.6</td>\n",
              "      <td>0.811148</td>\n",
              "      <td>...</td>\n",
              "      <td>9.0</td>\n",
              "      <td>111.0</td>\n",
              "      <td>5000.0</td>\n",
              "      <td>21</td>\n",
              "      <td>27</td>\n",
              "      <td>13495.0</td>\n",
              "      <td>11.190476</td>\n",
              "      <td>Medium</td>\n",
              "      <td>0</td>\n",
              "      <td>1</td>\n",
              "    </tr>\n",
              "    <tr>\n",
              "      <th>1</th>\n",
              "      <td>3</td>\n",
              "      <td>122</td>\n",
              "      <td>alfa-romero</td>\n",
              "      <td>std</td>\n",
              "      <td>two</td>\n",
              "      <td>convertible</td>\n",
              "      <td>rwd</td>\n",
              "      <td>front</td>\n",
              "      <td>88.6</td>\n",
              "      <td>0.811148</td>\n",
              "      <td>...</td>\n",
              "      <td>9.0</td>\n",
              "      <td>111.0</td>\n",
              "      <td>5000.0</td>\n",
              "      <td>21</td>\n",
              "      <td>27</td>\n",
              "      <td>16500.0</td>\n",
              "      <td>11.190476</td>\n",
              "      <td>Medium</td>\n",
              "      <td>0</td>\n",
              "      <td>1</td>\n",
              "    </tr>\n",
              "    <tr>\n",
              "      <th>2</th>\n",
              "      <td>1</td>\n",
              "      <td>122</td>\n",
              "      <td>alfa-romero</td>\n",
              "      <td>std</td>\n",
              "      <td>two</td>\n",
              "      <td>hatchback</td>\n",
              "      <td>rwd</td>\n",
              "      <td>front</td>\n",
              "      <td>94.5</td>\n",
              "      <td>0.822681</td>\n",
              "      <td>...</td>\n",
              "      <td>9.0</td>\n",
              "      <td>154.0</td>\n",
              "      <td>5000.0</td>\n",
              "      <td>19</td>\n",
              "      <td>26</td>\n",
              "      <td>16500.0</td>\n",
              "      <td>12.368421</td>\n",
              "      <td>Medium</td>\n",
              "      <td>0</td>\n",
              "      <td>1</td>\n",
              "    </tr>\n",
              "    <tr>\n",
              "      <th>3</th>\n",
              "      <td>2</td>\n",
              "      <td>164</td>\n",
              "      <td>audi</td>\n",
              "      <td>std</td>\n",
              "      <td>four</td>\n",
              "      <td>sedan</td>\n",
              "      <td>fwd</td>\n",
              "      <td>front</td>\n",
              "      <td>99.8</td>\n",
              "      <td>0.848630</td>\n",
              "      <td>...</td>\n",
              "      <td>10.0</td>\n",
              "      <td>102.0</td>\n",
              "      <td>5500.0</td>\n",
              "      <td>24</td>\n",
              "      <td>30</td>\n",
              "      <td>13950.0</td>\n",
              "      <td>9.791667</td>\n",
              "      <td>Medium</td>\n",
              "      <td>0</td>\n",
              "      <td>1</td>\n",
              "    </tr>\n",
              "    <tr>\n",
              "      <th>4</th>\n",
              "      <td>2</td>\n",
              "      <td>164</td>\n",
              "      <td>audi</td>\n",
              "      <td>std</td>\n",
              "      <td>four</td>\n",
              "      <td>sedan</td>\n",
              "      <td>4wd</td>\n",
              "      <td>front</td>\n",
              "      <td>99.4</td>\n",
              "      <td>0.848630</td>\n",
              "      <td>...</td>\n",
              "      <td>8.0</td>\n",
              "      <td>115.0</td>\n",
              "      <td>5500.0</td>\n",
              "      <td>18</td>\n",
              "      <td>22</td>\n",
              "      <td>17450.0</td>\n",
              "      <td>13.055556</td>\n",
              "      <td>Medium</td>\n",
              "      <td>0</td>\n",
              "      <td>1</td>\n",
              "    </tr>\n",
              "  </tbody>\n",
              "</table>\n",
              "<p>5 rows × 29 columns</p>\n",
              "</div>"
            ],
            "text/plain": [
              "   symboling  normalized-losses         make aspiration num-of-doors  \\\n",
              "0          3                122  alfa-romero        std          two   \n",
              "1          3                122  alfa-romero        std          two   \n",
              "2          1                122  alfa-romero        std          two   \n",
              "3          2                164         audi        std         four   \n",
              "4          2                164         audi        std         four   \n",
              "\n",
              "    body-style drive-wheels engine-location  wheel-base    length  ...  \\\n",
              "0  convertible          rwd           front        88.6  0.811148  ...   \n",
              "1  convertible          rwd           front        88.6  0.811148  ...   \n",
              "2    hatchback          rwd           front        94.5  0.822681  ...   \n",
              "3        sedan          fwd           front        99.8  0.848630  ...   \n",
              "4        sedan          4wd           front        99.4  0.848630  ...   \n",
              "\n",
              "   compression-ratio  horsepower  peak-rpm city-mpg highway-mpg    price  \\\n",
              "0                9.0       111.0    5000.0       21          27  13495.0   \n",
              "1                9.0       111.0    5000.0       21          27  16500.0   \n",
              "2                9.0       154.0    5000.0       19          26  16500.0   \n",
              "3               10.0       102.0    5500.0       24          30  13950.0   \n",
              "4                8.0       115.0    5500.0       18          22  17450.0   \n",
              "\n",
              "  city-L/100km  horsepower-binned  diesel  gas  \n",
              "0    11.190476             Medium       0    1  \n",
              "1    11.190476             Medium       0    1  \n",
              "2    12.368421             Medium       0    1  \n",
              "3     9.791667             Medium       0    1  \n",
              "4    13.055556             Medium       0    1  \n",
              "\n",
              "[5 rows x 29 columns]"
            ]
          },
          "metadata": {
            "tags": []
          },
          "execution_count": 55
        }
      ]
    },
    {
      "cell_type": "markdown",
      "metadata": {
        "id": "-sP-NZgWrx1Y",
        "colab_type": "text"
      },
      "source": [
        "<h3>1. Linear Regression and Multiple Linear Regression</h3>"
      ]
    },
    {
      "cell_type": "markdown",
      "metadata": {
        "id": "uSzLagmqrx1Z",
        "colab_type": "text"
      },
      "source": [
        "<h4>Linear Regression</h4>"
      ]
    },
    {
      "cell_type": "markdown",
      "metadata": {
        "id": "8Xs6v0OBrx1Z",
        "colab_type": "text"
      },
      "source": [
        "\n",
        "<p>One example of a Data  Model that we will be using is</p>\n",
        "<b>Simple Linear Regression</b>.\n",
        "\n",
        "<br>\n",
        "<p>Simple Linear Regression is a method to help us understand the relationship between two variables:</p>\n",
        "<ul>\n",
        "    <li>The predictor/independent variable (X)</li>\n",
        "    <li>The response/dependent variable (that we want to predict)(Y)</li>\n",
        "</ul>\n",
        "\n",
        "<p>The result of Linear Regression is a <b>linear function</b> that predicts the response (dependent) variable as a function of the predictor (independent) variable.</p>\n",
        "\n"
      ]
    },
    {
      "cell_type": "markdown",
      "metadata": {
        "id": "Q_uZeW5Crx1a",
        "colab_type": "text"
      },
      "source": [
        "$$\n",
        " Y: Response \\ Variable\\\\\n",
        " X: Predictor \\ Variables\n",
        "$$\n"
      ]
    },
    {
      "cell_type": "markdown",
      "metadata": {
        "id": "bx-sBfA8rx1a",
        "colab_type": "text"
      },
      "source": [
        " <b>Linear function:</b>\n",
        "$$\n",
        "Yhat = a + b  X\n",
        "$$"
      ]
    },
    {
      "cell_type": "markdown",
      "metadata": {
        "id": "IfkL2ArTrx1b",
        "colab_type": "text"
      },
      "source": [
        "<ul>\n",
        "    <li>a refers to the <b>intercept</b> of the regression line0, in other words: the value of Y when X is 0</li>\n",
        "    <li>b refers to the <b>slope</b> of the regression line, in other words: the value with which Y changes when X increases by 1 unit</li>\n",
        "</ul>"
      ]
    },
    {
      "cell_type": "markdown",
      "metadata": {
        "id": "qlgEvNbkrx1b",
        "colab_type": "text"
      },
      "source": [
        "<h4>Lets load the modules for linear regression</h4>"
      ]
    },
    {
      "cell_type": "code",
      "metadata": {
        "jupyter": {
          "outputs_hidden": false
        },
        "id": "3z0Qnt6Wrx1c",
        "colab_type": "code",
        "colab": {}
      },
      "source": [
        "from sklearn.linear_model import LinearRegression"
      ],
      "execution_count": 0,
      "outputs": []
    },
    {
      "cell_type": "markdown",
      "metadata": {
        "id": "NuO0HJc_rx1f",
        "colab_type": "text"
      },
      "source": [
        "<h4>Create the linear regression object</h4>"
      ]
    },
    {
      "cell_type": "code",
      "metadata": {
        "jupyter": {
          "outputs_hidden": false
        },
        "id": "T5SUM6eMrx1f",
        "colab_type": "code",
        "colab": {},
        "outputId": "87d07c8b-781d-421e-f951-57975047d873"
      },
      "source": [
        "lm = LinearRegression()\n",
        "lm"
      ],
      "execution_count": 0,
      "outputs": [
        {
          "output_type": "execute_result",
          "data": {
            "text/plain": [
              "LinearRegression(copy_X=True, fit_intercept=True, n_jobs=None,\n",
              "         normalize=False)"
            ]
          },
          "metadata": {
            "tags": []
          },
          "execution_count": 57
        }
      ]
    },
    {
      "cell_type": "markdown",
      "metadata": {
        "id": "Loj4GKv7rx1j",
        "colab_type": "text"
      },
      "source": [
        "<h4>How could Highway-mpg help us predict car price?</h4>"
      ]
    },
    {
      "cell_type": "markdown",
      "metadata": {
        "id": "VU0PJ-2krx1k",
        "colab_type": "text"
      },
      "source": [
        "For this example, we want to look at how highway-mpg can help us predict car price.\n",
        "Using simple linear regression, we will create a linear function with \"highway-mpg\" as the predictor variable and the \"price\" as the response variable."
      ]
    },
    {
      "cell_type": "code",
      "metadata": {
        "jupyter": {
          "outputs_hidden": false
        },
        "id": "-q3ofSuTrx1n",
        "colab_type": "code",
        "colab": {}
      },
      "source": [
        "X = df[['highway-mpg']]\n",
        "Y = df['price']"
      ],
      "execution_count": 0,
      "outputs": []
    },
    {
      "cell_type": "markdown",
      "metadata": {
        "id": "jwa4lFV-rx1r",
        "colab_type": "text"
      },
      "source": [
        "Fit the linear model using highway-mpg."
      ]
    },
    {
      "cell_type": "code",
      "metadata": {
        "jupyter": {
          "outputs_hidden": false
        },
        "id": "thhixC5mrx1r",
        "colab_type": "code",
        "colab": {},
        "outputId": "f1ffe016-f60e-426a-e202-e8296a3d55b0"
      },
      "source": [
        "lm.fit(X,Y)"
      ],
      "execution_count": 0,
      "outputs": [
        {
          "output_type": "execute_result",
          "data": {
            "text/plain": [
              "LinearRegression(copy_X=True, fit_intercept=True, n_jobs=None,\n",
              "         normalize=False)"
            ]
          },
          "metadata": {
            "tags": []
          },
          "execution_count": 59
        }
      ]
    },
    {
      "cell_type": "markdown",
      "metadata": {
        "id": "Wq__abeHrx1v",
        "colab_type": "text"
      },
      "source": [
        " We can output a prediction "
      ]
    },
    {
      "cell_type": "code",
      "metadata": {
        "jupyter": {
          "outputs_hidden": false
        },
        "id": "7XYs_lx7rx1v",
        "colab_type": "code",
        "colab": {},
        "outputId": "1ce5c52d-fe65-48ff-d6f9-6abff1c4bc3d"
      },
      "source": [
        "Yhat=lm.predict(X)\n",
        "Yhat[0:5]   "
      ],
      "execution_count": 0,
      "outputs": [
        {
          "output_type": "execute_result",
          "data": {
            "text/plain": [
              "array([16236.50464347, 16236.50464347, 17058.23802179, 13771.3045085 ,\n",
              "       20345.17153508])"
            ]
          },
          "metadata": {
            "tags": []
          },
          "execution_count": 60
        }
      ]
    },
    {
      "cell_type": "markdown",
      "metadata": {
        "id": "oNrHlGlTrx18",
        "colab_type": "text"
      },
      "source": [
        "<h4>What is the value of the intercept (a)?</h4>"
      ]
    },
    {
      "cell_type": "code",
      "metadata": {
        "jupyter": {
          "outputs_hidden": false
        },
        "id": "0jK6EskVrx18",
        "colab_type": "code",
        "colab": {},
        "outputId": "a176785f-6900-4f31-a107-3257cbbe6ea4"
      },
      "source": [
        "lm.intercept_"
      ],
      "execution_count": 0,
      "outputs": [
        {
          "output_type": "execute_result",
          "data": {
            "text/plain": [
              "38423.3058581574"
            ]
          },
          "metadata": {
            "tags": []
          },
          "execution_count": 61
        }
      ]
    },
    {
      "cell_type": "markdown",
      "metadata": {
        "id": "veK3Cjvurx2B",
        "colab_type": "text"
      },
      "source": [
        "<h4>What is the value of the Slope (b)?</h4>"
      ]
    },
    {
      "cell_type": "code",
      "metadata": {
        "jupyter": {
          "outputs_hidden": false
        },
        "scrolled": true,
        "id": "WG1PP4IPrx2D",
        "colab_type": "code",
        "colab": {},
        "outputId": "7f11b2aa-595b-4f46-8631-fe5d7dc1c284"
      },
      "source": [
        "lm.coef_"
      ],
      "execution_count": 0,
      "outputs": [
        {
          "output_type": "execute_result",
          "data": {
            "text/plain": [
              "array([-821.73337832])"
            ]
          },
          "metadata": {
            "tags": []
          },
          "execution_count": 62
        }
      ]
    },
    {
      "cell_type": "markdown",
      "metadata": {
        "id": "1PsR5K8xrx2I",
        "colab_type": "text"
      },
      "source": [
        "<h3>What is the final estimated linear model we get?</h3>"
      ]
    },
    {
      "cell_type": "markdown",
      "metadata": {
        "id": "OQUQV4TZrx2J",
        "colab_type": "text"
      },
      "source": [
        "As we saw above, we should get a final linear model with the structure:"
      ]
    },
    {
      "cell_type": "markdown",
      "metadata": {
        "id": "G4IGqokLrx2J",
        "colab_type": "text"
      },
      "source": [
        "$$\n",
        "Yhat = a + b  X\n",
        "$$"
      ]
    },
    {
      "cell_type": "markdown",
      "metadata": {
        "id": "jvzzNTaCrx2K",
        "colab_type": "text"
      },
      "source": [
        "Plugging in the actual values we get:"
      ]
    },
    {
      "cell_type": "markdown",
      "metadata": {
        "id": "WZAtgNQhrx2K",
        "colab_type": "text"
      },
      "source": [
        "<b>price</b> = 38423.31 - 821.73 x  <b>highway-mpg</b>"
      ]
    },
    {
      "cell_type": "markdown",
      "metadata": {
        "id": "W3sThjCErx2L",
        "colab_type": "text"
      },
      "source": [
        "<div class=\"alert alert-danger alertdanger\" style=\"margin-top: 20px\">\n",
        "<h1>Question #1 a): </h1>\n",
        "\n",
        "<b>Create a linear regression object?</b>\n",
        "</div>"
      ]
    },
    {
      "cell_type": "code",
      "metadata": {
        "jupyter": {
          "outputs_hidden": false
        },
        "id": "UVqMz-DFrx2L",
        "colab_type": "code",
        "colab": {}
      },
      "source": [
        "# Write your code below and press Shift+Enter to execute \n",
        "lm2 = LinearRegression()"
      ],
      "execution_count": 0,
      "outputs": []
    },
    {
      "cell_type": "markdown",
      "metadata": {
        "id": "z-D2Ke0Zrx2O",
        "colab_type": "text"
      },
      "source": [
        "Double-click <b>here</b> for the solution.\n",
        "\n",
        "<!-- The answer is below:\n",
        "\n",
        "lm1 = LinearRegression()\n",
        "lm1 \n",
        "\n",
        "-->"
      ]
    },
    {
      "cell_type": "markdown",
      "metadata": {
        "id": "1EmDia2Brx2O",
        "colab_type": "text"
      },
      "source": [
        "<div class=\"alert alert-danger alertdanger\" style=\"margin-top: 20px\">\n",
        "<h1> Question #1 b): </h1>\n",
        "\n",
        "<b>Train the model using 'engine-size' as the independent variable and 'price' as the dependent variable?</b>\n",
        "</div>"
      ]
    },
    {
      "cell_type": "code",
      "metadata": {
        "jupyter": {
          "outputs_hidden": false
        },
        "id": "c4wgafffrx2P",
        "colab_type": "code",
        "colab": {},
        "outputId": "085f2095-6df2-4dd3-ae58-577ea67ec88a"
      },
      "source": [
        "# Write your code below and press Shift+Enter to execute \n",
        "X1 = df[['engine-size']]\n",
        "Y1 = df['price']\n",
        "lm2.fit(X1,Y1)"
      ],
      "execution_count": 0,
      "outputs": [
        {
          "output_type": "execute_result",
          "data": {
            "text/plain": [
              "LinearRegression(copy_X=True, fit_intercept=True, n_jobs=None,\n",
              "         normalize=False)"
            ]
          },
          "metadata": {
            "tags": []
          },
          "execution_count": 64
        }
      ]
    },
    {
      "cell_type": "markdown",
      "metadata": {
        "id": "OqDnkMVtrx2U",
        "colab_type": "text"
      },
      "source": [
        "Double-click <b>here</b> for the solution.\n",
        "\n",
        "<!-- The answer is below:\n",
        "\n",
        "lm1.fit(df[['highway-mpg']], df[['price']])\n",
        "lm1\n",
        "\n",
        "-->\n"
      ]
    },
    {
      "cell_type": "markdown",
      "metadata": {
        "id": "yY-NjNHlrx2V",
        "colab_type": "text"
      },
      "source": [
        "<div class=\"alert alert-danger alertdanger\" style=\"margin-top: 20px\">\n",
        "<h1>Question #1 c):</h1>\n",
        "\n",
        "<b>Find the slope and intercept of the model?</b>\n",
        "</div>"
      ]
    },
    {
      "cell_type": "markdown",
      "metadata": {
        "id": "mBYkIYMtrx2a",
        "colab_type": "text"
      },
      "source": [
        "<h4>Slope</h4>"
      ]
    },
    {
      "cell_type": "code",
      "metadata": {
        "jupyter": {
          "outputs_hidden": false
        },
        "id": "TEtHChxPrx2a",
        "colab_type": "code",
        "colab": {},
        "outputId": "b9dd49c4-5d14-4770-ad36-fb5967b543c2"
      },
      "source": [
        "# Write your code below and press Shift+Enter to execute \n",
        "Y1hat = lm2.predict(X1)\n",
        "print('The intercept is: ', lm2.intercept_)\n",
        "print('The slope is: ', lm2.coef_)\n"
      ],
      "execution_count": 0,
      "outputs": [
        {
          "output_type": "stream",
          "text": [
            "The intercept is:  -7963.338906281042\n",
            "The slope is:  [166.86001569]\n"
          ],
          "name": "stdout"
        }
      ]
    },
    {
      "cell_type": "markdown",
      "metadata": {
        "id": "2sfGt2Jarx2e",
        "colab_type": "text"
      },
      "source": [
        "<h4>Intercept</h4>"
      ]
    },
    {
      "cell_type": "code",
      "metadata": {
        "jupyter": {
          "outputs_hidden": false
        },
        "id": "G4F0DcRxrx2e",
        "colab_type": "code",
        "colab": {},
        "outputId": "a5f07aed-d566-423e-d5a2-e3e3608f8e47"
      },
      "source": [
        "# Write your code below and press Shift+Enter to execute \n",
        "lm2.intercept_"
      ],
      "execution_count": 0,
      "outputs": [
        {
          "output_type": "execute_result",
          "data": {
            "text/plain": [
              "-7963.338906281042"
            ]
          },
          "metadata": {
            "tags": []
          },
          "execution_count": 66
        }
      ]
    },
    {
      "cell_type": "markdown",
      "metadata": {
        "id": "jGs86emgrx2h",
        "colab_type": "text"
      },
      "source": [
        "Double-click <b>here</b> for the solution.\n",
        "\n",
        "<!-- The answer is below:\n",
        "\n",
        "# Slope \n",
        "lm1.coef_\n",
        "# Intercept\n",
        "lm1.intercept_\n",
        "\n",
        "-->"
      ]
    },
    {
      "cell_type": "markdown",
      "metadata": {
        "id": "gHV_l6nprx2h",
        "colab_type": "text"
      },
      "source": [
        "<div class=\"alert alert-danger alertdanger\" style=\"margin-top: 20px\">\n",
        "<h1>Question #1 d): </h1>\n",
        "\n",
        "<b>What is the equation of the predicted line. You can use x and yhat or 'engine-size' or 'price'?</b>\n",
        "</div>"
      ]
    },
    {
      "cell_type": "markdown",
      "metadata": {
        "id": "OFCy0ljirx2h",
        "colab_type": "text"
      },
      "source": [
        "# You can type you answer here\n"
      ]
    },
    {
      "cell_type": "code",
      "metadata": {
        "id": "tRlC_h6drx2i",
        "colab_type": "code",
        "colab": {},
        "outputId": "48d404bf-7522-43e4-c9cd-b78c2ceecf14"
      },
      "source": [
        "price = -7963.338906281042 + 166.86001569 * engine-size"
      ],
      "execution_count": 0,
      "outputs": [
        {
          "output_type": "error",
          "ename": "NameError",
          "evalue": "name 'engine' is not defined",
          "traceback": [
            "\u001b[0;31m---------------------------------------------------------------------------\u001b[0m",
            "\u001b[0;31mNameError\u001b[0m                                 Traceback (most recent call last)",
            "\u001b[0;32m<ipython-input-67-9794c6b88278>\u001b[0m in \u001b[0;36m<module>\u001b[0;34m\u001b[0m\n\u001b[0;32m----> 1\u001b[0;31m \u001b[0mprice\u001b[0m \u001b[0;34m=\u001b[0m \u001b[0;34m-\u001b[0m\u001b[0;36m7963.338906281042\u001b[0m \u001b[0;34m+\u001b[0m \u001b[0;36m166.86001569\u001b[0m \u001b[0;34m*\u001b[0m \u001b[0mengine\u001b[0m\u001b[0;34m-\u001b[0m\u001b[0msize\u001b[0m\u001b[0;34m\u001b[0m\u001b[0;34m\u001b[0m\u001b[0m\n\u001b[0m",
            "\u001b[0;31mNameError\u001b[0m: name 'engine' is not defined"
          ]
        }
      ]
    },
    {
      "cell_type": "markdown",
      "metadata": {
        "id": "BZrYVU1Qrx2k",
        "colab_type": "text"
      },
      "source": [
        "Double-click <b>here</b> for the solution.\n",
        "\n",
        "<!-- The answer is below:\n",
        "\n",
        "# using X and Y  \n",
        "Yhat=-7963.34 + 166.86*X\n",
        "\n",
        "Price=-7963.34 + 166.86*engine-size\n",
        "\n",
        "-->"
      ]
    },
    {
      "cell_type": "markdown",
      "metadata": {
        "id": "v-P2EQrMrx2k",
        "colab_type": "text"
      },
      "source": [
        "<h4>Multiple Linear Regression</h4>"
      ]
    },
    {
      "cell_type": "markdown",
      "metadata": {
        "id": "7qBKeF-Jrx2l",
        "colab_type": "text"
      },
      "source": [
        "<p>What if we want to predict car price using more than one variable?</p>\n",
        "\n",
        "<p>If we want to use more variables in our model to predict car price, we can use <b>Multiple Linear Regression</b>.\n",
        "Multiple Linear Regression is very similar to Simple Linear Regression, but this method is used to explain the relationship between one continuous response (dependent) variable and <b>two or more</b> predictor (independent) variables.\n",
        "Most of the real-world regression models involve multiple predictors. We will illustrate the structure by using four predictor variables, but these results can generalize to any integer:</p>"
      ]
    },
    {
      "cell_type": "markdown",
      "metadata": {
        "id": "Uv4ER11drx2l",
        "colab_type": "text"
      },
      "source": [
        "$$\n",
        "Y: Response \\ Variable\\\\\n",
        "X_1 :Predictor\\ Variable \\ 1\\\\\n",
        "X_2: Predictor\\ Variable \\ 2\\\\\n",
        "X_3: Predictor\\ Variable \\ 3\\\\\n",
        "X_4: Predictor\\ Variable \\ 4\\\\\n",
        "$$"
      ]
    },
    {
      "cell_type": "markdown",
      "metadata": {
        "id": "dINpzqcurx2m",
        "colab_type": "text"
      },
      "source": [
        "$$\n",
        "a: intercept\\\\\n",
        "b_1 :coefficients \\ of\\ Variable \\ 1\\\\\n",
        "b_2: coefficients \\ of\\ Variable \\ 2\\\\\n",
        "b_3: coefficients \\ of\\ Variable \\ 3\\\\\n",
        "b_4: coefficients \\ of\\ Variable \\ 4\\\\\n",
        "$$"
      ]
    },
    {
      "cell_type": "markdown",
      "metadata": {
        "id": "3lPWejJ0rx2m",
        "colab_type": "text"
      },
      "source": [
        "The equation is given by"
      ]
    },
    {
      "cell_type": "markdown",
      "metadata": {
        "id": "KU_wnQ2-rx2m",
        "colab_type": "text"
      },
      "source": [
        "$$\n",
        "Yhat = a + b_1 X_1 + b_2 X_2 + b_3 X_3 + b_4 X_4\n",
        "$$"
      ]
    },
    {
      "cell_type": "markdown",
      "metadata": {
        "id": "Uctu2l5Prx2n",
        "colab_type": "text"
      },
      "source": [
        "<p>From the previous section  we know that other good predictors of price could be:</p>\n",
        "<ul>\n",
        "    <li>Horsepower</li>\n",
        "    <li>Curb-weight</li>\n",
        "    <li>Engine-size</li>\n",
        "    <li>Highway-mpg</li>\n",
        "</ul>\n",
        "Let's develop a model using these variables as the predictor variables."
      ]
    },
    {
      "cell_type": "code",
      "metadata": {
        "id": "kpv2nEaHrx2o",
        "colab_type": "code",
        "colab": {}
      },
      "source": [
        "Z = df[['horsepower', 'curb-weight', 'engine-size', 'highway-mpg']]"
      ],
      "execution_count": 0,
      "outputs": []
    },
    {
      "cell_type": "markdown",
      "metadata": {
        "id": "dCdB__DXrx2t",
        "colab_type": "text"
      },
      "source": [
        "Fit the linear model using the four above-mentioned variables."
      ]
    },
    {
      "cell_type": "code",
      "metadata": {
        "jupyter": {
          "outputs_hidden": false
        },
        "id": "UwxfnqD5rx2t",
        "colab_type": "code",
        "colab": {},
        "outputId": "7d270f93-49cf-4e5a-fdd2-09dbaf966708"
      },
      "source": [
        "lm.fit(Z, df['price']) #can we get the intercept and slope values without Yhat= lm.predict(X)? Yes, predict only shows predicted values of dependant variable."
      ],
      "execution_count": 0,
      "outputs": [
        {
          "output_type": "execute_result",
          "data": {
            "text/plain": [
              "LinearRegression(copy_X=True, fit_intercept=True, n_jobs=None,\n",
              "         normalize=False)"
            ]
          },
          "metadata": {
            "tags": []
          },
          "execution_count": 69
        }
      ]
    },
    {
      "cell_type": "markdown",
      "metadata": {
        "id": "Y3Uvq4Girx2w",
        "colab_type": "text"
      },
      "source": [
        "What is the value of the intercept(a)?"
      ]
    },
    {
      "cell_type": "code",
      "metadata": {
        "jupyter": {
          "outputs_hidden": false
        },
        "id": "ENzQV1Firx2w",
        "colab_type": "code",
        "colab": {},
        "outputId": "0e47b59a-c9fa-492b-81ae-8735ac5664cc"
      },
      "source": [
        "lm.intercept_"
      ],
      "execution_count": 0,
      "outputs": [
        {
          "output_type": "execute_result",
          "data": {
            "text/plain": [
              "-15806.62462632922"
            ]
          },
          "metadata": {
            "tags": []
          },
          "execution_count": 70
        }
      ]
    },
    {
      "cell_type": "markdown",
      "metadata": {
        "id": "lblpfXM2rx2y",
        "colab_type": "text"
      },
      "source": [
        "What are the values of the coefficients (b1, b2, b3, b4)?"
      ]
    },
    {
      "cell_type": "code",
      "metadata": {
        "jupyter": {
          "outputs_hidden": false
        },
        "id": "wfm_ZBMXrx2z",
        "colab_type": "code",
        "colab": {},
        "outputId": "7cbdf011-79c1-4ebd-c93c-7c7c4288227f"
      },
      "source": [
        "lm.coef_"
      ],
      "execution_count": 0,
      "outputs": [
        {
          "output_type": "execute_result",
          "data": {
            "text/plain": [
              "array([53.49574423,  4.70770099, 81.53026382, 36.05748882])"
            ]
          },
          "metadata": {
            "tags": []
          },
          "execution_count": 71
        }
      ]
    },
    {
      "cell_type": "markdown",
      "metadata": {
        "id": "4i-4tislrx22",
        "colab_type": "text"
      },
      "source": [
        " What is the final estimated linear model that we get?"
      ]
    },
    {
      "cell_type": "markdown",
      "metadata": {
        "id": "fYOLUrSurx22",
        "colab_type": "text"
      },
      "source": [
        "As we saw above, we should get a final linear function with the structure:\n",
        "\n",
        "$$\n",
        "Yhat = a + b_1 X_1 + b_2 X_2 + b_3 X_3 + b_4 X_4\n",
        "$$\n",
        "\n",
        "What is the linear function we get in this example?"
      ]
    },
    {
      "cell_type": "markdown",
      "metadata": {
        "id": "lNdu11ASrx22",
        "colab_type": "text"
      },
      "source": [
        "<b>Price</b> = -15678.742628061467 + 52.65851272 x <b>horsepower</b> + 4.69878948 x <b>curb-weight</b> + 81.95906216 x <b>engine-size</b> + 33.58258185 x <b>highway-mpg</b>"
      ]
    },
    {
      "cell_type": "markdown",
      "metadata": {
        "id": "HShya9nurx23",
        "colab_type": "text"
      },
      "source": [
        "<div class=\"alert alert-danger alertdanger\" style=\"margin-top: 20px\">\n",
        "<h1> Question  #2 a): </h1>\n",
        "Create and train a Multiple Linear Regression model \"lm2\" where the response variable is price, and the predictor variable is 'normalized-losses' and  'highway-mpg'.\n",
        "</div>"
      ]
    },
    {
      "cell_type": "code",
      "metadata": {
        "jupyter": {
          "outputs_hidden": false
        },
        "id": "q8UV7FWlrx23",
        "colab_type": "code",
        "colab": {},
        "outputId": "2053cc0c-da8d-4378-95e0-34f6bc8aa2ac"
      },
      "source": [
        "# Write your code below and press Shift+Enter to execute \n",
        "df_multipredictor = df[['normalized-losses', 'highway-mpg']]\n",
        "lm2.fit(df_multipredictor, df['price'])"
      ],
      "execution_count": 0,
      "outputs": [
        {
          "output_type": "execute_result",
          "data": {
            "text/plain": [
              "LinearRegression(copy_X=True, fit_intercept=True, n_jobs=None,\n",
              "         normalize=False)"
            ]
          },
          "metadata": {
            "tags": []
          },
          "execution_count": 72
        }
      ]
    },
    {
      "cell_type": "markdown",
      "metadata": {
        "id": "Onc7zbrMrx2-",
        "colab_type": "text"
      },
      "source": [
        "Double-click <b>here</b> for the solution.\n",
        "\n",
        "<!-- The answer is below:\n",
        "\n",
        "lm2 = LinearRegression()\n",
        "lm2.fit(df[['normalized-losses' , 'highway-mpg']],df['price'])\n",
        "\n",
        "-->"
      ]
    },
    {
      "cell_type": "markdown",
      "metadata": {
        "id": "BwR3F1Bdrx2_",
        "colab_type": "text"
      },
      "source": [
        "<div class=\"alert alert-danger alertdanger\" style=\"margin-top: 20px\">\n",
        "<h1>Question  #2 b): </h1>\n",
        "<b>Find the coefficient of the model?</b>\n",
        "</div>"
      ]
    },
    {
      "cell_type": "code",
      "metadata": {
        "id": "WEdrLxdKrx2_",
        "colab_type": "code",
        "colab": {},
        "outputId": "7e12e8a8-c15a-457c-d115-03fb9c1bf635"
      },
      "source": [
        "# Write your code below and press Shift+Enter to execute \n",
        "lm2.coef_"
      ],
      "execution_count": 0,
      "outputs": [
        {
          "output_type": "execute_result",
          "data": {
            "text/plain": [
              "array([   1.49789586, -820.45434016])"
            ]
          },
          "metadata": {
            "tags": []
          },
          "execution_count": 73
        }
      ]
    },
    {
      "cell_type": "markdown",
      "metadata": {
        "id": "7R2L8JPcrx3C",
        "colab_type": "text"
      },
      "source": [
        "Double-click <b>here</b> for the solution.\n",
        "\n",
        "<!-- The answer is below:\n",
        "\n",
        "lm2.coef_\n",
        "\n",
        "-->"
      ]
    },
    {
      "cell_type": "markdown",
      "metadata": {
        "id": "ZUmnCDIjrx3D",
        "colab_type": "text"
      },
      "source": [
        "<h3>2)  Model Evaluation using Visualization</h3>"
      ]
    },
    {
      "cell_type": "markdown",
      "metadata": {
        "id": "D2484zgUrx3D",
        "colab_type": "text"
      },
      "source": [
        "Now that we've developed some models, how do we evaluate our models and how do we choose the best one? One way to do this is by using visualization."
      ]
    },
    {
      "cell_type": "markdown",
      "metadata": {
        "id": "ovq-h8eArx3E",
        "colab_type": "text"
      },
      "source": [
        "import the visualization package: seaborn"
      ]
    },
    {
      "cell_type": "code",
      "metadata": {
        "id": "vQ789oqRrx3E",
        "colab_type": "code",
        "colab": {}
      },
      "source": [
        "# import the visualization package: seaborn\n",
        "import seaborn as sns\n",
        "%matplotlib inline "
      ],
      "execution_count": 0,
      "outputs": []
    },
    {
      "cell_type": "markdown",
      "metadata": {
        "id": "Y9dEz4RRrx3G",
        "colab_type": "text"
      },
      "source": [
        "<h3>Regression Plot</h3>"
      ]
    },
    {
      "cell_type": "markdown",
      "metadata": {
        "id": "ZcWGZpTXrx3H",
        "colab_type": "text"
      },
      "source": [
        "<p>When it comes to simple linear regression, an excellent way to visualize the fit of our model is by using <b>regression plots</b>.</p>\n",
        "\n",
        "<p>This plot will show a combination of a scattered data points (a <b>scatter plot</b>), as well as the fitted <b>linear regression</b> line going through the data. This will give us a reasonable estimate of the relationship between the two variables, the strength of the correlation, as well as the direction (positive or negative correlation).</p>"
      ]
    },
    {
      "cell_type": "markdown",
      "metadata": {
        "id": "xftg-HpPrx3H",
        "colab_type": "text"
      },
      "source": [
        " Let's visualize Horsepower as potential predictor variable of price:"
      ]
    },
    {
      "cell_type": "code",
      "metadata": {
        "jupyter": {
          "outputs_hidden": false
        },
        "id": "gygKgcK2rx3H",
        "colab_type": "code",
        "colab": {},
        "outputId": "d5ff5ce0-2816-495b-d8db-df19893b436d"
      },
      "source": [
        "width = 12\n",
        "height = 10\n",
        "plt.figure(figsize=(width, height))\n",
        "sns.regplot(x=\"highway-mpg\", y=\"price\", data=df)\n",
        "plt.ylim(0,)"
      ],
      "execution_count": 0,
      "outputs": [
        {
          "output_type": "execute_result",
          "data": {
            "text/plain": [
              "(0, 48293.39450867571)"
            ]
          },
          "metadata": {
            "tags": []
          },
          "execution_count": 75
        },
        {
          "output_type": "display_data",
          "data": {
            "image/png": "[encoded data removed]",
            "text/plain": [
              "<Figure size 864x720 with 1 Axes>"
            ]
          },
          "metadata": {
            "tags": [],
            "needs_background": "light"
          }
        }
      ]
    },
    {
      "cell_type": "markdown",
      "metadata": {
        "id": "eTPjnDnSrx3L",
        "colab_type": "text"
      },
      "source": [
        "<p>We can see from this plot that price is negatively correlated to highway-mpg, since the regression slope is negative.\n",
        "One thing to keep in mind when looking at a regression plot is to pay attention to how scattered the data points are around the regression line. This will give you a good indication of the variance of the data, and whether a linear model would be the best fit or not. If the data is too far off from the line, this linear model might not be the best model for this data. Let's compare this plot to the regression plot of \"peak-rpm\".</p>"
      ]
    },
    {
      "cell_type": "code",
      "metadata": {
        "jupyter": {
          "outputs_hidden": false
        },
        "id": "yM5-fWU3rx3M",
        "colab_type": "code",
        "colab": {},
        "outputId": "3f33cddb-f90d-4df3-dd18-969ab1dd82fb"
      },
      "source": [
        "plt.figure(figsize=(width, height))\n",
        "sns.regplot(x=\"peak-rpm\", y=\"price\", data=df)\n",
        "plt.ylim(0,)"
      ],
      "execution_count": 0,
      "outputs": [
        {
          "output_type": "execute_result",
          "data": {
            "text/plain": [
              "(0, 47422.919330307624)"
            ]
          },
          "metadata": {
            "tags": []
          },
          "execution_count": 76
        },
        {
          "output_type": "display_data",
          "data": {
            "image/png": "[encoded data removed]",
            "text/plain": [
              "<Figure size 864x720 with 1 Axes>"
            ]
          },
          "metadata": {
            "tags": [],
            "needs_background": "light"
          }
        }
      ]
    },
    {
      "cell_type": "markdown",
      "metadata": {
        "id": "c5PUnlAkrx3R",
        "colab_type": "text"
      },
      "source": [
        "<p>Comparing the regression plot of \"peak-rpm\" and \"highway-mpg\" we see that the points for \"highway-mpg\" are much closer to the generated line and on the average decrease. The points for \"peak-rpm\" have more spread around the predicted line, and it is much harder to determine if the points are decreasing or increasing as the \"highway-mpg\" increases.</p>"
      ]
    },
    {
      "cell_type": "markdown",
      "metadata": {
        "id": "tD5TAemsrx3S",
        "colab_type": "text"
      },
      "source": [
        "<div class=\"alert alert-danger alertdanger\" style=\"margin-top: 20px\">\n",
        "<h1>Question #3:</h1>\n",
        "<b>Given the regression plots above is \"peak-rpm\" or \"highway-mpg\" more strongly correlated with \"price\". Use the method  \".corr()\" to verify your answer.</b>\n",
        "</div>"
      ]
    },
    {
      "cell_type": "code",
      "metadata": {
        "id": "6q_P4XTqrx3S",
        "colab_type": "code",
        "colab": {},
        "outputId": "574a66ab-7f5b-4ad6-93f4-7ee00f70a2ad"
      },
      "source": [
        "# Write your code below and press Shift+Enter to execute \n",
        "df_correlation = df[['peak-rpm', 'highway-mpg', 'price']]\n",
        "df_correlation.corr()"
      ],
      "execution_count": 0,
      "outputs": [
        {
          "output_type": "execute_result",
          "data": {
            "text/html": [
              "<div>\n",
              "<style scoped>\n",
              "    .dataframe tbody tr th:only-of-type {\n",
              "        vertical-align: middle;\n",
              "    }\n",
              "\n",
              "    .dataframe tbody tr th {\n",
              "        vertical-align: top;\n",
              "    }\n",
              "\n",
              "    .dataframe thead th {\n",
              "        text-align: right;\n",
              "    }\n",
              "</style>\n",
              "<table border=\"1\" class=\"dataframe\">\n",
              "  <thead>\n",
              "    <tr style=\"text-align: right;\">\n",
              "      <th></th>\n",
              "      <th>peak-rpm</th>\n",
              "      <th>highway-mpg</th>\n",
              "      <th>price</th>\n",
              "    </tr>\n",
              "  </thead>\n",
              "  <tbody>\n",
              "    <tr>\n",
              "      <th>peak-rpm</th>\n",
              "      <td>1.000000</td>\n",
              "      <td>-0.058598</td>\n",
              "      <td>-0.101616</td>\n",
              "    </tr>\n",
              "    <tr>\n",
              "      <th>highway-mpg</th>\n",
              "      <td>-0.058598</td>\n",
              "      <td>1.000000</td>\n",
              "      <td>-0.704692</td>\n",
              "    </tr>\n",
              "    <tr>\n",
              "      <th>price</th>\n",
              "      <td>-0.101616</td>\n",
              "      <td>-0.704692</td>\n",
              "      <td>1.000000</td>\n",
              "    </tr>\n",
              "  </tbody>\n",
              "</table>\n",
              "</div>"
            ],
            "text/plain": [
              "             peak-rpm  highway-mpg     price\n",
              "peak-rpm     1.000000    -0.058598 -0.101616\n",
              "highway-mpg -0.058598     1.000000 -0.704692\n",
              "price       -0.101616    -0.704692  1.000000"
            ]
          },
          "metadata": {
            "tags": []
          },
          "execution_count": 77
        }
      ]
    },
    {
      "cell_type": "markdown",
      "metadata": {
        "id": "2Vv23WDcrx3X",
        "colab_type": "text"
      },
      "source": [
        "Double-click <b>here</b> for the solution.\n",
        "\n",
        "<!-- The answer is below:\n",
        "\n",
        "The variable \"highway-mpg\" has a stronger correlation with \"price\", it is approximate -0.704692  compared to   \"peak-rpm\" which is approximate     -0.101616. You can verify it using the following command:\n",
        "df[[\"peak-rpm\",\"highway-mpg\",\"price\"]].corr()\n",
        "\n",
        "-->"
      ]
    },
    {
      "cell_type": "markdown",
      "metadata": {
        "id": "rdzKVKWCrx3Y",
        "colab_type": "text"
      },
      "source": [
        "<h3>Residual Plot</h3>\n",
        "\n",
        "<p>A good way to visualize the variance of the data is to use a residual plot.</p>\n",
        "\n",
        "<p>What is a <b>residual</b>?</p>\n",
        "\n",
        "<p>The difference between the observed value (y) and the predicted value (Yhat) is called the residual (e). When we look at a regression plot, the residual is the distance from the data point to the fitted regression line.</p>\n",
        "\n",
        "<p>So what is a <b>residual plot</b>?</p>\n",
        "\n",
        "<p>A residual plot is a graph that shows the residuals on the vertical y-axis and the independent variable on the horizontal x-axis.</p>\n",
        "\n",
        "<p>What do we pay attention to when looking at a residual plot?</p>\n",
        "\n",
        "<p>We look at the spread of the residuals:</p>\n",
        "\n",
        "<p>- If the points in a residual plot are <b>randomly spread out around the x-axis</b>, then a <b>linear model is appropriate</b> for the data. Why is that? Randomly spread out residuals means that the variance is constant, and thus the linear model is a good fit for this data.</p>"
      ]
    },
    {
      "cell_type": "code",
      "metadata": {
        "jupyter": {
          "outputs_hidden": false
        },
        "id": "1lJyh-9crx3Y",
        "colab_type": "code",
        "colab": {},
        "outputId": "639a18c3-bd75-40aa-856e-4102118393a5"
      },
      "source": [
        "width = 12\n",
        "height = 10\n",
        "plt.figure(figsize=(width, height))\n",
        "sns.residplot(df['highway-mpg'], df['price'])\n",
        "plt.show()"
      ],
      "execution_count": 0,
      "outputs": [
        {
          "output_type": "display_data",
          "data": {
            "image/png": "[encoded data removed]",
            "text/plain": [
              "<Figure size 864x720 with 1 Axes>"
            ]
          },
          "metadata": {
            "tags": [],
            "needs_background": "light"
          }
        }
      ]
    },
    {
      "cell_type": "markdown",
      "metadata": {
        "id": "Od_SceQWrx3f",
        "colab_type": "text"
      },
      "source": [
        "<i>What is this plot telling us?</i>\n",
        "\n",
        "<p>We can see from this residual plot that the residuals are not randomly spread around the x-axis, which leads us to believe that maybe a non-linear model is more appropriate for this data.</p>"
      ]
    },
    {
      "cell_type": "code",
      "metadata": {
        "id": "ciBR2-O9rx3f",
        "colab_type": "code",
        "colab": {}
      },
      "source": [
        "#what I did not quite understand: residuals and their scattering arrount X axis indicates whether linear or non-linear model is best fet for the data"
      ],
      "execution_count": 0,
      "outputs": []
    },
    {
      "cell_type": "markdown",
      "metadata": {
        "id": "neVx3Z3Mrx3h",
        "colab_type": "text"
      },
      "source": [
        "<h3>Multiple Linear Regression</h3>"
      ]
    },
    {
      "cell_type": "markdown",
      "metadata": {
        "id": "tJ94uLT2rx3i",
        "colab_type": "text"
      },
      "source": [
        "<p>How do we visualize a model for Multiple Linear Regression? This gets a bit more complicated because you can't visualize it with regression or residual plot.</p>\n",
        "\n",
        "<p>One way to look at the fit of the model is by looking at the <b>distribution plot</b>: We can look at the distribution of the fitted values that result from the model and compare it to the distribution of the actual values.</p>"
      ]
    },
    {
      "cell_type": "markdown",
      "metadata": {
        "id": "5SDCG0wirx3i",
        "colab_type": "text"
      },
      "source": [
        "First lets make a prediction "
      ]
    },
    {
      "cell_type": "code",
      "metadata": {
        "jupyter": {
          "outputs_hidden": false
        },
        "id": "by-HLIOnrx3j",
        "colab_type": "code",
        "colab": {}
      },
      "source": [
        "Y_hat = lm.predict(Z) #Z is dataframe containing mutiple predictors"
      ],
      "execution_count": 0,
      "outputs": []
    },
    {
      "cell_type": "code",
      "metadata": {
        "jupyter": {
          "outputs_hidden": false
        },
        "id": "K9DgWN4Zrx3n",
        "colab_type": "code",
        "colab": {},
        "outputId": "db40dc03-46ac-411e-b955-00453a8ccfec"
      },
      "source": [
        "plt.figure(figsize=(width, height))\n",
        "\n",
        "\n",
        "ax1 = sns.distplot(df['price'], hist=False, color=\"r\", label=\"Actual Value\")\n",
        "sns.distplot(Yhat, hist=False, color=\"b\", label=\"Fitted Values\" , ax=ax1) #ax= overlap?\n",
        "\n",
        "\n",
        "plt.title('Actual vs Fitted Values for Price')\n",
        "plt.xlabel('Price (in dollars)')\n",
        "plt.ylabel('Proportion of Cars')\n",
        "\n",
        "plt.show()\n",
        "plt.close()"
      ],
      "execution_count": 0,
      "outputs": [
        {
          "output_type": "display_data",
          "data": {
            "image/png": "[encoded data removed]",
            "text/plain": [
              "<Figure size 864x720 with 1 Axes>"
            ]
          },
          "metadata": {
            "tags": [],
            "needs_background": "light"
          }
        }
      ]
    },
    {
      "cell_type": "markdown",
      "metadata": {
        "id": "ajuMnSJKrx3x",
        "colab_type": "text"
      },
      "source": [
        "<p>We can see that the fitted values are reasonably close to the actual values, since the two distributions overlap a bit. However, there is definitely some room for improvement.</p>"
      ]
    },
    {
      "cell_type": "markdown",
      "metadata": {
        "id": "C0WWM7jprx3z",
        "colab_type": "text"
      },
      "source": [
        "<h2>Part 3: Polynomial Regression and Pipelines</h2>"
      ]
    },
    {
      "cell_type": "markdown",
      "metadata": {
        "id": "GW51bZ58rx3z",
        "colab_type": "text"
      },
      "source": [
        "<p><b>Polynomial regression</b> is a particular case of the general linear regression model or multiple linear regression models.</p> \n",
        "<p>We get non-linear relationships by squaring or setting higher-order terms of the predictor variables.</p>\n",
        "\n",
        "<p>There are different orders of polynomial regression:</p>"
      ]
    },
    {
      "cell_type": "code",
      "metadata": {
        "id": "DBdao5tErx30",
        "colab_type": "code",
        "colab": {}
      },
      "source": [
        "#what does this mean:We get non-linear relationships by squaring or setting higher-order terms of the predictor variables."
      ],
      "execution_count": 0,
      "outputs": []
    },
    {
      "cell_type": "markdown",
      "metadata": {
        "id": "HT9awHnlrx33",
        "colab_type": "text"
      },
      "source": [
        "<center><b>Quadratic - 2nd order</b></center>\n",
        "$$\n",
        "Yhat = a + b_1 X^2 +b_2 X^2 \n",
        "$$\n",
        "\n",
        "\n",
        "<center><b>Cubic - 3rd order</b></center>\n",
        "$$\n",
        "Yhat = a + b_1 X^2 +b_2 X^2 +b_3 X^3\\\\\n",
        "$$\n",
        "\n",
        "\n",
        "<center><b>Higher order</b>:</center>\n",
        "$$\n",
        "Y = a + b_1 X^2 +b_2 X^2 +b_3 X^3 ....\\\\\n",
        "$$"
      ]
    },
    {
      "cell_type": "markdown",
      "metadata": {
        "id": "fZS0UFMlrx34",
        "colab_type": "text"
      },
      "source": [
        "<p>We saw earlier that a linear model did not provide the best fit while using highway-mpg as the predictor variable. Let's see if we can try fitting a polynomial model to the data instead.</p>"
      ]
    },
    {
      "cell_type": "markdown",
      "metadata": {
        "id": "oM7Ls8Cjrx35",
        "colab_type": "text"
      },
      "source": [
        "<p>We will use the following function to plot the data:</p>"
      ]
    },
    {
      "cell_type": "code",
      "metadata": {
        "jupyter": {
          "outputs_hidden": false
        },
        "id": "rtNmuk9crx35",
        "colab_type": "code",
        "colab": {}
      },
      "source": [
        "def PlotPolly(model, independent_variable, dependent_variable, Name):\n",
        "    x_new = np.linspace(15, 55, 100)\n",
        "    y_new = model(x_new)\n",
        "\n",
        "    plt.plot(independent_variable, dependent_variable, '.', x_new, y_new, '-')\n",
        "    plt.title('Polynomial Fit with Matplotlib for Price ~ Length')\n",
        "    ax = plt.gca()\n",
        "    ax.set_facecolor((0.898, 0.898, 0.898))\n",
        "    fig = plt.gcf()\n",
        "    plt.xlabel(Name)\n",
        "    plt.ylabel('Price of Cars')\n",
        "\n",
        "    plt.show()\n",
        "    plt.close()"
      ],
      "execution_count": 0,
      "outputs": []
    },
    {
      "cell_type": "markdown",
      "metadata": {
        "id": "IotxtV08rx39",
        "colab_type": "text"
      },
      "source": [
        "lets get the variables"
      ]
    },
    {
      "cell_type": "code",
      "metadata": {
        "jupyter": {
          "outputs_hidden": false
        },
        "id": "3z9n_ZmKrx4B",
        "colab_type": "code",
        "colab": {}
      },
      "source": [
        "x = df['highway-mpg']\n",
        "y = df['price']"
      ],
      "execution_count": 0,
      "outputs": []
    },
    {
      "cell_type": "markdown",
      "metadata": {
        "id": "HBK__Xcorx4E",
        "colab_type": "text"
      },
      "source": [
        "Let's fit the polynomial using the function <b>polyfit</b>, then use the function <b>poly1d</b> to display the polynomial function."
      ]
    },
    {
      "cell_type": "code",
      "metadata": {
        "jupyter": {
          "outputs_hidden": false
        },
        "id": "V_r2-UvGrx4F",
        "colab_type": "code",
        "colab": {},
        "outputId": "3e8f84e2-5e37-462f-9258-9fa2f5e650a5"
      },
      "source": [
        "# Here we use a polynomial of the 3rd order (cubic) \n",
        "f = np.polyfit(x, y, 3)\n",
        "p = np.poly1d(f)\n",
        "print(p)"
      ],
      "execution_count": 0,
      "outputs": [
        {
          "output_type": "stream",
          "text": [
            "        3         2\n",
            "-1.557 x + 204.8 x - 8965 x + 1.379e+05\n"
          ],
          "name": "stdout"
        }
      ]
    },
    {
      "cell_type": "markdown",
      "metadata": {
        "id": "vP3ETNGnrx4K",
        "colab_type": "text"
      },
      "source": [
        " Let's plot the function "
      ]
    },
    {
      "cell_type": "code",
      "metadata": {
        "jupyter": {
          "outputs_hidden": false
        },
        "id": "3w9ceByMrx4Q",
        "colab_type": "code",
        "colab": {},
        "outputId": "1b8c5ce9-1ac4-40ae-f55d-c2b69c8deba8"
      },
      "source": [
        "PlotPolly(p, x, y, 'highway-mpg')"
      ],
      "execution_count": 0,
      "outputs": [
        {
          "output_type": "display_data",
          "data": {
            "image/png": "[encoded data removed]",
            "text/plain": [
              "<Figure size 432x288 with 1 Axes>"
            ]
          },
          "metadata": {
            "tags": [],
            "needs_background": "light"
          }
        }
      ]
    },
    {
      "cell_type": "code",
      "metadata": {
        "jupyter": {
          "outputs_hidden": false
        },
        "id": "KtkYPedIrx4a",
        "colab_type": "code",
        "colab": {},
        "outputId": "bc0abf5b-89d8-445a-c769-28847471461c"
      },
      "source": [
        "np.polyfit(x, y, 3)"
      ],
      "execution_count": 0,
      "outputs": [
        {
          "output_type": "execute_result",
          "data": {
            "text/plain": [
              "array([-1.55663829e+00,  2.04754306e+02, -8.96543312e+03,  1.37923594e+05])"
            ]
          },
          "metadata": {
            "tags": []
          },
          "execution_count": 87
        }
      ]
    },
    {
      "cell_type": "markdown",
      "metadata": {
        "id": "5gChIONkrx4h",
        "colab_type": "text"
      },
      "source": [
        "<p>We can already see from plotting that this polynomial model performs better than the linear model. This is because the generated polynomial function  \"hits\" more of the data points.</p>"
      ]
    },
    {
      "cell_type": "markdown",
      "metadata": {
        "id": "hfgUHRXCrx4i",
        "colab_type": "text"
      },
      "source": [
        "<div class=\"alert alert-danger alertdanger\" style=\"margin-top: 20px\">\n",
        "<h1>Question  #4:</h1>\n",
        "<b>Create 11 order polynomial model with the variables x and y from above?</b>\n",
        "</div>"
      ]
    },
    {
      "cell_type": "code",
      "metadata": {
        "id": "5Vx8G9tOrx4j",
        "colab_type": "code",
        "colab": {},
        "outputId": "df568117-a03a-42b6-c1e7-d968be8d2a52"
      },
      "source": [
        "# Write your code below and press Shift+Enter to execute \n",
        "f1 = np.polyfit(x,y,11)\n",
        "p1 = np.poly1d(f1)\n",
        "print(p1)\n",
        "PlotPolly(p1,x,y,'highway-mpg')"
      ],
      "execution_count": 0,
      "outputs": [
        {
          "output_type": "stream",
          "text": [
            "            11             10             9           8         7\n",
            "-1.243e-08 x  + 4.722e-06 x  - 0.0008028 x + 0.08056 x - 5.297 x\n",
            "          6        5             4             3             2\n",
            " + 239.5 x - 7588 x + 1.684e+05 x - 2.565e+06 x + 2.551e+07 x - 1.491e+08 x + 3.879e+08\n"
          ],
          "name": "stdout"
        },
        {
          "output_type": "display_data",
          "data": {
            "image/png": "[encoded data removed]",
            "text/plain": [
              "<Figure size 432x288 with 1 Axes>"
            ]
          },
          "metadata": {
            "tags": [],
            "needs_background": "light"
          }
        }
      ]
    },
    {
      "cell_type": "markdown",
      "metadata": {
        "id": "tWleZm-crx4m",
        "colab_type": "text"
      },
      "source": [
        "Double-click <b>here</b> for the solution.\n",
        "\n",
        "<!-- The answer is below:\n",
        "\n",
        "# calculate polynomial\n",
        "# Here we use a polynomial of the 11rd order (cubic) \n",
        "f1 = np.polyfit(x, y, 11)\n",
        "p1 = np.poly1d(f1)\n",
        "print(p)\n",
        "PlotPolly(p1,x,y, 'Highway MPG')\n",
        "\n",
        "-->"
      ]
    },
    {
      "cell_type": "markdown",
      "metadata": {
        "id": "_yg38seUrx4n",
        "colab_type": "text"
      },
      "source": [
        "<p>The analytical expression for Multivariate Polynomial function gets complicated. For example, the expression for a second-order (degree=2)polynomial with two variables is given by:</p>"
      ]
    },
    {
      "cell_type": "markdown",
      "metadata": {
        "id": "v9KhNVJ8rx4o",
        "colab_type": "text"
      },
      "source": [
        "$$\n",
        "Yhat = a + b_1 X_1 +b_2 X_2 +b_3 X_1 X_2+b_4 X_1^2+b_5 X_2^2\n",
        "$$"
      ]
    },
    {
      "cell_type": "markdown",
      "metadata": {
        "id": "kCN42AVJrx4o",
        "colab_type": "text"
      },
      "source": [
        "We can perform a polynomial transform on multiple features. First, we import the module:"
      ]
    },
    {
      "cell_type": "code",
      "metadata": {
        "id": "HKFFXw66rx4p",
        "colab_type": "code",
        "colab": {}
      },
      "source": [
        "from sklearn.preprocessing import PolynomialFeatures"
      ],
      "execution_count": 0,
      "outputs": []
    },
    {
      "cell_type": "markdown",
      "metadata": {
        "id": "iq_56mIZrx4v",
        "colab_type": "text"
      },
      "source": [
        "We create a <b>PolynomialFeatures</b> object of degree 2: "
      ]
    },
    {
      "cell_type": "code",
      "metadata": {
        "jupyter": {
          "outputs_hidden": false
        },
        "id": "XKMhg41Qrx4w",
        "colab_type": "code",
        "colab": {},
        "outputId": "7e9c035b-dd72-4d52-b4a6-99b684ff656a"
      },
      "source": [
        "pr=PolynomialFeatures(degree=2)\n",
        "pr"
      ],
      "execution_count": 0,
      "outputs": [
        {
          "output_type": "execute_result",
          "data": {
            "text/plain": [
              "PolynomialFeatures(degree=2, include_bias=True, interaction_only=False)"
            ]
          },
          "metadata": {
            "tags": []
          },
          "execution_count": 90
        }
      ]
    },
    {
      "cell_type": "code",
      "metadata": {
        "id": "8wkcnXFsrx43",
        "colab_type": "code",
        "colab": {}
      },
      "source": [
        "Z_pr=pr.fit_transform(Z)"
      ],
      "execution_count": 0,
      "outputs": []
    },
    {
      "cell_type": "markdown",
      "metadata": {
        "id": "EMRhK35Mrx44",
        "colab_type": "text"
      },
      "source": [
        "The original data is of 201 samples and 4 features "
      ]
    },
    {
      "cell_type": "code",
      "metadata": {
        "jupyter": {
          "outputs_hidden": false
        },
        "id": "mTknRR1vrx45",
        "colab_type": "code",
        "colab": {},
        "outputId": "c154471a-95b3-4f33-f155-80600989b783"
      },
      "source": [
        "Z.shape"
      ],
      "execution_count": 0,
      "outputs": [
        {
          "output_type": "execute_result",
          "data": {
            "text/plain": [
              "(201, 4)"
            ]
          },
          "metadata": {
            "tags": []
          },
          "execution_count": 92
        }
      ]
    },
    {
      "cell_type": "markdown",
      "metadata": {
        "id": "j0Hya-eFrx5A",
        "colab_type": "text"
      },
      "source": [
        "after the transformation, there 201 samples and 15 features"
      ]
    },
    {
      "cell_type": "code",
      "metadata": {
        "jupyter": {
          "outputs_hidden": false
        },
        "id": "KpYn0g8irx5B",
        "colab_type": "code",
        "colab": {},
        "outputId": "a3237665-2aac-4543-ab92-09469ebc3142"
      },
      "source": [
        "Z_pr.shape"
      ],
      "execution_count": 0,
      "outputs": [
        {
          "output_type": "execute_result",
          "data": {
            "text/plain": [
              "(201, 15)"
            ]
          },
          "metadata": {
            "tags": []
          },
          "execution_count": 93
        }
      ]
    },
    {
      "cell_type": "markdown",
      "metadata": {
        "id": "Q3gvShAErx5J",
        "colab_type": "text"
      },
      "source": [
        "<h2>Pipeline</h2>"
      ]
    },
    {
      "cell_type": "markdown",
      "metadata": {
        "id": "7xIA3UbJrx5K",
        "colab_type": "text"
      },
      "source": [
        "<p>Data Pipelines simplify the steps of processing the data. We use the module <b>Pipeline</b> to create a pipeline. We also use <b>StandardScaler</b> as a step in our pipeline.</p>"
      ]
    },
    {
      "cell_type": "code",
      "metadata": {
        "id": "jnzTbR2srx5M",
        "colab_type": "code",
        "colab": {}
      },
      "source": [
        "from sklearn.pipeline import Pipeline\n",
        "from sklearn.preprocessing import StandardScaler"
      ],
      "execution_count": 0,
      "outputs": []
    },
    {
      "cell_type": "markdown",
      "metadata": {
        "id": "8lsfPWKVrx5S",
        "colab_type": "text"
      },
      "source": [
        "We create the pipeline, by creating a list of tuples including the name of the model or estimator and its corresponding constructor."
      ]
    },
    {
      "cell_type": "code",
      "metadata": {
        "jupyter": {
          "outputs_hidden": false
        },
        "id": "lFy17zUurx5U",
        "colab_type": "code",
        "colab": {}
      },
      "source": [
        "Input=[('scale',StandardScaler()), ('polynomial', PolynomialFeatures(include_bias=False)), ('model',LinearRegression())]"
      ],
      "execution_count": 0,
      "outputs": []
    },
    {
      "cell_type": "markdown",
      "metadata": {
        "id": "DXpfEgxrrx5X",
        "colab_type": "text"
      },
      "source": [
        "we input the list as an argument to the pipeline constructor "
      ]
    },
    {
      "cell_type": "code",
      "metadata": {
        "jupyter": {
          "outputs_hidden": false
        },
        "id": "msaehpf1rx5Y",
        "colab_type": "code",
        "colab": {},
        "outputId": "5aafe1c8-5c1f-4a42-b8cd-ec59cf49ec10"
      },
      "source": [
        "pipe=Pipeline(Input)\n",
        "pipe"
      ],
      "execution_count": 0,
      "outputs": [
        {
          "output_type": "execute_result",
          "data": {
            "text/plain": [
              "Pipeline(memory=None,\n",
              "     steps=[('scale', StandardScaler(copy=True, with_mean=True, with_std=True)), ('polynomial', PolynomialFeatures(degree=2, include_bias=False, interaction_only=False)), ('model', LinearRegression(copy_X=True, fit_intercept=True, n_jobs=None,\n",
              "         normalize=False))])"
            ]
          },
          "metadata": {
            "tags": []
          },
          "execution_count": 96
        }
      ]
    },
    {
      "cell_type": "markdown",
      "metadata": {
        "id": "y1Tg_6errx5c",
        "colab_type": "text"
      },
      "source": [
        "We can normalize the data,  perform a transform and fit the model simultaneously. "
      ]
    },
    {
      "cell_type": "code",
      "metadata": {
        "jupyter": {
          "outputs_hidden": false
        },
        "id": "edlowPHcrx5d",
        "colab_type": "code",
        "colab": {},
        "outputId": "b90abf94-6a75-487c-e080-db9f130266bd"
      },
      "source": [
        "pipe.fit(Z,y)"
      ],
      "execution_count": 0,
      "outputs": [
        {
          "output_type": "stream",
          "text": [
            "/home/jupyterlab/conda/envs/python/lib/python3.6/site-packages/sklearn/preprocessing/data.py:625: DataConversionWarning: Data with input dtype int64, float64 were all converted to float64 by StandardScaler.\n",
            "  return self.partial_fit(X, y)\n",
            "/home/jupyterlab/conda/envs/python/lib/python3.6/site-packages/sklearn/base.py:465: DataConversionWarning: Data with input dtype int64, float64 were all converted to float64 by StandardScaler.\n",
            "  return self.fit(X, y, **fit_params).transform(X)\n"
          ],
          "name": "stderr"
        },
        {
          "output_type": "execute_result",
          "data": {
            "text/plain": [
              "Pipeline(memory=None,\n",
              "     steps=[('scale', StandardScaler(copy=True, with_mean=True, with_std=True)), ('polynomial', PolynomialFeatures(degree=2, include_bias=False, interaction_only=False)), ('model', LinearRegression(copy_X=True, fit_intercept=True, n_jobs=None,\n",
              "         normalize=False))])"
            ]
          },
          "metadata": {
            "tags": []
          },
          "execution_count": 97
        }
      ]
    },
    {
      "cell_type": "markdown",
      "metadata": {
        "id": "cJyGBA5Xrx5l",
        "colab_type": "text"
      },
      "source": [
        " Similarly,  we can normalize the data, perform a transform and produce a prediction  simultaneously"
      ]
    },
    {
      "cell_type": "code",
      "metadata": {
        "jupyter": {
          "outputs_hidden": false
        },
        "id": "m1TsVkwXrx5l",
        "colab_type": "code",
        "colab": {},
        "outputId": "500e2d5e-5118-4bff-be7b-80e480f36d6c"
      },
      "source": [
        "ypipe=pipe.predict(Z)\n",
        "ypipe[0:4]"
      ],
      "execution_count": 0,
      "outputs": [
        {
          "output_type": "stream",
          "text": [
            "/home/jupyterlab/conda/envs/python/lib/python3.6/site-packages/sklearn/pipeline.py:331: DataConversionWarning: Data with input dtype int64, float64 were all converted to float64 by StandardScaler.\n",
            "  Xt = transform.transform(Xt)\n"
          ],
          "name": "stderr"
        },
        {
          "output_type": "execute_result",
          "data": {
            "text/plain": [
              "array([13102.74784201, 13102.74784201, 18225.54572197, 10390.29636555])"
            ]
          },
          "metadata": {
            "tags": []
          },
          "execution_count": 98
        }
      ]
    },
    {
      "cell_type": "markdown",
      "metadata": {
        "id": "4RprSu3Hrx5p",
        "colab_type": "text"
      },
      "source": [
        "<div class=\"alert alert-danger alertdanger\" style=\"margin-top: 20px\">\n",
        "<h1>Question #5:</h1>\n",
        "<b>Create a pipeline that Standardizes the data, then perform prediction using a linear regression model using the features Z and targets y</b>\n",
        "</div>"
      ]
    },
    {
      "cell_type": "code",
      "metadata": {
        "id": "uGsb3OKCrx5q",
        "colab_type": "code",
        "colab": {},
        "outputId": "03175a26-a188-4846-b0c8-93f6fa7170d8"
      },
      "source": [
        "# Write your code below and press Shift+Enter to execute \n",
        "pipe2=Pipeline(Input)\n",
        "pipe2.fit(Z,y)\n",
        "ypipe2 = pipe2.predict(Z)\n"
      ],
      "execution_count": 0,
      "outputs": [
        {
          "output_type": "stream",
          "text": [
            "/home/jupyterlab/conda/envs/python/lib/python3.6/site-packages/sklearn/preprocessing/data.py:625: DataConversionWarning: Data with input dtype int64, float64 were all converted to float64 by StandardScaler.\n",
            "  return self.partial_fit(X, y)\n",
            "/home/jupyterlab/conda/envs/python/lib/python3.6/site-packages/sklearn/base.py:465: DataConversionWarning: Data with input dtype int64, float64 were all converted to float64 by StandardScaler.\n",
            "  return self.fit(X, y, **fit_params).transform(X)\n",
            "/home/jupyterlab/conda/envs/python/lib/python3.6/site-packages/sklearn/pipeline.py:331: DataConversionWarning: Data with input dtype int64, float64 were all converted to float64 by StandardScaler.\n",
            "  Xt = transform.transform(Xt)\n"
          ],
          "name": "stderr"
        }
      ]
    },
    {
      "cell_type": "markdown",
      "metadata": {
        "id": "ubA_kDIVrx5u",
        "colab_type": "text"
      },
      "source": [
        "</div>\n",
        "Double-click <b>here</b> for the solution.\n",
        "\n",
        "<!-- The answer is below:\n",
        "\n",
        "Input=[('scale',StandardScaler()),('model',LinearRegression())]\n",
        "\n",
        "pipe=Pipeline(Input)\n",
        "\n",
        "pipe.fit(Z,y)\n",
        "\n",
        "ypipe=pipe.predict(Z)\n",
        "ypipe[0:10]\n",
        "\n",
        "-->"
      ]
    },
    {
      "cell_type": "markdown",
      "metadata": {
        "id": "ptyQ_BnIrx6f",
        "colab_type": "text"
      },
      "source": [
        "<h2>Part 4: Measures for In-Sample Evaluation</h2>"
      ]
    },
    {
      "cell_type": "markdown",
      "metadata": {
        "id": "aigQs-Xwrx6g",
        "colab_type": "text"
      },
      "source": [
        "<p>When evaluating our models, not only do we want to visualize the results, but we also want a quantitative measure to determine how accurate the model is.</p>\n",
        "\n",
        "<p>Two very important measures that are often used in Statistics to determine the accuracy of a model are:</p>\n",
        "<ul>\n",
        "    <li><b>R^2 / R-squared</b></li>\n",
        "    <li><b>Mean Squared Error (MSE)</b></li>\n",
        "</ul>\n",
        "    \n",
        "<b>R-squared</b>\n",
        "\n",
        "<p>R squared, also known as the coefficient of determination, is a measure to indicate how close the data is to the fitted regression line.</p>\n",
        "    \n",
        "<p>The value of the R-squared is the percentage of variation of the response variable (y) that is explained by a linear model.</p>\n",
        "\n",
        "\n",
        "\n",
        "<b>Mean Squared Error (MSE)</b>\n",
        "\n",
        "<p>The Mean Squared Error measures the average of the squares of errors, that is, the difference between actual value (y) and the estimated value (ŷ).</p>"
      ]
    },
    {
      "cell_type": "markdown",
      "metadata": {
        "id": "IlOx6wJKrx6g",
        "colab_type": "text"
      },
      "source": [
        "<h3>Model 1: Simple Linear Regression</h3>"
      ]
    },
    {
      "cell_type": "markdown",
      "metadata": {
        "id": "TixryGXgrx6h",
        "colab_type": "text"
      },
      "source": [
        "Let's calculate the R^2"
      ]
    },
    {
      "cell_type": "code",
      "metadata": {
        "jupyter": {
          "outputs_hidden": false
        },
        "scrolled": true,
        "id": "Vj76Zx4hrx6h",
        "colab_type": "code",
        "colab": {},
        "outputId": "64331dea-869d-4c9c-896c-08988f81def8"
      },
      "source": [
        "#highway_mpg_fit\n",
        "lm.fit(X, Y)\n",
        "# Find the R^2\n",
        "print('The R-square is: ', lm.score(X, Y))"
      ],
      "execution_count": 0,
      "outputs": [
        {
          "output_type": "stream",
          "text": [
            "The R-square is:  0.4965911884339176\n"
          ],
          "name": "stdout"
        }
      ]
    },
    {
      "cell_type": "markdown",
      "metadata": {
        "id": "vouvJTX0rx6m",
        "colab_type": "text"
      },
      "source": [
        "We can say that ~ 49.659% of the variation of the price is explained by this simple linear model \"horsepower_fit\"."
      ]
    },
    {
      "cell_type": "markdown",
      "metadata": {
        "id": "LSk9RchFrx6n",
        "colab_type": "text"
      },
      "source": [
        "Let's calculate the MSE"
      ]
    },
    {
      "cell_type": "markdown",
      "metadata": {
        "id": "pi98IIFirx6o",
        "colab_type": "text"
      },
      "source": [
        "We can predict the output i.e., \"yhat\" using the predict method, where X is the input variable:"
      ]
    },
    {
      "cell_type": "code",
      "metadata": {
        "jupyter": {
          "outputs_hidden": false
        },
        "id": "xjBXEfS7rx6p",
        "colab_type": "code",
        "colab": {},
        "outputId": "5b5237b6-0184-4fb1-ad24-a32f426e691c"
      },
      "source": [
        "Yhat=lm.predict(X)\n",
        "print('The output of the first four predicted value is: ', Yhat[0:4])"
      ],
      "execution_count": 0,
      "outputs": [
        {
          "output_type": "stream",
          "text": [
            "The output of the first four predicted value is:  [16236.50464347 16236.50464347 17058.23802179 13771.3045085 ]\n"
          ],
          "name": "stdout"
        }
      ]
    },
    {
      "cell_type": "markdown",
      "metadata": {
        "id": "YtsuxFvSrx6r",
        "colab_type": "text"
      },
      "source": [
        "lets import the function <b>mean_squared_error</b> from the module <b>metrics</b>"
      ]
    },
    {
      "cell_type": "code",
      "metadata": {
        "id": "f8K0CWrYrx6r",
        "colab_type": "code",
        "colab": {}
      },
      "source": [
        "from sklearn.metrics import mean_squared_error"
      ],
      "execution_count": 0,
      "outputs": []
    },
    {
      "cell_type": "markdown",
      "metadata": {
        "id": "c0TiTWb0rx6s",
        "colab_type": "text"
      },
      "source": [
        "we compare the predicted results with the actual results "
      ]
    },
    {
      "cell_type": "code",
      "metadata": {
        "jupyter": {
          "outputs_hidden": false
        },
        "id": "Jjr_Dblorx6t",
        "colab_type": "code",
        "colab": {},
        "outputId": "63348f0c-1b0f-4174-c908-b30d47b65081"
      },
      "source": [
        "mse = mean_squared_error(df['price'], Yhat)\n",
        "print('The mean square error of price and predicted value is: ', mse)"
      ],
      "execution_count": 0,
      "outputs": [
        {
          "output_type": "stream",
          "text": [
            "The mean square error of price and predicted value is:  31635042.944639888\n"
          ],
          "name": "stdout"
        }
      ]
    },
    {
      "cell_type": "markdown",
      "metadata": {
        "id": "_VwseC46rx6u",
        "colab_type": "text"
      },
      "source": [
        "<h3>Model 2: Multiple Linear Regression</h3>"
      ]
    },
    {
      "cell_type": "markdown",
      "metadata": {
        "id": "BffvskELrx6v",
        "colab_type": "text"
      },
      "source": [
        "Let's calculate the R^2"
      ]
    },
    {
      "cell_type": "code",
      "metadata": {
        "jupyter": {
          "outputs_hidden": false
        },
        "id": "t40k6gh9rx6v",
        "colab_type": "code",
        "colab": {},
        "outputId": "4840e418-00cd-421b-bde0-f18e7a689e1c"
      },
      "source": [
        "# fit the model \n",
        "lm.fit(Z, df['price'])\n",
        "# Find the R^2\n",
        "print('The R-square is: ', lm.score(Z, df['price']))"
      ],
      "execution_count": 0,
      "outputs": [
        {
          "output_type": "stream",
          "text": [
            "The R-square is:  0.8093562806577457\n"
          ],
          "name": "stdout"
        }
      ]
    },
    {
      "cell_type": "markdown",
      "metadata": {
        "id": "U1FFRR3wrx6w",
        "colab_type": "text"
      },
      "source": [
        "We can say that ~ 80.896 % of the variation of price is explained by this multiple linear regression \"multi_fit\"."
      ]
    },
    {
      "cell_type": "markdown",
      "metadata": {
        "id": "___ry999rx6x",
        "colab_type": "text"
      },
      "source": [
        "Let's calculate the MSE"
      ]
    },
    {
      "cell_type": "markdown",
      "metadata": {
        "id": "Eex_LEcVrx6x",
        "colab_type": "text"
      },
      "source": [
        " we produce a prediction "
      ]
    },
    {
      "cell_type": "code",
      "metadata": {
        "jupyter": {
          "outputs_hidden": false
        },
        "id": "V4A-w3Qrrx63",
        "colab_type": "code",
        "colab": {}
      },
      "source": [
        "Y_predict_multifit = lm.predict(Z)"
      ],
      "execution_count": 0,
      "outputs": []
    },
    {
      "cell_type": "markdown",
      "metadata": {
        "id": "WQYZY32Urx67",
        "colab_type": "text"
      },
      "source": [
        " we compare the predicted results with the actual results "
      ]
    },
    {
      "cell_type": "code",
      "metadata": {
        "jupyter": {
          "outputs_hidden": false
        },
        "id": "Vo0JrlKIrx68",
        "colab_type": "code",
        "colab": {},
        "outputId": "bf338410-2485-4e6b-f842-9dcd6fc7f961"
      },
      "source": [
        "print('The mean square error of price and predicted value using multifit is: ', \\\n",
        "      mean_squared_error(df['price'], Y_predict_multifit))"
      ],
      "execution_count": 0,
      "outputs": [
        {
          "output_type": "stream",
          "text": [
            "The mean square error of price and predicted value using multifit is:  11980366.87072649\n"
          ],
          "name": "stdout"
        }
      ]
    },
    {
      "cell_type": "markdown",
      "metadata": {
        "id": "2oFSh7yBrx6_",
        "colab_type": "text"
      },
      "source": [
        "<h3>Model 3: Polynomial Fit</h3>"
      ]
    },
    {
      "cell_type": "markdown",
      "metadata": {
        "id": "Z1iInbbhrx7A",
        "colab_type": "text"
      },
      "source": [
        "Let's calculate the R^2"
      ]
    },
    {
      "cell_type": "markdown",
      "metadata": {
        "id": "esuqlwYNrx7A",
        "colab_type": "text"
      },
      "source": [
        "let’s import the function <b>r2_score</b> from the module <b>metrics</b> as we are using a different function"
      ]
    },
    {
      "cell_type": "code",
      "metadata": {
        "id": "YTwQO6Lvrx7A",
        "colab_type": "code",
        "colab": {}
      },
      "source": [
        "from sklearn.metrics import r2_score"
      ],
      "execution_count": 0,
      "outputs": []
    },
    {
      "cell_type": "markdown",
      "metadata": {
        "id": "FG7H7rIurx7F",
        "colab_type": "text"
      },
      "source": [
        "We apply the function to get the value of r^2"
      ]
    },
    {
      "cell_type": "code",
      "metadata": {
        "jupyter": {
          "outputs_hidden": false
        },
        "id": "h-0Dsfz_rx7F",
        "colab_type": "code",
        "colab": {},
        "outputId": "caa77b5e-a084-4040-e860-062c15babf1a"
      },
      "source": [
        "r_squared = r2_score(y, p(x)) #what is p(x)?\n",
        "print('The R-square value is: ', r_squared)"
      ],
      "execution_count": 0,
      "outputs": [
        {
          "output_type": "stream",
          "text": [
            "The R-square value is:  0.674194666390652\n"
          ],
          "name": "stdout"
        }
      ]
    },
    {
      "cell_type": "markdown",
      "metadata": {
        "id": "qMK-1uxcrx7I",
        "colab_type": "text"
      },
      "source": [
        "We can say that ~ 67.419 % of the variation of price is explained by this polynomial fit"
      ]
    },
    {
      "cell_type": "markdown",
      "metadata": {
        "id": "Pd8OuZCjrx7I",
        "colab_type": "text"
      },
      "source": [
        "<h3>MSE</h3>"
      ]
    },
    {
      "cell_type": "markdown",
      "metadata": {
        "id": "E0VxigKzrx7J",
        "colab_type": "text"
      },
      "source": [
        "We can also calculate the MSE:  "
      ]
    },
    {
      "cell_type": "code",
      "metadata": {
        "jupyter": {
          "outputs_hidden": false
        },
        "id": "78jORXryrx7J",
        "colab_type": "code",
        "colab": {},
        "outputId": "37c84576-2c44-4d0a-8811-4f13110b2b95"
      },
      "source": [
        "mean_squared_error(df['price'], p(x))"
      ],
      "execution_count": 0,
      "outputs": [
        {
          "output_type": "execute_result",
          "data": {
            "text/plain": [
              "20474146.426361218"
            ]
          },
          "metadata": {
            "tags": []
          },
          "execution_count": 109
        }
      ]
    },
    {
      "cell_type": "markdown",
      "metadata": {
        "id": "oyUHp-iYrx7M",
        "colab_type": "text"
      },
      "source": [
        "<h2>Part 5: Prediction and Decision Making</h2>\n",
        "<h3>Prediction</h3>\n",
        "\n",
        "<p>In the previous section, we trained the model using the method <b>fit</b>. Now we will use the method <b>predict</b> to produce a prediction. Lets import <b>pyplot</b> for plotting; we will also be using some functions from numpy.</p>"
      ]
    },
    {
      "cell_type": "code",
      "metadata": {
        "id": "NAVuXyFKrx7N",
        "colab_type": "code",
        "colab": {}
      },
      "source": [
        "import matplotlib.pyplot as plt\n",
        "import numpy as np\n",
        "\n",
        "%matplotlib inline "
      ],
      "execution_count": 0,
      "outputs": []
    },
    {
      "cell_type": "markdown",
      "metadata": {
        "id": "-mu3r6qorx7V",
        "colab_type": "text"
      },
      "source": [
        "Create a new input "
      ]
    },
    {
      "cell_type": "code",
      "metadata": {
        "jupyter": {
          "outputs_hidden": false
        },
        "id": "Vu-T8uUGrx7W",
        "colab_type": "code",
        "colab": {}
      },
      "source": [
        "new_input=np.arange(1, 100, 1).reshape(-1, 1) #what is new input?"
      ],
      "execution_count": 0,
      "outputs": []
    },
    {
      "cell_type": "markdown",
      "metadata": {
        "id": "KToRhS3Xrx7Z",
        "colab_type": "text"
      },
      "source": [
        " Fit the model "
      ]
    },
    {
      "cell_type": "code",
      "metadata": {
        "jupyter": {
          "outputs_hidden": false
        },
        "id": "_eIBN2lQrx7Z",
        "colab_type": "code",
        "colab": {},
        "outputId": "1527385c-873a-4397-e0f4-4c521b66362b"
      },
      "source": [
        "lm.fit(X, Y)\n",
        "lm"
      ],
      "execution_count": 0,
      "outputs": [
        {
          "output_type": "execute_result",
          "data": {
            "text/plain": [
              "LinearRegression(copy_X=True, fit_intercept=True, n_jobs=None,\n",
              "         normalize=False)"
            ]
          },
          "metadata": {
            "tags": []
          },
          "execution_count": 112
        }
      ]
    },
    {
      "cell_type": "markdown",
      "metadata": {
        "id": "A1iLRbYdrx7c",
        "colab_type": "text"
      },
      "source": [
        "Produce a prediction"
      ]
    },
    {
      "cell_type": "code",
      "metadata": {
        "jupyter": {
          "outputs_hidden": false
        },
        "id": "E2tW72ccrx7d",
        "colab_type": "code",
        "colab": {},
        "outputId": "c7a46db9-5c86-40c9-a504-76d03118f1b3"
      },
      "source": [
        "yhat=lm.predict(new_input)\n",
        "yhat[0:5]"
      ],
      "execution_count": 0,
      "outputs": [
        {
          "output_type": "execute_result",
          "data": {
            "text/plain": [
              "array([37601.57247984, 36779.83910151, 35958.10572319, 35136.37234487,\n",
              "       34314.63896655])"
            ]
          },
          "metadata": {
            "tags": []
          },
          "execution_count": 113
        }
      ]
    },
    {
      "cell_type": "markdown",
      "metadata": {
        "id": "_VBtEFBPrx7e",
        "colab_type": "text"
      },
      "source": [
        "we can plot the data "
      ]
    },
    {
      "cell_type": "code",
      "metadata": {
        "jupyter": {
          "outputs_hidden": false
        },
        "id": "QxXBtlaorx7f",
        "colab_type": "code",
        "colab": {},
        "outputId": "73d2328d-53fa-4aaf-8b58-bb88d23a3662"
      },
      "source": [
        "plt.plot(new_input, yhat)\n",
        "plt.show()"
      ],
      "execution_count": 0,
      "outputs": [
        {
          "output_type": "display_data",
          "data": {
            "image/png": "[encoded data removed]",
            "text/plain": [
              "<Figure size 432x288 with 1 Axes>"
            ]
          },
          "metadata": {
            "tags": [],
            "needs_background": "light"
          }
        }
      ]
    },
    {
      "cell_type": "markdown",
      "metadata": {
        "id": "7bOlcErsrx7h",
        "colab_type": "text"
      },
      "source": [
        "<h3>Decision Making: Determining a Good Model Fit</h3>"
      ]
    },
    {
      "cell_type": "markdown",
      "metadata": {
        "id": "5sklSc0mrx7h",
        "colab_type": "text"
      },
      "source": [
        "<p>Now that we have visualized the different models, and generated the R-squared and MSE values for the fits, how do we determine a good model fit?\n",
        "<ul>\n",
        "    <li><i>What is a good R-squared value?</i></li>\n",
        "</ul>\n",
        "</p>\n",
        "\n",
        "<p>When comparing models, <b>the model with the higher R-squared value is a better fit</b> for the data.\n",
        "<ul>\n",
        "    <li><i>What is a good MSE?</i></li>\n",
        "</ul>\n",
        "</p>\n",
        "\n",
        "<p>When comparing models, <b>the model with the smallest MSE value is a better fit</b> for the data.</p>\n",
        "\n",
        "\n",
        "<h4>Let's take a look at the values for the different models.</h4>\n",
        "<p>Simple Linear Regression: Using Highway-mpg as a Predictor Variable of Price.\n",
        "<ul>\n",
        "    <li>R-squared: 0.49659118843391759</li>\n",
        "    <li>MSE: 3.16 x10^7</li>\n",
        "</ul>\n",
        "</p>\n",
        "    \n",
        "<p>Multiple Linear Regression: Using Horsepower, Curb-weight, Engine-size, and Highway-mpg as Predictor Variables of Price.\n",
        "<ul>\n",
        "    <li>R-squared: 0.80896354913783497</li>\n",
        "    <li>MSE: 1.2 x10^7</li>\n",
        "</ul>\n",
        "</p>\n",
        "    \n",
        "<p>Polynomial Fit: Using Highway-mpg as a Predictor Variable of Price.\n",
        "<ul>\n",
        "    <li>R-squared: 0.6741946663906514</li>\n",
        "    <li>MSE: 2.05 x 10^7</li>\n",
        "</ul>\n",
        "</p>"
      ]
    },
    {
      "cell_type": "markdown",
      "metadata": {
        "id": "g5sW64uXrx7h",
        "colab_type": "text"
      },
      "source": [
        "<h3>Simple Linear Regression model (SLR) vs Multiple Linear Regression model (MLR)</h3>"
      ]
    },
    {
      "cell_type": "markdown",
      "metadata": {
        "id": "fZ66qSIbrx7h",
        "colab_type": "text"
      },
      "source": [
        "<p>Usually, the more variables you have, the better your model is at predicting, but this is not always true. Sometimes you may not have enough data, you may run into numerical problems, or many of the variables may not be useful and or even act as noise. As a result, you should always check the MSE and R^2.</p>\n",
        "\n",
        "<p>So to be able to compare the results of the MLR vs SLR models, we look at a combination of both the R-squared and MSE to make the best conclusion about the fit of the model.\n",
        "<ul>\n",
        "    <li><b>MSE</b>The MSE of SLR is  3.16x10^7  while MLR has an MSE of 1.2 x10^7.  The MSE of MLR is much smaller.</li>\n",
        "    <li><b>R-squared</b>: In this case, we can also see that there is a big difference between the R-squared of the SLR and the R-squared of the MLR. The R-squared for the SLR (~0.497) is very small compared to the R-squared for the MLR (~0.809).</li>\n",
        "</ul>\n",
        "</p>\n",
        "\n",
        "This R-squared in combination with the MSE show that MLR seems like the better model fit in this case, compared to SLR."
      ]
    },
    {
      "cell_type": "markdown",
      "metadata": {
        "id": "x5iNRS2_rx7i",
        "colab_type": "text"
      },
      "source": [
        "<h3>Simple Linear Model (SLR) vs Polynomial Fit</h3>"
      ]
    },
    {
      "cell_type": "markdown",
      "metadata": {
        "id": "quzQpK52rx7i",
        "colab_type": "text"
      },
      "source": [
        "<ul>\n",
        "    <li><b>MSE</b>: We can see that Polynomial Fit brought down the MSE, since this MSE is smaller than the one from the SLR.</li> \n",
        "    <li><b>R-squared</b>: The R-squared for the Polyfit is larger than the R-squared for the SLR, so the Polynomial Fit also brought up the R-squared quite a bit.</li>\n",
        "</ul>\n",
        "<p>Since the Polynomial Fit resulted in a lower MSE and a higher R-squared, we can conclude that this was a better fit model than the simple linear regression for predicting Price with Highway-mpg as a predictor variable.</p>"
      ]
    },
    {
      "cell_type": "markdown",
      "metadata": {
        "id": "finChrfirx7i",
        "colab_type": "text"
      },
      "source": [
        "<h3>Multiple Linear Regression (MLR) vs Polynomial Fit</h3>"
      ]
    },
    {
      "cell_type": "markdown",
      "metadata": {
        "id": "Dv4ohurLrx7j",
        "colab_type": "text"
      },
      "source": [
        "<ul>\n",
        "    <li><b>MSE</b>: The MSE for the MLR is smaller than the MSE for the Polynomial Fit.</li>\n",
        "    <li><b>R-squared</b>: The R-squared for the MLR is also much larger than for the Polynomial Fit.</li>\n",
        "</ul>"
      ]
    },
    {
      "cell_type": "markdown",
      "metadata": {
        "id": "Nh8VpZrnrx7j",
        "colab_type": "text"
      },
      "source": [
        "<h2>Conclusion:</h2>"
      ]
    },
    {
      "cell_type": "markdown",
      "metadata": {
        "id": "l7f9yha0rx7k",
        "colab_type": "text"
      },
      "source": [
        "<p>Comparing these three models, we conclude that <b>the MLR model is the best model</b> to be able to predict price from our dataset. This result makes sense, since we have 27 variables in total, and we know that more than one of those variables are potential predictors of the final car price.</p>"
      ]
    },
    {
      "cell_type": "markdown",
      "metadata": {
        "id": "fdnu-BDkrx7l",
        "colab_type": "text"
      },
      "source": [
        "<h1>Thank you for completing this notebook</h1>"
      ]
    },
    {
      "cell_type": "markdown",
      "metadata": {
        "id": "AiVODruWrx7m",
        "colab_type": "text"
      },
      "source": [
        "<div class=\"alert alert-block alert-info\" style=\"margin-top: 20px\">\n",
        "\n",
        "    <p><a href=\"https://cocl.us/corsera_da0101en_notebook_bottom\"><img src=\"https://s3-api.us-geo.objectstorage.softlayer.net/cf-courses-data/CognitiveClass/DA0101EN/Images/BottomAd.png\" width=\"750\" align=\"center\"></a></p>\n",
        "</div>\n"
      ]
    },
    {
      "cell_type": "markdown",
      "metadata": {
        "id": "ywNwQ6Plrx7n",
        "colab_type": "text"
      },
      "source": [
        "<h3>About the Authors:</h3>\n",
        "\n",
        "This notebook was written by <a href=\"https://www.linkedin.com/in/mahdi-noorian-58219234/\" target=\"_blank\">Mahdi Noorian PhD</a>, <a href=\"https://www.linkedin.com/in/joseph-s-50398b136/\" target=\"_blank\">Joseph Santarcangelo</a>, Bahare Talayian, Eric Xiao, Steven Dong, Parizad, Hima Vsudevan and <a href=\"https://www.linkedin.com/in/fiorellawever/\" target=\"_blank\">Fiorella Wenver</a> and <a href=\" https://www.linkedin.com/in/yi-leng-yao-84451275/ \" target=\"_blank\" >Yi Yao</a>.\n",
        "\n",
        "<p><a href=\"https://www.linkedin.com/in/joseph-s-50398b136/\" target=\"_blank\">Joseph Santarcangelo</a> is a Data Scientist at IBM, and holds a PhD in Electrical Engineering. His research focused on using Machine Learning, Signal Processing, and Computer Vision to determine how videos impact human cognition. Joseph has been working for IBM since he completed his PhD.</p>"
      ]
    },
    {
      "cell_type": "markdown",
      "metadata": {
        "id": "sb6SkgD7rx7q",
        "colab_type": "text"
      },
      "source": [
        "<hr>\n",
        "<p>Copyright &copy; 2018 IBM Developer Skills Network. This notebook and its source code are released under the terms of the <a href=\"https://cognitiveclass.ai/mit-license/\">MIT License</a>.</p>"
      ]
    }
  ]
}