{
  "nbformat": 4,
  "nbformat_minor": 0,
  "metadata": {
    "colab": {
      "name": "Data Cleaning-SelfExcercise.ipynb",
      "provenance": [],
      "authorship_tag": "ABX9TyOs5crxSAFIK7kPuvAoLmOU",
      "include_colab_link": true
    },
    "kernelspec": {
      "name": "python3",
      "display_name": "Python 3"
    }
  },
  "cells": [
    {
      "cell_type": "markdown",
      "metadata": {
        "id": "view-in-github",
        "colab_type": "text"
      },
      "source": [
        "<a href=\"https://colab.research.google.com/github/mugdhav/IBMCert/blob/master/Data_Cleaning_SelfExcercise.ipynb\" target=\"_parent\"><img src=\"https://colab.research.google.com/assets/colab-badge.svg\" alt=\"Open In Colab\"/></a>"
      ]
    },
    {
      "cell_type": "code",
      "metadata": {
        "id": "8GP5xtqk7sIP",
        "colab_type": "code",
        "colab": {}
      },
      "source": [
        "import pandas as pd\n",
        "import io\n",
        "import numpy as np\n"
      ],
      "execution_count": 0,
      "outputs": []
    },
    {
      "cell_type": "code",
      "metadata": {
        "id": "71zYLGcD8xEd",
        "colab_type": "code",
        "colab": {
          "resources": {
            "http://localhost:8080/nbextensions/google.colab/files.js": {
              "data": "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",
              "ok": true,
              "headers": [
                [
                  "content-type",
                  "application/javascript"
                ]
              ],
              "status": 200,
              "status_text": ""
            }
          },
          "base_uri": "https://localhost:8080/",
          "height": 75
        },
        "outputId": "89b144ec-195e-4369-9abc-9cacf8b98c24"
      },
      "source": [
        "from google.colab import files\n",
        "uploaded = files.upload()"
      ],
      "execution_count": 2,
      "outputs": [
        {
          "output_type": "display_data",
          "data": {
            "text/html": [
              "\n",
              "     <input type=\"file\" id=\"files-7520d6bb-74a5-4311-b4b9-499ce5e3f47c\" name=\"files[]\" multiple disabled />\n",
              "     <output id=\"result-7520d6bb-74a5-4311-b4b9-499ce5e3f47c\">\n",
              "      Upload widget is only available when the cell has been executed in the\n",
              "      current browser session. Please rerun this cell to enable.\n",
              "      </output>\n",
              "      <script src=\"/nbextensions/google.colab/files.js\"></script> "
            ],
            "text/plain": [
              "<IPython.core.display.HTML object>"
            ]
          },
          "metadata": {
            "tags": []
          }
        },
        {
          "output_type": "stream",
          "text": [
            "Saving example.csv to example.csv\n"
          ],
          "name": "stdout"
        }
      ]
    },
    {
      "cell_type": "code",
      "metadata": {
        "id": "HJnhVOwr9z9L",
        "colab_type": "code",
        "colab": {
          "base_uri": "https://localhost:8080/",
          "height": 171
        },
        "outputId": "5208c2f1-33a8-4a0b-850b-322cb9f05e27"
      },
      "source": [
        "df_disney = pd.read_csv(\"example.csv\")\n",
        "df_disney\n",
        "#df_disney.describe(include='all')"
      ],
      "execution_count": 21,
      "outputs": [
        {
          "output_type": "execute_result",
          "data": {
            "text/html": [
              "<div>\n",
              "<style scoped>\n",
              "    .dataframe tbody tr th:only-of-type {\n",
              "        vertical-align: middle;\n",
              "    }\n",
              "\n",
              "    .dataframe tbody tr th {\n",
              "        vertical-align: top;\n",
              "    }\n",
              "\n",
              "    .dataframe thead th {\n",
              "        text-align: right;\n",
              "    }\n",
              "</style>\n",
              "<table border=\"1\" class=\"dataframe\">\n",
              "  <thead>\n",
              "    <tr style=\"text-align: right;\">\n",
              "      <th></th>\n",
              "      <th>Name</th>\n",
              "      <th>Last Name</th>\n",
              "      <th>Gender</th>\n",
              "      <th>Age</th>\n",
              "    </tr>\n",
              "  </thead>\n",
              "  <tbody>\n",
              "    <tr>\n",
              "      <th>0</th>\n",
              "      <td>mickey</td>\n",
              "      <td>mouse</td>\n",
              "      <td>m</td>\n",
              "      <td>23.0</td>\n",
              "    </tr>\n",
              "    <tr>\n",
              "      <th>1</th>\n",
              "      <td>donald</td>\n",
              "      <td>duck</td>\n",
              "      <td>m</td>\n",
              "      <td>25.0</td>\n",
              "    </tr>\n",
              "    <tr>\n",
              "      <th>2</th>\n",
              "      <td>daisy</td>\n",
              "      <td>duck</td>\n",
              "      <td>f</td>\n",
              "      <td>NaN</td>\n",
              "    </tr>\n",
              "    <tr>\n",
              "      <th>3</th>\n",
              "      <td>minnie</td>\n",
              "      <td>mouse</td>\n",
              "      <td>f</td>\n",
              "      <td>30.0</td>\n",
              "    </tr>\n",
              "  </tbody>\n",
              "</table>\n",
              "</div>"
            ],
            "text/plain": [
              "     Name Last Name Gender   Age\n",
              "0  mickey     mouse      m  23.0\n",
              "1  donald      duck      m  25.0\n",
              "2   daisy      duck      f   NaN\n",
              "3  minnie     mouse      f  30.0"
            ]
          },
          "metadata": {
            "tags": []
          },
          "execution_count": 21
        }
      ]
    },
    {
      "cell_type": "code",
      "metadata": {
        "id": "jUau3ej0Hc3V",
        "colab_type": "code",
        "colab": {
          "base_uri": "https://localhost:8080/",
          "height": 156
        },
        "outputId": "49996975-5a48-47c5-cea3-a949b310bebf"
      },
      "source": [
        "mean_age = df_disney['Age'].mean()\n",
        "print(mean_age)\n",
        "print(np.nan)\n",
        "print(df_disney['Age'][2])\n",
        "df_updated = df_disney['Age'].replace(np.nan, mean_age)\n",
        "df_updated"
      ],
      "execution_count": 48,
      "outputs": [
        {
          "output_type": "stream",
          "text": [
            "26.0\n",
            "nan\n",
            "nan\n"
          ],
          "name": "stdout"
        },
        {
          "output_type": "execute_result",
          "data": {
            "text/plain": [
              "0    23.0\n",
              "1    25.0\n",
              "2    26.0\n",
              "3    30.0\n",
              "Name: Age, dtype: float64"
            ]
          },
          "metadata": {
            "tags": []
          },
          "execution_count": 48
        }
      ]
    },
    {
      "cell_type": "code",
      "metadata": {
        "id": "UpyeBsjELhLU",
        "colab_type": "code",
        "colab": {
          "base_uri": "https://localhost:8080/",
          "height": 1000
        },
        "outputId": "9033b011-cf4d-4f58-e4a7-46edb6706cf6"
      },
      "source": [
        "help(df_disney.replace)\n"
      ],
      "execution_count": 37,
      "outputs": [
        {
          "output_type": "stream",
          "text": [
            "Help on method replace in module pandas.core.frame:\n",
            "\n",
            "replace(to_replace=None, value=None, inplace=False, limit=None, regex=False, method='pad') method of pandas.core.frame.DataFrame instance\n",
            "    Replace values given in `to_replace` with `value`.\n",
            "    \n",
            "    Values of the DataFrame are replaced with other values dynamically.\n",
            "    This differs from updating with ``.loc`` or ``.iloc``, which require\n",
            "    you to specify a location to update with some value.\n",
            "    \n",
            "    Parameters\n",
            "    ----------\n",
            "    to_replace : str, regex, list, dict, Series, int, float, or None\n",
            "        How to find the values that will be replaced.\n",
            "    \n",
            "        * numeric, str or regex:\n",
            "    \n",
            "            - numeric: numeric values equal to `to_replace` will be\n",
            "              replaced with `value`\n",
            "            - str: string exactly matching `to_replace` will be replaced\n",
            "              with `value`\n",
            "            - regex: regexs matching `to_replace` will be replaced with\n",
            "              `value`\n",
            "    \n",
            "        * list of str, regex, or numeric:\n",
            "    \n",
            "            - First, if `to_replace` and `value` are both lists, they\n",
            "              **must** be the same length.\n",
            "            - Second, if ``regex=True`` then all of the strings in **both**\n",
            "              lists will be interpreted as regexs otherwise they will match\n",
            "              directly. This doesn't matter much for `value` since there\n",
            "              are only a few possible substitution regexes you can use.\n",
            "            - str, regex and numeric rules apply as above.\n",
            "    \n",
            "        * dict:\n",
            "    \n",
            "            - Dicts can be used to specify different replacement values\n",
            "              for different existing values. For example,\n",
            "              ``{'a': 'b', 'y': 'z'}`` replaces the value 'a' with 'b' and\n",
            "              'y' with 'z'. To use a dict in this way the `value`\n",
            "              parameter should be `None`.\n",
            "            - For a DataFrame a dict can specify that different values\n",
            "              should be replaced in different columns. For example,\n",
            "              ``{'a': 1, 'b': 'z'}`` looks for the value 1 in column 'a'\n",
            "              and the value 'z' in column 'b' and replaces these values\n",
            "              with whatever is specified in `value`. The `value` parameter\n",
            "              should not be ``None`` in this case. You can treat this as a\n",
            "              special case of passing two lists except that you are\n",
            "              specifying the column to search in.\n",
            "            - For a DataFrame nested dictionaries, e.g.,\n",
            "              ``{'a': {'b': np.nan}}``, are read as follows: look in column\n",
            "              'a' for the value 'b' and replace it with NaN. The `value`\n",
            "              parameter should be ``None`` to use a nested dict in this\n",
            "              way. You can nest regular expressions as well. Note that\n",
            "              column names (the top-level dictionary keys in a nested\n",
            "              dictionary) **cannot** be regular expressions.\n",
            "    \n",
            "        * None:\n",
            "    \n",
            "            - This means that the `regex` argument must be a string,\n",
            "              compiled regular expression, or list, dict, ndarray or\n",
            "              Series of such elements. If `value` is also ``None`` then\n",
            "              this **must** be a nested dictionary or Series.\n",
            "    \n",
            "        See the examples section for examples of each of these.\n",
            "    value : scalar, dict, list, str, regex, default None\n",
            "        Value to replace any values matching `to_replace` with.\n",
            "        For a DataFrame a dict of values can be used to specify which\n",
            "        value to use for each column (columns not in the dict will not be\n",
            "        filled). Regular expressions, strings and lists or dicts of such\n",
            "        objects are also allowed.\n",
            "    inplace : bool, default False\n",
            "        If True, in place. Note: this will modify any\n",
            "        other views on this object (e.g. a column from a DataFrame).\n",
            "        Returns the caller if this is True.\n",
            "    limit : int, default None\n",
            "        Maximum size gap to forward or backward fill.\n",
            "    regex : bool or same types as `to_replace`, default False\n",
            "        Whether to interpret `to_replace` and/or `value` as regular\n",
            "        expressions. If this is ``True`` then `to_replace` *must* be a\n",
            "        string. Alternatively, this could be a regular expression or a\n",
            "        list, dict, or array of regular expressions in which case\n",
            "        `to_replace` must be ``None``.\n",
            "    method : {'pad', 'ffill', 'bfill', `None`}\n",
            "        The method to use when for replacement, when `to_replace` is a\n",
            "        scalar, list or tuple and `value` is ``None``.\n",
            "    \n",
            "        .. versionchanged:: 0.23.0\n",
            "            Added to DataFrame.\n",
            "    \n",
            "    Returns\n",
            "    -------\n",
            "    DataFrame\n",
            "        Object after replacement.\n",
            "    \n",
            "    Raises\n",
            "    ------\n",
            "    AssertionError\n",
            "        * If `regex` is not a ``bool`` and `to_replace` is not\n",
            "          ``None``.\n",
            "    TypeError\n",
            "        * If `to_replace` is a ``dict`` and `value` is not a ``list``,\n",
            "          ``dict``, ``ndarray``, or ``Series``\n",
            "        * If `to_replace` is ``None`` and `regex` is not compilable\n",
            "          into a regular expression or is a list, dict, ndarray, or\n",
            "          Series.\n",
            "        * When replacing multiple ``bool`` or ``datetime64`` objects and\n",
            "          the arguments to `to_replace` does not match the type of the\n",
            "          value being replaced\n",
            "    ValueError\n",
            "        * If a ``list`` or an ``ndarray`` is passed to `to_replace` and\n",
            "          `value` but they are not the same length.\n",
            "    \n",
            "    See Also\n",
            "    --------\n",
            "    DataFrame.fillna : Fill NA values.\n",
            "    DataFrame.where : Replace values based on boolean condition.\n",
            "    Series.str.replace : Simple string replacement.\n",
            "    \n",
            "    Notes\n",
            "    -----\n",
            "    * Regex substitution is performed under the hood with ``re.sub``. The\n",
            "      rules for substitution for ``re.sub`` are the same.\n",
            "    * Regular expressions will only substitute on strings, meaning you\n",
            "      cannot provide, for example, a regular expression matching floating\n",
            "      point numbers and expect the columns in your frame that have a\n",
            "      numeric dtype to be matched. However, if those floating point\n",
            "      numbers *are* strings, then you can do this.\n",
            "    * This method has *a lot* of options. You are encouraged to experiment\n",
            "      and play with this method to gain intuition about how it works.\n",
            "    * When dict is used as the `to_replace` value, it is like\n",
            "      key(s) in the dict are the to_replace part and\n",
            "      value(s) in the dict are the value parameter.\n",
            "    \n",
            "    Examples\n",
            "    --------\n",
            "    \n",
            "    **Scalar `to_replace` and `value`**\n",
            "    \n",
            "    >>> s = pd.Series([0, 1, 2, 3, 4])\n",
            "    >>> s.replace(0, 5)\n",
            "    0    5\n",
            "    1    1\n",
            "    2    2\n",
            "    3    3\n",
            "    4    4\n",
            "    dtype: int64\n",
            "    \n",
            "    >>> df = pd.DataFrame({'A': [0, 1, 2, 3, 4],\n",
            "    ...                    'B': [5, 6, 7, 8, 9],\n",
            "    ...                    'C': ['a', 'b', 'c', 'd', 'e']})\n",
            "    >>> df.replace(0, 5)\n",
            "       A  B  C\n",
            "    0  5  5  a\n",
            "    1  1  6  b\n",
            "    2  2  7  c\n",
            "    3  3  8  d\n",
            "    4  4  9  e\n",
            "    \n",
            "    **List-like `to_replace`**\n",
            "    \n",
            "    >>> df.replace([0, 1, 2, 3], 4)\n",
            "       A  B  C\n",
            "    0  4  5  a\n",
            "    1  4  6  b\n",
            "    2  4  7  c\n",
            "    3  4  8  d\n",
            "    4  4  9  e\n",
            "    \n",
            "    >>> df.replace([0, 1, 2, 3], [4, 3, 2, 1])\n",
            "       A  B  C\n",
            "    0  4  5  a\n",
            "    1  3  6  b\n",
            "    2  2  7  c\n",
            "    3  1  8  d\n",
            "    4  4  9  e\n",
            "    \n",
            "    >>> s.replace([1, 2], method='bfill')\n",
            "    0    0\n",
            "    1    3\n",
            "    2    3\n",
            "    3    3\n",
            "    4    4\n",
            "    dtype: int64\n",
            "    \n",
            "    **dict-like `to_replace`**\n",
            "    \n",
            "    >>> df.replace({0: 10, 1: 100})\n",
            "         A  B  C\n",
            "    0   10  5  a\n",
            "    1  100  6  b\n",
            "    2    2  7  c\n",
            "    3    3  8  d\n",
            "    4    4  9  e\n",
            "    \n",
            "    >>> df.replace({'A': 0, 'B': 5}, 100)\n",
            "         A    B  C\n",
            "    0  100  100  a\n",
            "    1    1    6  b\n",
            "    2    2    7  c\n",
            "    3    3    8  d\n",
            "    4    4    9  e\n",
            "    \n",
            "    >>> df.replace({'A': {0: 100, 4: 400}})\n",
            "         A  B  C\n",
            "    0  100  5  a\n",
            "    1    1  6  b\n",
            "    2    2  7  c\n",
            "    3    3  8  d\n",
            "    4  400  9  e\n",
            "    \n",
            "    **Regular expression `to_replace`**\n",
            "    \n",
            "    >>> df = pd.DataFrame({'A': ['bat', 'foo', 'bait'],\n",
            "    ...                    'B': ['abc', 'bar', 'xyz']})\n",
            "    >>> df.replace(to_replace=r'^ba.$', value='new', regex=True)\n",
            "          A    B\n",
            "    0   new  abc\n",
            "    1   foo  new\n",
            "    2  bait  xyz\n",
            "    \n",
            "    >>> df.replace({'A': r'^ba.$'}, {'A': 'new'}, regex=True)\n",
            "          A    B\n",
            "    0   new  abc\n",
            "    1   foo  bar\n",
            "    2  bait  xyz\n",
            "    \n",
            "    >>> df.replace(regex=r'^ba.$', value='new')\n",
            "          A    B\n",
            "    0   new  abc\n",
            "    1   foo  new\n",
            "    2  bait  xyz\n",
            "    \n",
            "    >>> df.replace(regex={r'^ba.$': 'new', 'foo': 'xyz'})\n",
            "          A    B\n",
            "    0   new  abc\n",
            "    1   xyz  new\n",
            "    2  bait  xyz\n",
            "    \n",
            "    >>> df.replace(regex=[r'^ba.$', 'foo'], value='new')\n",
            "          A    B\n",
            "    0   new  abc\n",
            "    1   new  new\n",
            "    2  bait  xyz\n",
            "    \n",
            "    Note that when replacing multiple ``bool`` or ``datetime64`` objects,\n",
            "    the data types in the `to_replace` parameter must match the data\n",
            "    type of the value being replaced:\n",
            "    \n",
            "    >>> df = pd.DataFrame({'A': [True, False, True],\n",
            "    ...                    'B': [False, True, False]})\n",
            "    >>> df.replace({'a string': 'new value', True: False})  # raises\n",
            "    Traceback (most recent call last):\n",
            "        ...\n",
            "    TypeError: Cannot compare types 'ndarray(dtype=bool)' and 'str'\n",
            "    \n",
            "    This raises a ``TypeError`` because one of the ``dict`` keys is not of\n",
            "    the correct type for replacement.\n",
            "    \n",
            "    Compare the behavior of ``s.replace({'a': None})`` and\n",
            "    ``s.replace('a', None)`` to understand the peculiarities\n",
            "    of the `to_replace` parameter:\n",
            "    \n",
            "    >>> s = pd.Series([10, 'a', 'a', 'b', 'a'])\n",
            "    \n",
            "    When one uses a dict as the `to_replace` value, it is like the\n",
            "    value(s) in the dict are equal to the `value` parameter.\n",
            "    ``s.replace({'a': None})`` is equivalent to\n",
            "    ``s.replace(to_replace={'a': None}, value=None, method=None)``:\n",
            "    \n",
            "    >>> s.replace({'a': None})\n",
            "    0      10\n",
            "    1    None\n",
            "    2    None\n",
            "    3       b\n",
            "    4    None\n",
            "    dtype: object\n",
            "    \n",
            "    When ``value=None`` and `to_replace` is a scalar, list or\n",
            "    tuple, `replace` uses the method parameter (default 'pad') to do the\n",
            "    replacement. So this is why the 'a' values are being replaced by 10\n",
            "    in rows 1 and 2 and 'b' in row 4 in this case.\n",
            "    The command ``s.replace('a', None)`` is actually equivalent to\n",
            "    ``s.replace(to_replace='a', value=None, method='pad')``:\n",
            "    \n",
            "    >>> s.replace('a', None)\n",
            "    0    10\n",
            "    1    10\n",
            "    2    10\n",
            "    3     b\n",
            "    4     b\n",
            "    dtype: object\n",
            "\n"
          ],
          "name": "stdout"
        }
      ]
    },
    {
      "cell_type": "code",
      "metadata": {
        "id": "L-OmaqH3_fhv",
        "colab_type": "code",
        "colab": {
          "base_uri": "https://localhost:8080/",
          "height": 141
        },
        "outputId": "33bd950a-e4aa-4958-d861-6f9f09ebef21"
      },
      "source": [
        "df_disney.dropna(subset=['Age'], axis=0)"
      ],
      "execution_count": 14,
      "outputs": [
        {
          "output_type": "execute_result",
          "data": {
            "text/html": [
              "<div>\n",
              "<style scoped>\n",
              "    .dataframe tbody tr th:only-of-type {\n",
              "        vertical-align: middle;\n",
              "    }\n",
              "\n",
              "    .dataframe tbody tr th {\n",
              "        vertical-align: top;\n",
              "    }\n",
              "\n",
              "    .dataframe thead th {\n",
              "        text-align: right;\n",
              "    }\n",
              "</style>\n",
              "<table border=\"1\" class=\"dataframe\">\n",
              "  <thead>\n",
              "    <tr style=\"text-align: right;\">\n",
              "      <th></th>\n",
              "      <th>Name</th>\n",
              "      <th>Last Name</th>\n",
              "      <th>Gender</th>\n",
              "      <th>Age</th>\n",
              "    </tr>\n",
              "  </thead>\n",
              "  <tbody>\n",
              "    <tr>\n",
              "      <th>0</th>\n",
              "      <td>mickey</td>\n",
              "      <td>mouse</td>\n",
              "      <td>m</td>\n",
              "      <td>23.0</td>\n",
              "    </tr>\n",
              "    <tr>\n",
              "      <th>1</th>\n",
              "      <td>donald</td>\n",
              "      <td>duck</td>\n",
              "      <td>m</td>\n",
              "      <td>25.0</td>\n",
              "    </tr>\n",
              "    <tr>\n",
              "      <th>3</th>\n",
              "      <td>minnie</td>\n",
              "      <td>mouse</td>\n",
              "      <td>f</td>\n",
              "      <td>30.0</td>\n",
              "    </tr>\n",
              "  </tbody>\n",
              "</table>\n",
              "</div>"
            ],
            "text/plain": [
              "     Name Last Name Gender   Age\n",
              "0  mickey     mouse      m  23.0\n",
              "1  donald      duck      m  25.0\n",
              "3  minnie     mouse      f  30.0"
            ]
          },
          "metadata": {
            "tags": []
          },
          "execution_count": 14
        }
      ]
    }
  ]
}