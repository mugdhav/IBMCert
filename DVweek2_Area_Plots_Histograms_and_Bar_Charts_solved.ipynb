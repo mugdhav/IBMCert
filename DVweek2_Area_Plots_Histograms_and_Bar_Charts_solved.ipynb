{
  "nbformat": 4,
  "nbformat_minor": 0,
  "metadata": {
    "kernelspec": {
      "display_name": "Python",
      "language": "python",
      "name": "conda-env-python-py"
    },
    "language_info": {
      "codemirror_mode": {
        "name": "ipython",
        "version": 3
      },
      "file_extension": ".py",
      "mimetype": "text/x-python",
      "name": "python",
      "nbconvert_exporter": "python",
      "pygments_lexer": "ipython3",
      "version": "3.6.10"
    },
    "colab": {
      "name": "DV0101EN-2-2-1-Area-Plots-Histograms-and-Bar-Charts-py-v2.0 (1).ipynb",
      "provenance": [],
      "include_colab_link": true
    }
  },
  "cells": [
    {
      "cell_type": "markdown",
      "metadata": {
        "id": "view-in-github",
        "colab_type": "text"
      },
      "source": [
        "<a href=\"https://colab.research.google.com/github/mugdhav/IBMCert/blob/master/DVweek2_Area_Plots_Histograms_and_Bar_Charts_solved.ipynb\" target=\"_parent\"><img src=\"https://colab.research.google.com/assets/colab-badge.svg\" alt=\"Open In Colab\"/></a>"
      ]
    },
    {
      "cell_type": "markdown",
      "metadata": {
        "button": false,
        "deletable": true,
        "editable": true,
        "new_sheet": false,
        "run_control": {
          "read_only": false
        },
        "id": "lq5Jt943_h6N",
        "colab_type": "text"
      },
      "source": [
        "<a href=\"https://cognitiveclass.ai\"><img src = \"https://ibm.box.com/shared/static/9gegpsmnsoo25ikkbl4qzlvlyjbgxs5x.png\" width = 400> </a>\n",
        "\n",
        "<h1 align=center><font size = 5>Area Plots, Histograms, and Bar Plots</font></h1>"
      ]
    },
    {
      "cell_type": "markdown",
      "metadata": {
        "button": false,
        "deletable": true,
        "editable": true,
        "new_sheet": false,
        "run_control": {
          "read_only": false
        },
        "id": "S3fuqV45_h6P",
        "colab_type": "text"
      },
      "source": [
        "## Introduction\n",
        "\n",
        "In this lab, we will continue exploring the Matplotlib library and will learn how to create additional plots, namely area plots, histograms, and bar charts."
      ]
    },
    {
      "cell_type": "markdown",
      "metadata": {
        "button": false,
        "deletable": true,
        "editable": true,
        "new_sheet": false,
        "run_control": {
          "read_only": false
        },
        "id": "CwprMm4r_h6Q",
        "colab_type": "text"
      },
      "source": [
        "## Table of Contents\n",
        "\n",
        "<div class=\"alert alert-block alert-info\" style=\"margin-top: 20px\">\n",
        "\n",
        "1. [Exploring Datasets with *pandas*](#0)<br>\n",
        "2. [Downloading and Prepping Data](#2)<br>\n",
        "3. [Visualizing Data using Matplotlib](#4) <br>\n",
        "4. [Area Plots](#6) <br>\n",
        "5. [Histograms](#8) <br>\n",
        "6. [Bar Charts](#10) <br>\n",
        "</div>\n",
        "<hr>"
      ]
    },
    {
      "cell_type": "markdown",
      "metadata": {
        "button": false,
        "deletable": true,
        "editable": true,
        "new_sheet": false,
        "run_control": {
          "read_only": false
        },
        "id": "z49L9XFs_h6R",
        "colab_type": "text"
      },
      "source": [
        "# Exploring Datasets with *pandas* and Matplotlib<a id=\"0\"></a>\n",
        "\n",
        "Toolkits: The course heavily relies on [*pandas*](http://pandas.pydata.org/) and [**Numpy**](http://www.numpy.org/) for data wrangling, analysis, and visualization. The primary plotting library that we are exploring in the course is [Matplotlib](http://matplotlib.org/).\n",
        "\n",
        "Dataset: Immigration to Canada from 1980 to 2013 - [International migration flows to and from selected countries - The 2015 revision](http://www.un.org/en/development/desa/population/migration/data/empirical2/migrationflows.shtml) from United Nation's website.\n",
        "\n",
        "The dataset contains annual data on the flows of international migrants as recorded by the countries of destination. The data presents both inflows and outflows according to the place of birth, citizenship or place of previous / next residence both for foreigners and nationals. For this lesson, we will focus on the Canadian Immigration data."
      ]
    },
    {
      "cell_type": "markdown",
      "metadata": {
        "button": false,
        "deletable": true,
        "editable": true,
        "new_sheet": false,
        "run_control": {
          "read_only": false
        },
        "id": "2k-1DRfb_h6S",
        "colab_type": "text"
      },
      "source": [
        "# Downloading and Prepping Data <a id=\"2\"></a>"
      ]
    },
    {
      "cell_type": "markdown",
      "metadata": {
        "button": false,
        "deletable": true,
        "editable": true,
        "new_sheet": false,
        "run_control": {
          "read_only": false
        },
        "id": "_fjZIY8p_h6T",
        "colab_type": "text"
      },
      "source": [
        "Import Primary Modules. The first thing we'll do is import two key data analysis modules: *pandas* and **Numpy**."
      ]
    },
    {
      "cell_type": "code",
      "metadata": {
        "button": false,
        "deletable": true,
        "editable": true,
        "jupyter": {
          "outputs_hidden": false
        },
        "new_sheet": false,
        "run_control": {
          "read_only": false
        },
        "id": "GHlmr6gp_h6U",
        "colab_type": "code",
        "colab": {}
      },
      "source": [
        "import numpy as np  # useful for many scientific computing in Python\n",
        "import pandas as pd # primary data structure library"
      ],
      "execution_count": 0,
      "outputs": []
    },
    {
      "cell_type": "markdown",
      "metadata": {
        "button": false,
        "deletable": true,
        "editable": true,
        "new_sheet": false,
        "run_control": {
          "read_only": false
        },
        "id": "g0ItZdv6_h6b",
        "colab_type": "text"
      },
      "source": [
        "Let's download and import our primary Canadian Immigration dataset using *pandas* `read_excel()` method. Normally, before we can do that, we would need to download a module which *pandas* requires to read in excel files. This module is **xlrd**. For your convenience, we have pre-installed this module, so you would not have to worry about that. Otherwise, you would need to run the following line of code to install the **xlrd** module:\n",
        "```\n",
        "!conda install -c anaconda xlrd --yes\n",
        "```"
      ]
    },
    {
      "cell_type": "markdown",
      "metadata": {
        "button": false,
        "deletable": true,
        "editable": true,
        "new_sheet": false,
        "run_control": {
          "read_only": false
        },
        "id": "DIiNzU6B_h6c",
        "colab_type": "text"
      },
      "source": [
        "Download the dataset and read it into a *pandas* dataframe."
      ]
    },
    {
      "cell_type": "code",
      "metadata": {
        "button": false,
        "deletable": true,
        "editable": true,
        "jupyter": {
          "outputs_hidden": false
        },
        "new_sheet": false,
        "run_control": {
          "read_only": false
        },
        "id": "Z6o3kCgf_h6d",
        "colab_type": "code",
        "colab": {},
        "outputId": "790ac62d-cc35-4187-e5b3-3253245678ca"
      },
      "source": [
        "df_can = pd.read_excel('https://s3-api.us-geo.objectstorage.softlayer.net/cf-courses-data/CognitiveClass/DV0101EN/labs/Data_Files/Canada.xlsx',\n",
        "                       sheet_name='Canada by Citizenship',\n",
        "                       skiprows=range(20),\n",
        "                       skipfooter=2\n",
        "                      )\n",
        "\n",
        "print('Data downloaded and read into a dataframe!')"
      ],
      "execution_count": 0,
      "outputs": [
        {
          "output_type": "stream",
          "text": [
            "Data downloaded and read into a dataframe!\n"
          ],
          "name": "stdout"
        }
      ]
    },
    {
      "cell_type": "markdown",
      "metadata": {
        "button": false,
        "deletable": true,
        "editable": true,
        "new_sheet": false,
        "run_control": {
          "read_only": false
        },
        "id": "OFVStZny_h6j",
        "colab_type": "text"
      },
      "source": [
        "Let's take a look at the first five items in our dataset."
      ]
    },
    {
      "cell_type": "code",
      "metadata": {
        "button": false,
        "deletable": true,
        "editable": true,
        "jupyter": {
          "outputs_hidden": false
        },
        "new_sheet": false,
        "run_control": {
          "read_only": false
        },
        "id": "X7VmVtN__h6j",
        "colab_type": "code",
        "colab": {},
        "outputId": "0598c082-2abf-45c3-c531-5cccd2183b35"
      },
      "source": [
        "df_can.head()"
      ],
      "execution_count": 0,
      "outputs": [
        {
          "output_type": "execute_result",
          "data": {
            "text/html": [
              "<div>\n",
              "<style scoped>\n",
              "    .dataframe tbody tr th:only-of-type {\n",
              "        vertical-align: middle;\n",
              "    }\n",
              "\n",
              "    .dataframe tbody tr th {\n",
              "        vertical-align: top;\n",
              "    }\n",
              "\n",
              "    .dataframe thead th {\n",
              "        text-align: right;\n",
              "    }\n",
              "</style>\n",
              "<table border=\"1\" class=\"dataframe\">\n",
              "  <thead>\n",
              "    <tr style=\"text-align: right;\">\n",
              "      <th></th>\n",
              "      <th>Type</th>\n",
              "      <th>Coverage</th>\n",
              "      <th>OdName</th>\n",
              "      <th>AREA</th>\n",
              "      <th>AreaName</th>\n",
              "      <th>REG</th>\n",
              "      <th>RegName</th>\n",
              "      <th>DEV</th>\n",
              "      <th>DevName</th>\n",
              "      <th>1980</th>\n",
              "      <th>...</th>\n",
              "      <th>2004</th>\n",
              "      <th>2005</th>\n",
              "      <th>2006</th>\n",
              "      <th>2007</th>\n",
              "      <th>2008</th>\n",
              "      <th>2009</th>\n",
              "      <th>2010</th>\n",
              "      <th>2011</th>\n",
              "      <th>2012</th>\n",
              "      <th>2013</th>\n",
              "    </tr>\n",
              "  </thead>\n",
              "  <tbody>\n",
              "    <tr>\n",
              "      <th>0</th>\n",
              "      <td>Immigrants</td>\n",
              "      <td>Foreigners</td>\n",
              "      <td>Afghanistan</td>\n",
              "      <td>935</td>\n",
              "      <td>Asia</td>\n",
              "      <td>5501</td>\n",
              "      <td>Southern Asia</td>\n",
              "      <td>902</td>\n",
              "      <td>Developing regions</td>\n",
              "      <td>16</td>\n",
              "      <td>...</td>\n",
              "      <td>2978</td>\n",
              "      <td>3436</td>\n",
              "      <td>3009</td>\n",
              "      <td>2652</td>\n",
              "      <td>2111</td>\n",
              "      <td>1746</td>\n",
              "      <td>1758</td>\n",
              "      <td>2203</td>\n",
              "      <td>2635</td>\n",
              "      <td>2004</td>\n",
              "    </tr>\n",
              "    <tr>\n",
              "      <th>1</th>\n",
              "      <td>Immigrants</td>\n",
              "      <td>Foreigners</td>\n",
              "      <td>Albania</td>\n",
              "      <td>908</td>\n",
              "      <td>Europe</td>\n",
              "      <td>925</td>\n",
              "      <td>Southern Europe</td>\n",
              "      <td>901</td>\n",
              "      <td>Developed regions</td>\n",
              "      <td>1</td>\n",
              "      <td>...</td>\n",
              "      <td>1450</td>\n",
              "      <td>1223</td>\n",
              "      <td>856</td>\n",
              "      <td>702</td>\n",
              "      <td>560</td>\n",
              "      <td>716</td>\n",
              "      <td>561</td>\n",
              "      <td>539</td>\n",
              "      <td>620</td>\n",
              "      <td>603</td>\n",
              "    </tr>\n",
              "    <tr>\n",
              "      <th>2</th>\n",
              "      <td>Immigrants</td>\n",
              "      <td>Foreigners</td>\n",
              "      <td>Algeria</td>\n",
              "      <td>903</td>\n",
              "      <td>Africa</td>\n",
              "      <td>912</td>\n",
              "      <td>Northern Africa</td>\n",
              "      <td>902</td>\n",
              "      <td>Developing regions</td>\n",
              "      <td>80</td>\n",
              "      <td>...</td>\n",
              "      <td>3616</td>\n",
              "      <td>3626</td>\n",
              "      <td>4807</td>\n",
              "      <td>3623</td>\n",
              "      <td>4005</td>\n",
              "      <td>5393</td>\n",
              "      <td>4752</td>\n",
              "      <td>4325</td>\n",
              "      <td>3774</td>\n",
              "      <td>4331</td>\n",
              "    </tr>\n",
              "    <tr>\n",
              "      <th>3</th>\n",
              "      <td>Immigrants</td>\n",
              "      <td>Foreigners</td>\n",
              "      <td>American Samoa</td>\n",
              "      <td>909</td>\n",
              "      <td>Oceania</td>\n",
              "      <td>957</td>\n",
              "      <td>Polynesia</td>\n",
              "      <td>902</td>\n",
              "      <td>Developing regions</td>\n",
              "      <td>0</td>\n",
              "      <td>...</td>\n",
              "      <td>0</td>\n",
              "      <td>0</td>\n",
              "      <td>1</td>\n",
              "      <td>0</td>\n",
              "      <td>0</td>\n",
              "      <td>0</td>\n",
              "      <td>0</td>\n",
              "      <td>0</td>\n",
              "      <td>0</td>\n",
              "      <td>0</td>\n",
              "    </tr>\n",
              "    <tr>\n",
              "      <th>4</th>\n",
              "      <td>Immigrants</td>\n",
              "      <td>Foreigners</td>\n",
              "      <td>Andorra</td>\n",
              "      <td>908</td>\n",
              "      <td>Europe</td>\n",
              "      <td>925</td>\n",
              "      <td>Southern Europe</td>\n",
              "      <td>901</td>\n",
              "      <td>Developed regions</td>\n",
              "      <td>0</td>\n",
              "      <td>...</td>\n",
              "      <td>0</td>\n",
              "      <td>0</td>\n",
              "      <td>1</td>\n",
              "      <td>1</td>\n",
              "      <td>0</td>\n",
              "      <td>0</td>\n",
              "      <td>0</td>\n",
              "      <td>0</td>\n",
              "      <td>1</td>\n",
              "      <td>1</td>\n",
              "    </tr>\n",
              "  </tbody>\n",
              "</table>\n",
              "<p>5 rows × 43 columns</p>\n",
              "</div>"
            ],
            "text/plain": [
              "         Type    Coverage          OdName  AREA AreaName   REG  \\\n",
              "0  Immigrants  Foreigners     Afghanistan   935     Asia  5501   \n",
              "1  Immigrants  Foreigners         Albania   908   Europe   925   \n",
              "2  Immigrants  Foreigners         Algeria   903   Africa   912   \n",
              "3  Immigrants  Foreigners  American Samoa   909  Oceania   957   \n",
              "4  Immigrants  Foreigners         Andorra   908   Europe   925   \n",
              "\n",
              "           RegName  DEV             DevName  1980  ...  2004  2005  2006  \\\n",
              "0    Southern Asia  902  Developing regions    16  ...  2978  3436  3009   \n",
              "1  Southern Europe  901   Developed regions     1  ...  1450  1223   856   \n",
              "2  Northern Africa  902  Developing regions    80  ...  3616  3626  4807   \n",
              "3        Polynesia  902  Developing regions     0  ...     0     0     1   \n",
              "4  Southern Europe  901   Developed regions     0  ...     0     0     1   \n",
              "\n",
              "   2007  2008  2009  2010  2011  2012  2013  \n",
              "0  2652  2111  1746  1758  2203  2635  2004  \n",
              "1   702   560   716   561   539   620   603  \n",
              "2  3623  4005  5393  4752  4325  3774  4331  \n",
              "3     0     0     0     0     0     0     0  \n",
              "4     1     0     0     0     0     1     1  \n",
              "\n",
              "[5 rows x 43 columns]"
            ]
          },
          "metadata": {
            "tags": []
          },
          "execution_count": 3
        }
      ]
    },
    {
      "cell_type": "markdown",
      "metadata": {
        "button": false,
        "deletable": true,
        "editable": true,
        "new_sheet": false,
        "run_control": {
          "read_only": false
        },
        "id": "ZRlgagyP_h6o",
        "colab_type": "text"
      },
      "source": [
        "Let's find out how many entries there are in our dataset."
      ]
    },
    {
      "cell_type": "code",
      "metadata": {
        "button": false,
        "deletable": true,
        "editable": true,
        "jupyter": {
          "outputs_hidden": false
        },
        "new_sheet": false,
        "run_control": {
          "read_only": false
        },
        "scrolled": true,
        "id": "qPExGgJ4_h6p",
        "colab_type": "code",
        "colab": {},
        "outputId": "d1b1fc28-e0e5-4530-a69b-c9aa3e0c7859"
      },
      "source": [
        "# print the dimensions of the dataframe\n",
        "print(df_can.shape)"
      ],
      "execution_count": 0,
      "outputs": [
        {
          "output_type": "stream",
          "text": [
            "(195, 43)\n"
          ],
          "name": "stdout"
        }
      ]
    },
    {
      "cell_type": "markdown",
      "metadata": {
        "button": false,
        "deletable": true,
        "editable": true,
        "new_sheet": false,
        "run_control": {
          "read_only": false
        },
        "id": "WVRGV8hw_h6u",
        "colab_type": "text"
      },
      "source": [
        "Clean up data. We will make some modifications to the original dataset to make it easier to create our visualizations. Refer to `Introduction to Matplotlib and Line Plots` lab for the rational and detailed description of the changes."
      ]
    },
    {
      "cell_type": "markdown",
      "metadata": {
        "button": false,
        "deletable": true,
        "editable": true,
        "new_sheet": false,
        "run_control": {
          "read_only": false
        },
        "id": "7Uwk74D5_h6v",
        "colab_type": "text"
      },
      "source": [
        "#### 1. Clean up the dataset to remove columns that are not informative to us for visualization (eg. Type, AREA, REG)."
      ]
    },
    {
      "cell_type": "code",
      "metadata": {
        "button": false,
        "deletable": true,
        "editable": true,
        "jupyter": {
          "outputs_hidden": false
        },
        "new_sheet": false,
        "run_control": {
          "read_only": false
        },
        "id": "TvE3XVx6_h6v",
        "colab_type": "code",
        "colab": {},
        "outputId": "1a03aba7-2598-4b6c-d5eb-e4f38ef8909d"
      },
      "source": [
        "df_can.drop(['AREA', 'REG', 'DEV', 'Type', 'Coverage'], axis=1, inplace=True)\n",
        "\n",
        "# let's view the first five elements and see how the dataframe was changed\n",
        "df_can.head()"
      ],
      "execution_count": 0,
      "outputs": [
        {
          "output_type": "execute_result",
          "data": {
            "text/html": [
              "<div>\n",
              "<style scoped>\n",
              "    .dataframe tbody tr th:only-of-type {\n",
              "        vertical-align: middle;\n",
              "    }\n",
              "\n",
              "    .dataframe tbody tr th {\n",
              "        vertical-align: top;\n",
              "    }\n",
              "\n",
              "    .dataframe thead th {\n",
              "        text-align: right;\n",
              "    }\n",
              "</style>\n",
              "<table border=\"1\" class=\"dataframe\">\n",
              "  <thead>\n",
              "    <tr style=\"text-align: right;\">\n",
              "      <th></th>\n",
              "      <th>OdName</th>\n",
              "      <th>AreaName</th>\n",
              "      <th>RegName</th>\n",
              "      <th>DevName</th>\n",
              "      <th>1980</th>\n",
              "      <th>1981</th>\n",
              "      <th>1982</th>\n",
              "      <th>1983</th>\n",
              "      <th>1984</th>\n",
              "      <th>1985</th>\n",
              "      <th>...</th>\n",
              "      <th>2004</th>\n",
              "      <th>2005</th>\n",
              "      <th>2006</th>\n",
              "      <th>2007</th>\n",
              "      <th>2008</th>\n",
              "      <th>2009</th>\n",
              "      <th>2010</th>\n",
              "      <th>2011</th>\n",
              "      <th>2012</th>\n",
              "      <th>2013</th>\n",
              "    </tr>\n",
              "  </thead>\n",
              "  <tbody>\n",
              "    <tr>\n",
              "      <th>0</th>\n",
              "      <td>Afghanistan</td>\n",
              "      <td>Asia</td>\n",
              "      <td>Southern Asia</td>\n",
              "      <td>Developing regions</td>\n",
              "      <td>16</td>\n",
              "      <td>39</td>\n",
              "      <td>39</td>\n",
              "      <td>47</td>\n",
              "      <td>71</td>\n",
              "      <td>340</td>\n",
              "      <td>...</td>\n",
              "      <td>2978</td>\n",
              "      <td>3436</td>\n",
              "      <td>3009</td>\n",
              "      <td>2652</td>\n",
              "      <td>2111</td>\n",
              "      <td>1746</td>\n",
              "      <td>1758</td>\n",
              "      <td>2203</td>\n",
              "      <td>2635</td>\n",
              "      <td>2004</td>\n",
              "    </tr>\n",
              "    <tr>\n",
              "      <th>1</th>\n",
              "      <td>Albania</td>\n",
              "      <td>Europe</td>\n",
              "      <td>Southern Europe</td>\n",
              "      <td>Developed regions</td>\n",
              "      <td>1</td>\n",
              "      <td>0</td>\n",
              "      <td>0</td>\n",
              "      <td>0</td>\n",
              "      <td>0</td>\n",
              "      <td>0</td>\n",
              "      <td>...</td>\n",
              "      <td>1450</td>\n",
              "      <td>1223</td>\n",
              "      <td>856</td>\n",
              "      <td>702</td>\n",
              "      <td>560</td>\n",
              "      <td>716</td>\n",
              "      <td>561</td>\n",
              "      <td>539</td>\n",
              "      <td>620</td>\n",
              "      <td>603</td>\n",
              "    </tr>\n",
              "    <tr>\n",
              "      <th>2</th>\n",
              "      <td>Algeria</td>\n",
              "      <td>Africa</td>\n",
              "      <td>Northern Africa</td>\n",
              "      <td>Developing regions</td>\n",
              "      <td>80</td>\n",
              "      <td>67</td>\n",
              "      <td>71</td>\n",
              "      <td>69</td>\n",
              "      <td>63</td>\n",
              "      <td>44</td>\n",
              "      <td>...</td>\n",
              "      <td>3616</td>\n",
              "      <td>3626</td>\n",
              "      <td>4807</td>\n",
              "      <td>3623</td>\n",
              "      <td>4005</td>\n",
              "      <td>5393</td>\n",
              "      <td>4752</td>\n",
              "      <td>4325</td>\n",
              "      <td>3774</td>\n",
              "      <td>4331</td>\n",
              "    </tr>\n",
              "    <tr>\n",
              "      <th>3</th>\n",
              "      <td>American Samoa</td>\n",
              "      <td>Oceania</td>\n",
              "      <td>Polynesia</td>\n",
              "      <td>Developing regions</td>\n",
              "      <td>0</td>\n",
              "      <td>1</td>\n",
              "      <td>0</td>\n",
              "      <td>0</td>\n",
              "      <td>0</td>\n",
              "      <td>0</td>\n",
              "      <td>...</td>\n",
              "      <td>0</td>\n",
              "      <td>0</td>\n",
              "      <td>1</td>\n",
              "      <td>0</td>\n",
              "      <td>0</td>\n",
              "      <td>0</td>\n",
              "      <td>0</td>\n",
              "      <td>0</td>\n",
              "      <td>0</td>\n",
              "      <td>0</td>\n",
              "    </tr>\n",
              "    <tr>\n",
              "      <th>4</th>\n",
              "      <td>Andorra</td>\n",
              "      <td>Europe</td>\n",
              "      <td>Southern Europe</td>\n",
              "      <td>Developed regions</td>\n",
              "      <td>0</td>\n",
              "      <td>0</td>\n",
              "      <td>0</td>\n",
              "      <td>0</td>\n",
              "      <td>0</td>\n",
              "      <td>0</td>\n",
              "      <td>...</td>\n",
              "      <td>0</td>\n",
              "      <td>0</td>\n",
              "      <td>1</td>\n",
              "      <td>1</td>\n",
              "      <td>0</td>\n",
              "      <td>0</td>\n",
              "      <td>0</td>\n",
              "      <td>0</td>\n",
              "      <td>1</td>\n",
              "      <td>1</td>\n",
              "    </tr>\n",
              "  </tbody>\n",
              "</table>\n",
              "<p>5 rows × 38 columns</p>\n",
              "</div>"
            ],
            "text/plain": [
              "           OdName AreaName          RegName             DevName  1980  1981  \\\n",
              "0     Afghanistan     Asia    Southern Asia  Developing regions    16    39   \n",
              "1         Albania   Europe  Southern Europe   Developed regions     1     0   \n",
              "2         Algeria   Africa  Northern Africa  Developing regions    80    67   \n",
              "3  American Samoa  Oceania        Polynesia  Developing regions     0     1   \n",
              "4         Andorra   Europe  Southern Europe   Developed regions     0     0   \n",
              "\n",
              "   1982  1983  1984  1985  ...  2004  2005  2006  2007  2008  2009  2010  \\\n",
              "0    39    47    71   340  ...  2978  3436  3009  2652  2111  1746  1758   \n",
              "1     0     0     0     0  ...  1450  1223   856   702   560   716   561   \n",
              "2    71    69    63    44  ...  3616  3626  4807  3623  4005  5393  4752   \n",
              "3     0     0     0     0  ...     0     0     1     0     0     0     0   \n",
              "4     0     0     0     0  ...     0     0     1     1     0     0     0   \n",
              "\n",
              "   2011  2012  2013  \n",
              "0  2203  2635  2004  \n",
              "1   539   620   603  \n",
              "2  4325  3774  4331  \n",
              "3     0     0     0  \n",
              "4     0     1     1  \n",
              "\n",
              "[5 rows x 38 columns]"
            ]
          },
          "metadata": {
            "tags": []
          },
          "execution_count": 5
        }
      ]
    },
    {
      "cell_type": "markdown",
      "metadata": {
        "button": false,
        "deletable": true,
        "editable": true,
        "new_sheet": false,
        "run_control": {
          "read_only": false
        },
        "id": "dt6fAAhD_h62",
        "colab_type": "text"
      },
      "source": [
        "Notice how the columns Type, Coverage, AREA, REG, and DEV got removed from the dataframe."
      ]
    },
    {
      "cell_type": "markdown",
      "metadata": {
        "button": false,
        "deletable": true,
        "editable": true,
        "new_sheet": false,
        "run_control": {
          "read_only": false
        },
        "id": "vDXhBDDy_h63",
        "colab_type": "text"
      },
      "source": [
        "#### 2. Rename some of the columns so that they make sense."
      ]
    },
    {
      "cell_type": "code",
      "metadata": {
        "button": false,
        "deletable": true,
        "editable": true,
        "jupyter": {
          "outputs_hidden": false
        },
        "new_sheet": false,
        "run_control": {
          "read_only": false
        },
        "id": "1P1s4RFc_h64",
        "colab_type": "code",
        "colab": {},
        "outputId": "c5c25946-bd95-4eb8-bdc9-2cfe2183ea1e"
      },
      "source": [
        "df_can.rename(columns={'OdName':'Country', 'AreaName':'Continent','RegName':'Region'}, inplace=True)\n",
        "\n",
        "# let's view the first five elements and see how the dataframe was changed\n",
        "df_can.head()"
      ],
      "execution_count": 0,
      "outputs": [
        {
          "output_type": "execute_result",
          "data": {
            "text/html": [
              "<div>\n",
              "<style scoped>\n",
              "    .dataframe tbody tr th:only-of-type {\n",
              "        vertical-align: middle;\n",
              "    }\n",
              "\n",
              "    .dataframe tbody tr th {\n",
              "        vertical-align: top;\n",
              "    }\n",
              "\n",
              "    .dataframe thead th {\n",
              "        text-align: right;\n",
              "    }\n",
              "</style>\n",
              "<table border=\"1\" class=\"dataframe\">\n",
              "  <thead>\n",
              "    <tr style=\"text-align: right;\">\n",
              "      <th></th>\n",
              "      <th>Country</th>\n",
              "      <th>Continent</th>\n",
              "      <th>Region</th>\n",
              "      <th>DevName</th>\n",
              "      <th>1980</th>\n",
              "      <th>1981</th>\n",
              "      <th>1982</th>\n",
              "      <th>1983</th>\n",
              "      <th>1984</th>\n",
              "      <th>1985</th>\n",
              "      <th>...</th>\n",
              "      <th>2004</th>\n",
              "      <th>2005</th>\n",
              "      <th>2006</th>\n",
              "      <th>2007</th>\n",
              "      <th>2008</th>\n",
              "      <th>2009</th>\n",
              "      <th>2010</th>\n",
              "      <th>2011</th>\n",
              "      <th>2012</th>\n",
              "      <th>2013</th>\n",
              "    </tr>\n",
              "  </thead>\n",
              "  <tbody>\n",
              "    <tr>\n",
              "      <th>0</th>\n",
              "      <td>Afghanistan</td>\n",
              "      <td>Asia</td>\n",
              "      <td>Southern Asia</td>\n",
              "      <td>Developing regions</td>\n",
              "      <td>16</td>\n",
              "      <td>39</td>\n",
              "      <td>39</td>\n",
              "      <td>47</td>\n",
              "      <td>71</td>\n",
              "      <td>340</td>\n",
              "      <td>...</td>\n",
              "      <td>2978</td>\n",
              "      <td>3436</td>\n",
              "      <td>3009</td>\n",
              "      <td>2652</td>\n",
              "      <td>2111</td>\n",
              "      <td>1746</td>\n",
              "      <td>1758</td>\n",
              "      <td>2203</td>\n",
              "      <td>2635</td>\n",
              "      <td>2004</td>\n",
              "    </tr>\n",
              "    <tr>\n",
              "      <th>1</th>\n",
              "      <td>Albania</td>\n",
              "      <td>Europe</td>\n",
              "      <td>Southern Europe</td>\n",
              "      <td>Developed regions</td>\n",
              "      <td>1</td>\n",
              "      <td>0</td>\n",
              "      <td>0</td>\n",
              "      <td>0</td>\n",
              "      <td>0</td>\n",
              "      <td>0</td>\n",
              "      <td>...</td>\n",
              "      <td>1450</td>\n",
              "      <td>1223</td>\n",
              "      <td>856</td>\n",
              "      <td>702</td>\n",
              "      <td>560</td>\n",
              "      <td>716</td>\n",
              "      <td>561</td>\n",
              "      <td>539</td>\n",
              "      <td>620</td>\n",
              "      <td>603</td>\n",
              "    </tr>\n",
              "    <tr>\n",
              "      <th>2</th>\n",
              "      <td>Algeria</td>\n",
              "      <td>Africa</td>\n",
              "      <td>Northern Africa</td>\n",
              "      <td>Developing regions</td>\n",
              "      <td>80</td>\n",
              "      <td>67</td>\n",
              "      <td>71</td>\n",
              "      <td>69</td>\n",
              "      <td>63</td>\n",
              "      <td>44</td>\n",
              "      <td>...</td>\n",
              "      <td>3616</td>\n",
              "      <td>3626</td>\n",
              "      <td>4807</td>\n",
              "      <td>3623</td>\n",
              "      <td>4005</td>\n",
              "      <td>5393</td>\n",
              "      <td>4752</td>\n",
              "      <td>4325</td>\n",
              "      <td>3774</td>\n",
              "      <td>4331</td>\n",
              "    </tr>\n",
              "    <tr>\n",
              "      <th>3</th>\n",
              "      <td>American Samoa</td>\n",
              "      <td>Oceania</td>\n",
              "      <td>Polynesia</td>\n",
              "      <td>Developing regions</td>\n",
              "      <td>0</td>\n",
              "      <td>1</td>\n",
              "      <td>0</td>\n",
              "      <td>0</td>\n",
              "      <td>0</td>\n",
              "      <td>0</td>\n",
              "      <td>...</td>\n",
              "      <td>0</td>\n",
              "      <td>0</td>\n",
              "      <td>1</td>\n",
              "      <td>0</td>\n",
              "      <td>0</td>\n",
              "      <td>0</td>\n",
              "      <td>0</td>\n",
              "      <td>0</td>\n",
              "      <td>0</td>\n",
              "      <td>0</td>\n",
              "    </tr>\n",
              "    <tr>\n",
              "      <th>4</th>\n",
              "      <td>Andorra</td>\n",
              "      <td>Europe</td>\n",
              "      <td>Southern Europe</td>\n",
              "      <td>Developed regions</td>\n",
              "      <td>0</td>\n",
              "      <td>0</td>\n",
              "      <td>0</td>\n",
              "      <td>0</td>\n",
              "      <td>0</td>\n",
              "      <td>0</td>\n",
              "      <td>...</td>\n",
              "      <td>0</td>\n",
              "      <td>0</td>\n",
              "      <td>1</td>\n",
              "      <td>1</td>\n",
              "      <td>0</td>\n",
              "      <td>0</td>\n",
              "      <td>0</td>\n",
              "      <td>0</td>\n",
              "      <td>1</td>\n",
              "      <td>1</td>\n",
              "    </tr>\n",
              "  </tbody>\n",
              "</table>\n",
              "<p>5 rows × 38 columns</p>\n",
              "</div>"
            ],
            "text/plain": [
              "          Country Continent           Region             DevName  1980  1981  \\\n",
              "0     Afghanistan      Asia    Southern Asia  Developing regions    16    39   \n",
              "1         Albania    Europe  Southern Europe   Developed regions     1     0   \n",
              "2         Algeria    Africa  Northern Africa  Developing regions    80    67   \n",
              "3  American Samoa   Oceania        Polynesia  Developing regions     0     1   \n",
              "4         Andorra    Europe  Southern Europe   Developed regions     0     0   \n",
              "\n",
              "   1982  1983  1984  1985  ...  2004  2005  2006  2007  2008  2009  2010  \\\n",
              "0    39    47    71   340  ...  2978  3436  3009  2652  2111  1746  1758   \n",
              "1     0     0     0     0  ...  1450  1223   856   702   560   716   561   \n",
              "2    71    69    63    44  ...  3616  3626  4807  3623  4005  5393  4752   \n",
              "3     0     0     0     0  ...     0     0     1     0     0     0     0   \n",
              "4     0     0     0     0  ...     0     0     1     1     0     0     0   \n",
              "\n",
              "   2011  2012  2013  \n",
              "0  2203  2635  2004  \n",
              "1   539   620   603  \n",
              "2  4325  3774  4331  \n",
              "3     0     0     0  \n",
              "4     0     1     1  \n",
              "\n",
              "[5 rows x 38 columns]"
            ]
          },
          "metadata": {
            "tags": []
          },
          "execution_count": 6
        }
      ]
    },
    {
      "cell_type": "markdown",
      "metadata": {
        "button": false,
        "deletable": true,
        "editable": true,
        "new_sheet": false,
        "run_control": {
          "read_only": false
        },
        "id": "ZRQ3vDmz_h7B",
        "colab_type": "text"
      },
      "source": [
        "Notice how the column names now make much more sense, even to an outsider."
      ]
    },
    {
      "cell_type": "markdown",
      "metadata": {
        "button": false,
        "deletable": true,
        "editable": true,
        "new_sheet": false,
        "run_control": {
          "read_only": false
        },
        "id": "Oxo-Jrks_h7F",
        "colab_type": "text"
      },
      "source": [
        "#### 3. For consistency, ensure that all column labels of type string."
      ]
    },
    {
      "cell_type": "code",
      "metadata": {
        "button": false,
        "deletable": true,
        "editable": true,
        "jupyter": {
          "outputs_hidden": false
        },
        "new_sheet": false,
        "run_control": {
          "read_only": false
        },
        "scrolled": true,
        "id": "FNspP6rP_h7G",
        "colab_type": "code",
        "colab": {},
        "outputId": "7aaf59a8-4f92-4c88-987c-e1607754b0a8"
      },
      "source": [
        "# let's examine the types of the column labels\n",
        "all(isinstance(column, str) for column in df_can.columns)"
      ],
      "execution_count": 0,
      "outputs": [
        {
          "output_type": "execute_result",
          "data": {
            "text/plain": [
              "False"
            ]
          },
          "metadata": {
            "tags": []
          },
          "execution_count": 7
        }
      ]
    },
    {
      "cell_type": "markdown",
      "metadata": {
        "button": false,
        "deletable": true,
        "editable": true,
        "new_sheet": false,
        "run_control": {
          "read_only": false
        },
        "id": "fCYt5iNL_h7M",
        "colab_type": "text"
      },
      "source": [
        "Notice how the above line of code returned *False* when we tested if all the column labels are of type **string**. So let's change them all to **string** type."
      ]
    },
    {
      "cell_type": "code",
      "metadata": {
        "button": false,
        "deletable": true,
        "editable": true,
        "jupyter": {
          "outputs_hidden": false
        },
        "new_sheet": false,
        "run_control": {
          "read_only": false
        },
        "id": "Az2LV8NV_h7N",
        "colab_type": "code",
        "colab": {},
        "outputId": "bd28361a-644d-49f4-eabc-bdd6fe2dabe9"
      },
      "source": [
        "df_can.columns = list(map(str, df_can.columns))\n",
        "\n",
        "# let's check the column labels types now\n",
        "all(isinstance(column, str) for column in df_can.columns)"
      ],
      "execution_count": 0,
      "outputs": [
        {
          "output_type": "execute_result",
          "data": {
            "text/plain": [
              "True"
            ]
          },
          "metadata": {
            "tags": []
          },
          "execution_count": 8
        }
      ]
    },
    {
      "cell_type": "markdown",
      "metadata": {
        "button": false,
        "deletable": true,
        "editable": true,
        "new_sheet": false,
        "run_control": {
          "read_only": false
        },
        "id": "9uj1C-M7_h7V",
        "colab_type": "text"
      },
      "source": [
        "#### 4. Set the country name as index - useful for quickly looking up countries using .loc method."
      ]
    },
    {
      "cell_type": "code",
      "metadata": {
        "button": false,
        "deletable": true,
        "editable": true,
        "jupyter": {
          "outputs_hidden": false
        },
        "new_sheet": false,
        "run_control": {
          "read_only": false
        },
        "id": "nL7bgVgt_h7W",
        "colab_type": "code",
        "colab": {},
        "outputId": "81d6bfe0-660b-4f52-c159-12a7e5c73b71"
      },
      "source": [
        "df_can.set_index('Country', inplace=True)\n",
        "\n",
        "# let's view the first five elements and see how the dataframe was changed\n",
        "df_can.head()"
      ],
      "execution_count": 0,
      "outputs": [
        {
          "output_type": "execute_result",
          "data": {
            "text/html": [
              "<div>\n",
              "<style scoped>\n",
              "    .dataframe tbody tr th:only-of-type {\n",
              "        vertical-align: middle;\n",
              "    }\n",
              "\n",
              "    .dataframe tbody tr th {\n",
              "        vertical-align: top;\n",
              "    }\n",
              "\n",
              "    .dataframe thead th {\n",
              "        text-align: right;\n",
              "    }\n",
              "</style>\n",
              "<table border=\"1\" class=\"dataframe\">\n",
              "  <thead>\n",
              "    <tr style=\"text-align: right;\">\n",
              "      <th></th>\n",
              "      <th>Continent</th>\n",
              "      <th>Region</th>\n",
              "      <th>DevName</th>\n",
              "      <th>1980</th>\n",
              "      <th>1981</th>\n",
              "      <th>1982</th>\n",
              "      <th>1983</th>\n",
              "      <th>1984</th>\n",
              "      <th>1985</th>\n",
              "      <th>1986</th>\n",
              "      <th>...</th>\n",
              "      <th>2004</th>\n",
              "      <th>2005</th>\n",
              "      <th>2006</th>\n",
              "      <th>2007</th>\n",
              "      <th>2008</th>\n",
              "      <th>2009</th>\n",
              "      <th>2010</th>\n",
              "      <th>2011</th>\n",
              "      <th>2012</th>\n",
              "      <th>2013</th>\n",
              "    </tr>\n",
              "    <tr>\n",
              "      <th>Country</th>\n",
              "      <th></th>\n",
              "      <th></th>\n",
              "      <th></th>\n",
              "      <th></th>\n",
              "      <th></th>\n",
              "      <th></th>\n",
              "      <th></th>\n",
              "      <th></th>\n",
              "      <th></th>\n",
              "      <th></th>\n",
              "      <th></th>\n",
              "      <th></th>\n",
              "      <th></th>\n",
              "      <th></th>\n",
              "      <th></th>\n",
              "      <th></th>\n",
              "      <th></th>\n",
              "      <th></th>\n",
              "      <th></th>\n",
              "      <th></th>\n",
              "      <th></th>\n",
              "    </tr>\n",
              "  </thead>\n",
              "  <tbody>\n",
              "    <tr>\n",
              "      <th>Afghanistan</th>\n",
              "      <td>Asia</td>\n",
              "      <td>Southern Asia</td>\n",
              "      <td>Developing regions</td>\n",
              "      <td>16</td>\n",
              "      <td>39</td>\n",
              "      <td>39</td>\n",
              "      <td>47</td>\n",
              "      <td>71</td>\n",
              "      <td>340</td>\n",
              "      <td>496</td>\n",
              "      <td>...</td>\n",
              "      <td>2978</td>\n",
              "      <td>3436</td>\n",
              "      <td>3009</td>\n",
              "      <td>2652</td>\n",
              "      <td>2111</td>\n",
              "      <td>1746</td>\n",
              "      <td>1758</td>\n",
              "      <td>2203</td>\n",
              "      <td>2635</td>\n",
              "      <td>2004</td>\n",
              "    </tr>\n",
              "    <tr>\n",
              "      <th>Albania</th>\n",
              "      <td>Europe</td>\n",
              "      <td>Southern Europe</td>\n",
              "      <td>Developed regions</td>\n",
              "      <td>1</td>\n",
              "      <td>0</td>\n",
              "      <td>0</td>\n",
              "      <td>0</td>\n",
              "      <td>0</td>\n",
              "      <td>0</td>\n",
              "      <td>1</td>\n",
              "      <td>...</td>\n",
              "      <td>1450</td>\n",
              "      <td>1223</td>\n",
              "      <td>856</td>\n",
              "      <td>702</td>\n",
              "      <td>560</td>\n",
              "      <td>716</td>\n",
              "      <td>561</td>\n",
              "      <td>539</td>\n",
              "      <td>620</td>\n",
              "      <td>603</td>\n",
              "    </tr>\n",
              "    <tr>\n",
              "      <th>Algeria</th>\n",
              "      <td>Africa</td>\n",
              "      <td>Northern Africa</td>\n",
              "      <td>Developing regions</td>\n",
              "      <td>80</td>\n",
              "      <td>67</td>\n",
              "      <td>71</td>\n",
              "      <td>69</td>\n",
              "      <td>63</td>\n",
              "      <td>44</td>\n",
              "      <td>69</td>\n",
              "      <td>...</td>\n",
              "      <td>3616</td>\n",
              "      <td>3626</td>\n",
              "      <td>4807</td>\n",
              "      <td>3623</td>\n",
              "      <td>4005</td>\n",
              "      <td>5393</td>\n",
              "      <td>4752</td>\n",
              "      <td>4325</td>\n",
              "      <td>3774</td>\n",
              "      <td>4331</td>\n",
              "    </tr>\n",
              "    <tr>\n",
              "      <th>American Samoa</th>\n",
              "      <td>Oceania</td>\n",
              "      <td>Polynesia</td>\n",
              "      <td>Developing regions</td>\n",
              "      <td>0</td>\n",
              "      <td>1</td>\n",
              "      <td>0</td>\n",
              "      <td>0</td>\n",
              "      <td>0</td>\n",
              "      <td>0</td>\n",
              "      <td>0</td>\n",
              "      <td>...</td>\n",
              "      <td>0</td>\n",
              "      <td>0</td>\n",
              "      <td>1</td>\n",
              "      <td>0</td>\n",
              "      <td>0</td>\n",
              "      <td>0</td>\n",
              "      <td>0</td>\n",
              "      <td>0</td>\n",
              "      <td>0</td>\n",
              "      <td>0</td>\n",
              "    </tr>\n",
              "    <tr>\n",
              "      <th>Andorra</th>\n",
              "      <td>Europe</td>\n",
              "      <td>Southern Europe</td>\n",
              "      <td>Developed regions</td>\n",
              "      <td>0</td>\n",
              "      <td>0</td>\n",
              "      <td>0</td>\n",
              "      <td>0</td>\n",
              "      <td>0</td>\n",
              "      <td>0</td>\n",
              "      <td>2</td>\n",
              "      <td>...</td>\n",
              "      <td>0</td>\n",
              "      <td>0</td>\n",
              "      <td>1</td>\n",
              "      <td>1</td>\n",
              "      <td>0</td>\n",
              "      <td>0</td>\n",
              "      <td>0</td>\n",
              "      <td>0</td>\n",
              "      <td>1</td>\n",
              "      <td>1</td>\n",
              "    </tr>\n",
              "  </tbody>\n",
              "</table>\n",
              "<p>5 rows × 37 columns</p>\n",
              "</div>"
            ],
            "text/plain": [
              "               Continent           Region             DevName  1980  1981  \\\n",
              "Country                                                                     \n",
              "Afghanistan         Asia    Southern Asia  Developing regions    16    39   \n",
              "Albania           Europe  Southern Europe   Developed regions     1     0   \n",
              "Algeria           Africa  Northern Africa  Developing regions    80    67   \n",
              "American Samoa   Oceania        Polynesia  Developing regions     0     1   \n",
              "Andorra           Europe  Southern Europe   Developed regions     0     0   \n",
              "\n",
              "                1982  1983  1984  1985  1986  ...  2004  2005  2006  2007  \\\n",
              "Country                                       ...                           \n",
              "Afghanistan       39    47    71   340   496  ...  2978  3436  3009  2652   \n",
              "Albania            0     0     0     0     1  ...  1450  1223   856   702   \n",
              "Algeria           71    69    63    44    69  ...  3616  3626  4807  3623   \n",
              "American Samoa     0     0     0     0     0  ...     0     0     1     0   \n",
              "Andorra            0     0     0     0     2  ...     0     0     1     1   \n",
              "\n",
              "                2008  2009  2010  2011  2012  2013  \n",
              "Country                                             \n",
              "Afghanistan     2111  1746  1758  2203  2635  2004  \n",
              "Albania          560   716   561   539   620   603  \n",
              "Algeria         4005  5393  4752  4325  3774  4331  \n",
              "American Samoa     0     0     0     0     0     0  \n",
              "Andorra            0     0     0     0     1     1  \n",
              "\n",
              "[5 rows x 37 columns]"
            ]
          },
          "metadata": {
            "tags": []
          },
          "execution_count": 9
        }
      ]
    },
    {
      "cell_type": "markdown",
      "metadata": {
        "button": false,
        "deletable": true,
        "editable": true,
        "new_sheet": false,
        "run_control": {
          "read_only": false
        },
        "id": "xvNtXh8f_h7f",
        "colab_type": "text"
      },
      "source": [
        "Notice how the country names now serve as indices."
      ]
    },
    {
      "cell_type": "markdown",
      "metadata": {
        "button": false,
        "deletable": true,
        "editable": true,
        "new_sheet": false,
        "run_control": {
          "read_only": false
        },
        "id": "TwYQJcYZ_h7h",
        "colab_type": "text"
      },
      "source": [
        "#### 5. Add total column."
      ]
    },
    {
      "cell_type": "code",
      "metadata": {
        "button": false,
        "deletable": true,
        "editable": true,
        "jupyter": {
          "outputs_hidden": false
        },
        "new_sheet": false,
        "run_control": {
          "read_only": false
        },
        "id": "-IhN9uTe_h7i",
        "colab_type": "code",
        "colab": {},
        "outputId": "7d885ce4-d5f0-4474-ff17-dd8cc88fcc11"
      },
      "source": [
        "df_can['Total'] = df_can.sum(axis=1)\n",
        "\n",
        "# let's view the first five elements and see how the dataframe was changed\n",
        "df_can.head()"
      ],
      "execution_count": 0,
      "outputs": [
        {
          "output_type": "execute_result",
          "data": {
            "text/html": [
              "<div>\n",
              "<style scoped>\n",
              "    .dataframe tbody tr th:only-of-type {\n",
              "        vertical-align: middle;\n",
              "    }\n",
              "\n",
              "    .dataframe tbody tr th {\n",
              "        vertical-align: top;\n",
              "    }\n",
              "\n",
              "    .dataframe thead th {\n",
              "        text-align: right;\n",
              "    }\n",
              "</style>\n",
              "<table border=\"1\" class=\"dataframe\">\n",
              "  <thead>\n",
              "    <tr style=\"text-align: right;\">\n",
              "      <th></th>\n",
              "      <th>Continent</th>\n",
              "      <th>Region</th>\n",
              "      <th>DevName</th>\n",
              "      <th>1980</th>\n",
              "      <th>1981</th>\n",
              "      <th>1982</th>\n",
              "      <th>1983</th>\n",
              "      <th>1984</th>\n",
              "      <th>1985</th>\n",
              "      <th>1986</th>\n",
              "      <th>...</th>\n",
              "      <th>2005</th>\n",
              "      <th>2006</th>\n",
              "      <th>2007</th>\n",
              "      <th>2008</th>\n",
              "      <th>2009</th>\n",
              "      <th>2010</th>\n",
              "      <th>2011</th>\n",
              "      <th>2012</th>\n",
              "      <th>2013</th>\n",
              "      <th>Total</th>\n",
              "    </tr>\n",
              "    <tr>\n",
              "      <th>Country</th>\n",
              "      <th></th>\n",
              "      <th></th>\n",
              "      <th></th>\n",
              "      <th></th>\n",
              "      <th></th>\n",
              "      <th></th>\n",
              "      <th></th>\n",
              "      <th></th>\n",
              "      <th></th>\n",
              "      <th></th>\n",
              "      <th></th>\n",
              "      <th></th>\n",
              "      <th></th>\n",
              "      <th></th>\n",
              "      <th></th>\n",
              "      <th></th>\n",
              "      <th></th>\n",
              "      <th></th>\n",
              "      <th></th>\n",
              "      <th></th>\n",
              "      <th></th>\n",
              "    </tr>\n",
              "  </thead>\n",
              "  <tbody>\n",
              "    <tr>\n",
              "      <th>Afghanistan</th>\n",
              "      <td>Asia</td>\n",
              "      <td>Southern Asia</td>\n",
              "      <td>Developing regions</td>\n",
              "      <td>16</td>\n",
              "      <td>39</td>\n",
              "      <td>39</td>\n",
              "      <td>47</td>\n",
              "      <td>71</td>\n",
              "      <td>340</td>\n",
              "      <td>496</td>\n",
              "      <td>...</td>\n",
              "      <td>3436</td>\n",
              "      <td>3009</td>\n",
              "      <td>2652</td>\n",
              "      <td>2111</td>\n",
              "      <td>1746</td>\n",
              "      <td>1758</td>\n",
              "      <td>2203</td>\n",
              "      <td>2635</td>\n",
              "      <td>2004</td>\n",
              "      <td>58639</td>\n",
              "    </tr>\n",
              "    <tr>\n",
              "      <th>Albania</th>\n",
              "      <td>Europe</td>\n",
              "      <td>Southern Europe</td>\n",
              "      <td>Developed regions</td>\n",
              "      <td>1</td>\n",
              "      <td>0</td>\n",
              "      <td>0</td>\n",
              "      <td>0</td>\n",
              "      <td>0</td>\n",
              "      <td>0</td>\n",
              "      <td>1</td>\n",
              "      <td>...</td>\n",
              "      <td>1223</td>\n",
              "      <td>856</td>\n",
              "      <td>702</td>\n",
              "      <td>560</td>\n",
              "      <td>716</td>\n",
              "      <td>561</td>\n",
              "      <td>539</td>\n",
              "      <td>620</td>\n",
              "      <td>603</td>\n",
              "      <td>15699</td>\n",
              "    </tr>\n",
              "    <tr>\n",
              "      <th>Algeria</th>\n",
              "      <td>Africa</td>\n",
              "      <td>Northern Africa</td>\n",
              "      <td>Developing regions</td>\n",
              "      <td>80</td>\n",
              "      <td>67</td>\n",
              "      <td>71</td>\n",
              "      <td>69</td>\n",
              "      <td>63</td>\n",
              "      <td>44</td>\n",
              "      <td>69</td>\n",
              "      <td>...</td>\n",
              "      <td>3626</td>\n",
              "      <td>4807</td>\n",
              "      <td>3623</td>\n",
              "      <td>4005</td>\n",
              "      <td>5393</td>\n",
              "      <td>4752</td>\n",
              "      <td>4325</td>\n",
              "      <td>3774</td>\n",
              "      <td>4331</td>\n",
              "      <td>69439</td>\n",
              "    </tr>\n",
              "    <tr>\n",
              "      <th>American Samoa</th>\n",
              "      <td>Oceania</td>\n",
              "      <td>Polynesia</td>\n",
              "      <td>Developing regions</td>\n",
              "      <td>0</td>\n",
              "      <td>1</td>\n",
              "      <td>0</td>\n",
              "      <td>0</td>\n",
              "      <td>0</td>\n",
              "      <td>0</td>\n",
              "      <td>0</td>\n",
              "      <td>...</td>\n",
              "      <td>0</td>\n",
              "      <td>1</td>\n",
              "      <td>0</td>\n",
              "      <td>0</td>\n",
              "      <td>0</td>\n",
              "      <td>0</td>\n",
              "      <td>0</td>\n",
              "      <td>0</td>\n",
              "      <td>0</td>\n",
              "      <td>6</td>\n",
              "    </tr>\n",
              "    <tr>\n",
              "      <th>Andorra</th>\n",
              "      <td>Europe</td>\n",
              "      <td>Southern Europe</td>\n",
              "      <td>Developed regions</td>\n",
              "      <td>0</td>\n",
              "      <td>0</td>\n",
              "      <td>0</td>\n",
              "      <td>0</td>\n",
              "      <td>0</td>\n",
              "      <td>0</td>\n",
              "      <td>2</td>\n",
              "      <td>...</td>\n",
              "      <td>0</td>\n",
              "      <td>1</td>\n",
              "      <td>1</td>\n",
              "      <td>0</td>\n",
              "      <td>0</td>\n",
              "      <td>0</td>\n",
              "      <td>0</td>\n",
              "      <td>1</td>\n",
              "      <td>1</td>\n",
              "      <td>15</td>\n",
              "    </tr>\n",
              "  </tbody>\n",
              "</table>\n",
              "<p>5 rows × 38 columns</p>\n",
              "</div>"
            ],
            "text/plain": [
              "               Continent           Region             DevName  1980  1981  \\\n",
              "Country                                                                     \n",
              "Afghanistan         Asia    Southern Asia  Developing regions    16    39   \n",
              "Albania           Europe  Southern Europe   Developed regions     1     0   \n",
              "Algeria           Africa  Northern Africa  Developing regions    80    67   \n",
              "American Samoa   Oceania        Polynesia  Developing regions     0     1   \n",
              "Andorra           Europe  Southern Europe   Developed regions     0     0   \n",
              "\n",
              "                1982  1983  1984  1985  1986  ...  2005  2006  2007  2008  \\\n",
              "Country                                       ...                           \n",
              "Afghanistan       39    47    71   340   496  ...  3436  3009  2652  2111   \n",
              "Albania            0     0     0     0     1  ...  1223   856   702   560   \n",
              "Algeria           71    69    63    44    69  ...  3626  4807  3623  4005   \n",
              "American Samoa     0     0     0     0     0  ...     0     1     0     0   \n",
              "Andorra            0     0     0     0     2  ...     0     1     1     0   \n",
              "\n",
              "                2009  2010  2011  2012  2013  Total  \n",
              "Country                                              \n",
              "Afghanistan     1746  1758  2203  2635  2004  58639  \n",
              "Albania          716   561   539   620   603  15699  \n",
              "Algeria         5393  4752  4325  3774  4331  69439  \n",
              "American Samoa     0     0     0     0     0      6  \n",
              "Andorra            0     0     0     1     1     15  \n",
              "\n",
              "[5 rows x 38 columns]"
            ]
          },
          "metadata": {
            "tags": []
          },
          "execution_count": 10
        }
      ]
    },
    {
      "cell_type": "markdown",
      "metadata": {
        "button": false,
        "deletable": true,
        "editable": true,
        "new_sheet": false,
        "run_control": {
          "read_only": false
        },
        "id": "yKc-TLZ1_h7r",
        "colab_type": "text"
      },
      "source": [
        "Now the dataframe has an extra column that presents the total number of immigrants from each country in the dataset from 1980 - 2013. So if we print the dimension of the data, we get:"
      ]
    },
    {
      "cell_type": "code",
      "metadata": {
        "button": false,
        "deletable": true,
        "editable": true,
        "jupyter": {
          "outputs_hidden": false
        },
        "new_sheet": false,
        "run_control": {
          "read_only": false
        },
        "scrolled": true,
        "id": "ZBNhNXm6_h7u",
        "colab_type": "code",
        "colab": {},
        "outputId": "b1a9bf63-5a3a-421b-c84c-c6a239ae0f95"
      },
      "source": [
        "print ('data dimensions:', df_can.shape)"
      ],
      "execution_count": 0,
      "outputs": [
        {
          "output_type": "stream",
          "text": [
            "data dimensions: (195, 38)\n"
          ],
          "name": "stdout"
        }
      ]
    },
    {
      "cell_type": "markdown",
      "metadata": {
        "button": false,
        "deletable": true,
        "editable": true,
        "new_sheet": false,
        "run_control": {
          "read_only": false
        },
        "id": "VXZb-Dfe_h70",
        "colab_type": "text"
      },
      "source": [
        "So now our dataframe has 38 columns instead of 37 columns that we had before."
      ]
    },
    {
      "cell_type": "code",
      "metadata": {
        "button": false,
        "deletable": true,
        "editable": true,
        "jupyter": {
          "outputs_hidden": false
        },
        "new_sheet": false,
        "run_control": {
          "read_only": false
        },
        "id": "TuGhkPNd_h71",
        "colab_type": "code",
        "colab": {},
        "outputId": "a14b1da4-ac19-4576-892b-1c460cde3194"
      },
      "source": [
        "# finally, let's create a list of years from 1980 - 2013\n",
        "# this will come in handy when we start plotting the data\n",
        "years = list(map(str, range(1980, 2014)))\n",
        "\n",
        "years"
      ],
      "execution_count": 0,
      "outputs": [
        {
          "output_type": "execute_result",
          "data": {
            "text/plain": [
              "['1980',\n",
              " '1981',\n",
              " '1982',\n",
              " '1983',\n",
              " '1984',\n",
              " '1985',\n",
              " '1986',\n",
              " '1987',\n",
              " '1988',\n",
              " '1989',\n",
              " '1990',\n",
              " '1991',\n",
              " '1992',\n",
              " '1993',\n",
              " '1994',\n",
              " '1995',\n",
              " '1996',\n",
              " '1997',\n",
              " '1998',\n",
              " '1999',\n",
              " '2000',\n",
              " '2001',\n",
              " '2002',\n",
              " '2003',\n",
              " '2004',\n",
              " '2005',\n",
              " '2006',\n",
              " '2007',\n",
              " '2008',\n",
              " '2009',\n",
              " '2010',\n",
              " '2011',\n",
              " '2012',\n",
              " '2013']"
            ]
          },
          "metadata": {
            "tags": []
          },
          "execution_count": 12
        }
      ]
    },
    {
      "cell_type": "markdown",
      "metadata": {
        "button": false,
        "deletable": true,
        "editable": true,
        "new_sheet": false,
        "run_control": {
          "read_only": false
        },
        "id": "MmBDzOe4_h75",
        "colab_type": "text"
      },
      "source": [
        "# Visualizing Data using Matplotlib<a id=\"4\"></a>"
      ]
    },
    {
      "cell_type": "markdown",
      "metadata": {
        "button": false,
        "deletable": true,
        "editable": true,
        "new_sheet": false,
        "run_control": {
          "read_only": false
        },
        "id": "7RpFLb6u_h76",
        "colab_type": "text"
      },
      "source": [
        "Import `Matplotlib` and **Numpy**."
      ]
    },
    {
      "cell_type": "code",
      "metadata": {
        "button": false,
        "deletable": true,
        "editable": true,
        "jupyter": {
          "outputs_hidden": false
        },
        "new_sheet": false,
        "run_control": {
          "read_only": false
        },
        "id": "eIgmb2vw_h78",
        "colab_type": "code",
        "colab": {},
        "outputId": "0e6ae671-4750-4e8c-844f-443115a8079f"
      },
      "source": [
        "# use the inline backend to generate the plots within the browser\n",
        "%matplotlib inline \n",
        "\n",
        "import matplotlib as mpl\n",
        "import matplotlib.pyplot as plt\n",
        "\n",
        "mpl.style.use('ggplot') # optional: for ggplot-like style\n",
        "\n",
        "# check for latest version of Matplotlib\n",
        "print ('Matplotlib version: ', mpl.__version__) # >= 2.0.0"
      ],
      "execution_count": 0,
      "outputs": [
        {
          "output_type": "stream",
          "text": [
            "Matplotlib version:  3.1.1\n"
          ],
          "name": "stdout"
        }
      ]
    },
    {
      "cell_type": "markdown",
      "metadata": {
        "button": false,
        "deletable": true,
        "editable": true,
        "new_sheet": false,
        "run_control": {
          "read_only": false
        },
        "id": "HskfVv2A_h8E",
        "colab_type": "text"
      },
      "source": [
        "# Area Plots<a id=\"6\"></a>"
      ]
    },
    {
      "cell_type": "markdown",
      "metadata": {
        "button": false,
        "deletable": true,
        "editable": true,
        "new_sheet": false,
        "run_control": {
          "read_only": false
        },
        "id": "jhyrpgeU_h8F",
        "colab_type": "text"
      },
      "source": [
        "In the last module, we created a line plot that visualized the top 5 countries that contribued the most immigrants to Canada from 1980 to 2013. With a little modification to the code, we can visualize this plot as a cumulative plot, also knows as a **Stacked Line Plot** or **Area plot**."
      ]
    },
    {
      "cell_type": "code",
      "metadata": {
        "button": false,
        "deletable": true,
        "editable": true,
        "jupyter": {
          "outputs_hidden": false
        },
        "new_sheet": false,
        "run_control": {
          "read_only": false
        },
        "id": "KWp65ReK_h8G",
        "colab_type": "code",
        "colab": {},
        "outputId": "2b790b25-940e-4937-d908-97fe193dd158"
      },
      "source": [
        "df_can.sort_values(['Total'], ascending=False, axis=0, inplace=True)\n",
        "\n",
        "# get the top 5 entries\n",
        "df_top5 = df_can.head()\n",
        "\n",
        "# transpose the dataframe\n",
        "df_top5 = df_top5[years].transpose() \n",
        "\n",
        "df_top5.head()"
      ],
      "execution_count": 0,
      "outputs": [
        {
          "output_type": "execute_result",
          "data": {
            "text/html": [
              "<div>\n",
              "<style scoped>\n",
              "    .dataframe tbody tr th:only-of-type {\n",
              "        vertical-align: middle;\n",
              "    }\n",
              "\n",
              "    .dataframe tbody tr th {\n",
              "        vertical-align: top;\n",
              "    }\n",
              "\n",
              "    .dataframe thead th {\n",
              "        text-align: right;\n",
              "    }\n",
              "</style>\n",
              "<table border=\"1\" class=\"dataframe\">\n",
              "  <thead>\n",
              "    <tr style=\"text-align: right;\">\n",
              "      <th>Country</th>\n",
              "      <th>India</th>\n",
              "      <th>China</th>\n",
              "      <th>United Kingdom of Great Britain and Northern Ireland</th>\n",
              "      <th>Philippines</th>\n",
              "      <th>Pakistan</th>\n",
              "    </tr>\n",
              "  </thead>\n",
              "  <tbody>\n",
              "    <tr>\n",
              "      <th>1980</th>\n",
              "      <td>8880</td>\n",
              "      <td>5123</td>\n",
              "      <td>22045</td>\n",
              "      <td>6051</td>\n",
              "      <td>978</td>\n",
              "    </tr>\n",
              "    <tr>\n",
              "      <th>1981</th>\n",
              "      <td>8670</td>\n",
              "      <td>6682</td>\n",
              "      <td>24796</td>\n",
              "      <td>5921</td>\n",
              "      <td>972</td>\n",
              "    </tr>\n",
              "    <tr>\n",
              "      <th>1982</th>\n",
              "      <td>8147</td>\n",
              "      <td>3308</td>\n",
              "      <td>20620</td>\n",
              "      <td>5249</td>\n",
              "      <td>1201</td>\n",
              "    </tr>\n",
              "    <tr>\n",
              "      <th>1983</th>\n",
              "      <td>7338</td>\n",
              "      <td>1863</td>\n",
              "      <td>10015</td>\n",
              "      <td>4562</td>\n",
              "      <td>900</td>\n",
              "    </tr>\n",
              "    <tr>\n",
              "      <th>1984</th>\n",
              "      <td>5704</td>\n",
              "      <td>1527</td>\n",
              "      <td>10170</td>\n",
              "      <td>3801</td>\n",
              "      <td>668</td>\n",
              "    </tr>\n",
              "  </tbody>\n",
              "</table>\n",
              "</div>"
            ],
            "text/plain": [
              "Country  India  China  United Kingdom of Great Britain and Northern Ireland  \\\n",
              "1980      8880   5123                                              22045      \n",
              "1981      8670   6682                                              24796      \n",
              "1982      8147   3308                                              20620      \n",
              "1983      7338   1863                                              10015      \n",
              "1984      5704   1527                                              10170      \n",
              "\n",
              "Country  Philippines  Pakistan  \n",
              "1980            6051       978  \n",
              "1981            5921       972  \n",
              "1982            5249      1201  \n",
              "1983            4562       900  \n",
              "1984            3801       668  "
            ]
          },
          "metadata": {
            "tags": []
          },
          "execution_count": 14
        }
      ]
    },
    {
      "cell_type": "markdown",
      "metadata": {
        "button": false,
        "deletable": true,
        "editable": true,
        "new_sheet": false,
        "run_control": {
          "read_only": false
        },
        "id": "9X7O0ZwE_h8J",
        "colab_type": "text"
      },
      "source": [
        "Area plots are stacked by default. And to produce a stacked area plot, each column must be either all positive or all negative values (any NaN values will defaulted to 0). To produce an unstacked plot, pass `stacked=False`. "
      ]
    },
    {
      "cell_type": "code",
      "metadata": {
        "button": false,
        "deletable": true,
        "editable": true,
        "jupyter": {
          "outputs_hidden": false
        },
        "new_sheet": false,
        "run_control": {
          "read_only": false
        },
        "id": "UCxz5NEd_h8K",
        "colab_type": "code",
        "colab": {},
        "outputId": "98d9b530-0d5b-475f-be50-7869372284b8"
      },
      "source": [
        "df_top5.index = df_top5.index.map(int) # let's change the index values of df_top5 to type integer for plotting\n",
        "df_top5.plot(kind='area', \n",
        "             stacked=False,\n",
        "             figsize=(20, 10), # pass a tuple (x, y) size\n",
        "             )\n",
        "\n",
        "plt.title('Immigration Trend of Top 5 Countries')\n",
        "plt.ylabel('Number of Immigrants')\n",
        "plt.xlabel('Years')\n",
        "\n",
        "plt.show()"
      ],
      "execution_count": 0,
      "outputs": [
        {
          "output_type": "display_data",
          "data": {
            "image/png": "[encoded data removed]",
            "text/plain": [
              "<Figure size 1440x720 with 1 Axes>"
            ]
          },
          "metadata": {
            "tags": []
          }
        }
      ]
    },
    {
      "cell_type": "markdown",
      "metadata": {
        "button": false,
        "deletable": true,
        "editable": true,
        "new_sheet": false,
        "run_control": {
          "read_only": false
        },
        "id": "DEt2tzyh_h8N",
        "colab_type": "text"
      },
      "source": [
        "The unstacked plot has a default transparency (alpha value) at 0.5. We can modify this value by passing in the `alpha` parameter."
      ]
    },
    {
      "cell_type": "code",
      "metadata": {
        "button": false,
        "deletable": true,
        "editable": true,
        "jupyter": {
          "outputs_hidden": false
        },
        "new_sheet": false,
        "run_control": {
          "read_only": false
        },
        "id": "0DqgNI-I_h8O",
        "colab_type": "code",
        "colab": {},
        "outputId": "e37ff8ad-f92e-400a-d6b2-e3430f99e35f"
      },
      "source": [
        "df_top5.plot(kind='area', \n",
        "             alpha=0.25, # 0-1, default value a= 0.5\n",
        "             stacked=False,\n",
        "             figsize=(20, 10),\n",
        "            )\n",
        "\n",
        "plt.title('Immigration Trend of Top 5 Countries')\n",
        "plt.ylabel('Number of Immigrants')\n",
        "plt.xlabel('Years')\n",
        "\n",
        "plt.show()"
      ],
      "execution_count": 0,
      "outputs": [
        {
          "output_type": "display_data",
          "data": {
            "image/png": "[encoded data removed]",
            "text/plain": [
              "<Figure size 1440x720 with 1 Axes>"
            ]
          },
          "metadata": {
            "tags": []
          }
        }
      ]
    },
    {
      "cell_type": "markdown",
      "metadata": {
        "button": false,
        "deletable": true,
        "editable": true,
        "new_sheet": false,
        "run_control": {
          "read_only": false
        },
        "id": "YAkE0ENE_h8R",
        "colab_type": "text"
      },
      "source": [
        "### Two types of plotting\n",
        "\n",
        "As we discussed in the video lectures, there are two styles/options of ploting with `matplotlib`. Plotting using the Artist layer and plotting using the scripting layer.\n",
        "\n",
        "**Option 1: Scripting layer (procedural method) - using matplotlib.pyplot as 'plt' **\n",
        "\n",
        "You can use `plt` i.e. `matplotlib.pyplot` and add more elements by calling different methods procedurally; for example, `plt.title(...)` to add title or `plt.xlabel(...)` to add label to the x-axis.\n",
        "```python\n",
        "    # Option 1: This is what we have been using so far\n",
        "    df_top5.plot(kind='area', alpha=0.35, figsize=(20, 10)) \n",
        "    plt.title('Immigration trend of top 5 countries')\n",
        "    plt.ylabel('Number of immigrants')\n",
        "    plt.xlabel('Years')\n",
        "```"
      ]
    },
    {
      "cell_type": "markdown",
      "metadata": {
        "button": false,
        "deletable": true,
        "editable": true,
        "new_sheet": false,
        "run_control": {
          "read_only": false
        },
        "id": "5-12QCXA_h8S",
        "colab_type": "text"
      },
      "source": [
        "**Option 2: Artist layer (Object oriented method) - using an `Axes` instance from Matplotlib (preferred) **\n",
        "\n",
        "You can use an `Axes` instance of your current plot and store it in a variable (eg. `ax`). You can add more elements by calling methods with a little change in syntax (by adding \"*set_*\" to the previous methods). For example, use `ax.set_title()` instead of `plt.title()` to add title,  or `ax.set_xlabel()` instead of `plt.xlabel()` to add label to the x-axis. \n",
        "\n",
        "This option sometimes is more transparent and flexible to use for advanced plots (in particular when having multiple plots, as you will see later). \n",
        "\n",
        "In this course, we will stick to the **scripting layer**, except for some advanced visualizations where we will need to use the **artist layer** to manipulate advanced aspects of the plots."
      ]
    },
    {
      "cell_type": "code",
      "metadata": {
        "button": false,
        "deletable": true,
        "editable": true,
        "jupyter": {
          "outputs_hidden": false
        },
        "new_sheet": false,
        "run_control": {
          "read_only": false
        },
        "id": "AOV8ke8X_h8S",
        "colab_type": "code",
        "colab": {}
      },
      "source": [
        "# option 2: preferred option with more flexibility\n",
        "ax = df_top5.plot(kind='area', alpha=0.35, figsize=(20, 10))\n",
        "\n",
        "ax.set_title('Immigration Trend of Top 5 Countries')\n",
        "ax.set_ylabel('Number of Immigrants')\n",
        "ax.set_xlabel('Years')"
      ],
      "execution_count": 0,
      "outputs": []
    },
    {
      "cell_type": "markdown",
      "metadata": {
        "button": false,
        "deletable": true,
        "new_sheet": false,
        "run_control": {
          "read_only": false
        },
        "id": "z8adHfjH_h8V",
        "colab_type": "text"
      },
      "source": [
        "**Question**: Use the scripting layer to create a stacked area plot of the 5 countries that contributed the least to immigration to Canada **from** 1980 to 2013. Use a transparency value of 0.45."
      ]
    },
    {
      "cell_type": "code",
      "metadata": {
        "button": false,
        "deletable": true,
        "jupyter": {
          "outputs_hidden": false
        },
        "new_sheet": false,
        "run_control": {
          "read_only": false
        },
        "id": "BoXEqy11_h8W",
        "colab_type": "code",
        "colab": {},
        "outputId": "21c2ff8e-d863-4ca7-e242-826abfe9e1fb"
      },
      "source": [
        "### type your answer here\n",
        "df_can.sort_values(['Total'], ascending=True, axis=0, inplace=True)\n",
        "\n",
        "# get the top 5 entries\n",
        "df_bottom5 = df_can.head()\n",
        "\n",
        "# transpose the dataframe\n",
        "df_bottom5 = df_bottom5[years].transpose() \n",
        "\n",
        "df_bottom5.plot(kind='area', alpha=0.45, figsize=(20, 10))\n",
        "plt.title(\"Immigration from bottom 5 countries\")\n",
        "plt.ylabel(\"Number of immigrants\")\n",
        "plt.xlabel(\"Years\")\n",
        "plt.show()\n",
        "\n",
        "\n"
      ],
      "execution_count": 0,
      "outputs": [
        {
          "output_type": "display_data",
          "data": {
            "image/png": "[encoded data removed]",
            "text/plain": [
              "<Figure size 1440x720 with 1 Axes>"
            ]
          },
          "metadata": {
            "tags": []
          }
        }
      ]
    },
    {
      "cell_type": "markdown",
      "metadata": {
        "button": false,
        "deletable": true,
        "new_sheet": false,
        "run_control": {
          "read_only": false
        },
        "id": "_5RTWpSc_h8Z",
        "colab_type": "text"
      },
      "source": [
        "Double-click __here__ for the solution.\n",
        "<!-- The correct answer is:\n",
        "\\\\ # get the 5 countries with the least contribution\n",
        "df_least5 = df_can.tail(5)\n",
        "-->\n",
        "\n",
        "<!--\n",
        "\\\\ # transpose the dataframe\n",
        "df_least5 = df_least5[years].transpose() \n",
        "df_least5.head()\n",
        "-->\n",
        "\n",
        "<!--\n",
        "df_least5.index = df_least5.index.map(int) # let's change the index values of df_least5 to type integer for plotting\n",
        "df_least5.plot(kind='area', alpha=0.45, figsize=(20, 10)) \n",
        "-->\n",
        "\n",
        "<!--\n",
        "plt.title('Immigration Trend of 5 Countries with Least Contribution to Immigration')\n",
        "plt.ylabel('Number of Immigrants')\n",
        "plt.xlabel('Years')\n",
        "-->\n",
        "\n",
        "<!--\n",
        "plt.show()\n",
        "-->"
      ]
    },
    {
      "cell_type": "markdown",
      "metadata": {
        "button": false,
        "deletable": true,
        "new_sheet": false,
        "run_control": {
          "read_only": false
        },
        "id": "Gx8hW20i_h8a",
        "colab_type": "text"
      },
      "source": [
        "**Question**: Use the artist layer to create an unstacked area plot of the 5 countries that contributed the least to immigration to Canada **from** 1980 to 2013. Use a transparency value of 0.55."
      ]
    },
    {
      "cell_type": "code",
      "metadata": {
        "button": false,
        "deletable": true,
        "jupyter": {
          "outputs_hidden": false
        },
        "new_sheet": false,
        "run_control": {
          "read_only": false
        },
        "id": "2IxbB0Cd_h8b",
        "colab_type": "code",
        "colab": {}
      },
      "source": [
        "### type your answer here\n",
        "\n",
        "\n",
        "\n"
      ],
      "execution_count": 0,
      "outputs": []
    },
    {
      "cell_type": "markdown",
      "metadata": {
        "button": false,
        "deletable": true,
        "new_sheet": false,
        "run_control": {
          "read_only": false
        },
        "id": "mjXC3qrZ_h8f",
        "colab_type": "text"
      },
      "source": [
        "Double-click __here__ for the solution.\n",
        "<!-- The correct answer is:\n",
        "\\\\ # get the 5 countries with the least contribution\n",
        "df_least5 = df_can.tail(5)\n",
        "-->\n",
        "\n",
        "<!--\n",
        "\\\\ # transpose the dataframe\n",
        "df_least5 = df_least5[years].transpose() \n",
        "df_least5.head()\n",
        "-->\n",
        "\n",
        "<!--\n",
        "df_least5.index = df_least5.index.map(int) # let's change the index values of df_least5 to type integer for plotting\n",
        "-->\n",
        "\n",
        "<!--\n",
        "ax = df_least5.plot(kind='area', alpha=0.55, stacked=False, figsize=(20, 10))\n",
        "-->\n",
        "\n",
        "<!--\n",
        "ax.set_title('Immigration Trend of 5 Countries with Least Contribution to Immigration')\n",
        "ax.set_ylabel('Number of Immigrants')\n",
        "ax.set_xlabel('Years')\n",
        "-->"
      ]
    },
    {
      "cell_type": "markdown",
      "metadata": {
        "button": false,
        "deletable": true,
        "editable": true,
        "new_sheet": false,
        "run_control": {
          "read_only": false
        },
        "id": "W_4at5_A_h8g",
        "colab_type": "text"
      },
      "source": [
        "# Histograms<a id=\"8\"></a>\n",
        "\n",
        "A histogram is a way of representing the *frequency* distribution of numeric dataset. The way it works is it partitions the x-axis into *bins*, assigns each data point in our dataset to a bin, and then counts the number of data points that have been assigned to each bin. So the y-axis is the frequency or the number of data points in each bin. Note that we can change the bin size and usually one needs to tweak it so that the distribution is displayed nicely."
      ]
    },
    {
      "cell_type": "markdown",
      "metadata": {
        "button": false,
        "deletable": true,
        "editable": true,
        "new_sheet": false,
        "run_control": {
          "read_only": false
        },
        "id": "PCHaud_s_h8h",
        "colab_type": "text"
      },
      "source": [
        "**Question:** What is the frequency distribution of the number (population) of new immigrants from the various countries to Canada in 2013?"
      ]
    },
    {
      "cell_type": "markdown",
      "metadata": {
        "button": false,
        "deletable": true,
        "editable": true,
        "new_sheet": false,
        "run_control": {
          "read_only": false
        },
        "id": "kvITMI4n_h8h",
        "colab_type": "text"
      },
      "source": [
        "Before we proceed with creating the histogram plot, let's first examine the data split into intervals. To do this, we will us **Numpy**'s `histrogram` method to get the bin ranges and frequency counts as follows:"
      ]
    },
    {
      "cell_type": "code",
      "metadata": {
        "button": false,
        "deletable": true,
        "editable": true,
        "jupyter": {
          "outputs_hidden": false
        },
        "new_sheet": false,
        "run_control": {
          "read_only": false
        },
        "id": "fLYpx9Cb_h8i",
        "colab_type": "code",
        "colab": {}
      },
      "source": [
        "# let's quickly view the 2013 data\n",
        "df_can['2013'].head()"
      ],
      "execution_count": 0,
      "outputs": []
    },
    {
      "cell_type": "code",
      "metadata": {
        "button": false,
        "deletable": true,
        "editable": true,
        "jupyter": {
          "outputs_hidden": false
        },
        "new_sheet": false,
        "run_control": {
          "read_only": false
        },
        "id": "1kn2zi3t_h8l",
        "colab_type": "code",
        "colab": {}
      },
      "source": [
        "# np.histogram returns 2 values\n",
        "count, bin_edges = np.histogram(df_can['2013'])\n",
        "\n",
        "print(count) # frequency count\n",
        "print(bin_edges) # bin ranges, default = 10 bins"
      ],
      "execution_count": 0,
      "outputs": []
    },
    {
      "cell_type": "markdown",
      "metadata": {
        "button": false,
        "deletable": true,
        "editable": true,
        "new_sheet": false,
        "run_control": {
          "read_only": false
        },
        "id": "yOSyEHcb_h8n",
        "colab_type": "text"
      },
      "source": [
        "By default, the `histrogram` method breaks up the dataset into 10 bins. The figure below summarizes the bin ranges and the frequency distribution of immigration in 2013. We can see that in 2013:\n",
        "* 178 countries contributed between 0 to 3412.9 immigrants \n",
        "* 11 countries contributed between 3412.9 to 6825.8 immigrants\n",
        "* 1 country contributed between 6285.8 to 10238.7 immigrants, and so on..\n",
        "\n",
        "<img src=\"https://s3-api.us-geo.objectstorage.softlayer.net/cf-courses-data/CognitiveClass/DV0101EN/labs/Images/Mod2Fig1-Histogram.JPG\" align=\"center\" width=800>"
      ]
    },
    {
      "cell_type": "markdown",
      "metadata": {
        "button": false,
        "deletable": true,
        "editable": true,
        "new_sheet": false,
        "run_control": {
          "read_only": false
        },
        "id": "xiC5NgNV_h8o",
        "colab_type": "text"
      },
      "source": [
        "We can easily graph this distribution by passing `kind=hist` to `plot()`."
      ]
    },
    {
      "cell_type": "code",
      "metadata": {
        "button": false,
        "deletable": true,
        "editable": true,
        "jupyter": {
          "outputs_hidden": false
        },
        "new_sheet": false,
        "run_control": {
          "read_only": false
        },
        "id": "YEFXZhjl_h8p",
        "colab_type": "code",
        "colab": {}
      },
      "source": [
        "df_can['2013'].plot(kind='hist', figsize=(8, 5))\n",
        "\n",
        "plt.title('Histogram of Immigration from 195 Countries in 2013') # add a title to the histogram\n",
        "plt.ylabel('Number of Countries') # add y-label\n",
        "plt.xlabel('Number of Immigrants') # add x-label\n",
        "\n",
        "plt.show()"
      ],
      "execution_count": 0,
      "outputs": []
    },
    {
      "cell_type": "markdown",
      "metadata": {
        "button": false,
        "deletable": true,
        "editable": true,
        "new_sheet": false,
        "run_control": {
          "read_only": false
        },
        "id": "8p3wrUuH_h8t",
        "colab_type": "text"
      },
      "source": [
        "In the above plot, the x-axis represents the population range of immigrants in intervals of 3412.9. The y-axis represents the number of countries that contributed to the aforementioned population. \n",
        "\n",
        "Notice that the x-axis labels do not match with the bin size. This can be fixed by passing in a `xticks` keyword that contains the list of the bin sizes, as follows:"
      ]
    },
    {
      "cell_type": "code",
      "metadata": {
        "button": false,
        "deletable": true,
        "editable": true,
        "jupyter": {
          "outputs_hidden": false
        },
        "new_sheet": false,
        "run_control": {
          "read_only": false
        },
        "id": "fOcOe_oi_h8w",
        "colab_type": "code",
        "colab": {}
      },
      "source": [
        "# 'bin_edges' is a list of bin intervals\n",
        "count, bin_edges = np.histogram(df_can['2013'])\n",
        "\n",
        "df_can['2013'].plot(kind='hist', figsize=(8, 5), xticks=bin_edges)\n",
        "\n",
        "plt.title('Histogram of Immigration from 195 countries in 2013') # add a title to the histogram\n",
        "plt.ylabel('Number of Countries') # add y-label\n",
        "plt.xlabel('Number of Immigrants') # add x-label\n",
        "\n",
        "plt.show()"
      ],
      "execution_count": 0,
      "outputs": []
    },
    {
      "cell_type": "markdown",
      "metadata": {
        "button": false,
        "deletable": true,
        "editable": true,
        "new_sheet": false,
        "run_control": {
          "read_only": false
        },
        "id": "TLFw5gpW_h80",
        "colab_type": "text"
      },
      "source": [
        "*Side Note:* We could use `df_can['2013'].plot.hist()`, instead. In fact, throughout this lesson, using `some_data.plot(kind='type_plot', ...)` is equivalent to `some_data.plot.type_plot(...)`. That is, passing the type of the plot as argument or method behaves the same. \n",
        "\n",
        "See the *pandas* documentation for more info  http://pandas.pydata.org/pandas-docs/stable/generated/pandas.Series.plot.html."
      ]
    },
    {
      "cell_type": "markdown",
      "metadata": {
        "button": false,
        "deletable": true,
        "editable": true,
        "new_sheet": false,
        "run_control": {
          "read_only": false
        },
        "id": "10WQ_2kw_h80",
        "colab_type": "text"
      },
      "source": [
        "We can also plot multiple histograms on the same plot. For example, let's try to answer the following questions using a histogram.\n",
        "\n",
        "**Question**: What is the immigration distribution for Denmark, Norway, and Sweden for years 1980 - 2013?"
      ]
    },
    {
      "cell_type": "code",
      "metadata": {
        "button": false,
        "deletable": true,
        "editable": true,
        "jupyter": {
          "outputs_hidden": false
        },
        "new_sheet": false,
        "run_control": {
          "read_only": false
        },
        "id": "GE4lXXE3_h81",
        "colab_type": "code",
        "colab": {}
      },
      "source": [
        "# let's quickly view the dataset \n",
        "df_can.loc[['Denmark', 'Norway', 'Sweden'], years]"
      ],
      "execution_count": 0,
      "outputs": []
    },
    {
      "cell_type": "code",
      "metadata": {
        "button": false,
        "deletable": true,
        "editable": true,
        "jupyter": {
          "outputs_hidden": false
        },
        "new_sheet": false,
        "run_control": {
          "read_only": false
        },
        "id": "V3WjMDmZ_h86",
        "colab_type": "code",
        "colab": {}
      },
      "source": [
        "# generate histogram\n",
        "df_can.loc[['Denmark', 'Norway', 'Sweden'], years].plot.hist()"
      ],
      "execution_count": 0,
      "outputs": []
    },
    {
      "cell_type": "markdown",
      "metadata": {
        "button": false,
        "deletable": true,
        "editable": true,
        "new_sheet": false,
        "run_control": {
          "read_only": false
        },
        "id": "ixpGrMic_h9A",
        "colab_type": "text"
      },
      "source": [
        "That does not look right! \n",
        "\n",
        "Don't worry, you'll often come across situations like this when creating plots. The solution often lies in how the underlying dataset is structured.\n",
        "\n",
        "Instead of plotting the population frequency distribution of the population for the 3 countries, *pandas* instead plotted the population frequency distribution for the `years`.\n",
        "\n",
        "This can be easily fixed by first transposing the dataset, and then plotting as shown below.\n",
        "\n"
      ]
    },
    {
      "cell_type": "code",
      "metadata": {
        "button": false,
        "deletable": true,
        "editable": true,
        "jupyter": {
          "outputs_hidden": false
        },
        "new_sheet": false,
        "run_control": {
          "read_only": false
        },
        "id": "TKf7dro6_h9E",
        "colab_type": "code",
        "colab": {}
      },
      "source": [
        "# transpose dataframe\n",
        "df_t = df_can.loc[['Denmark', 'Norway', 'Sweden'], years].transpose()\n",
        "df_t.head()"
      ],
      "execution_count": 0,
      "outputs": []
    },
    {
      "cell_type": "code",
      "metadata": {
        "button": false,
        "deletable": true,
        "editable": true,
        "jupyter": {
          "outputs_hidden": false
        },
        "new_sheet": false,
        "run_control": {
          "read_only": false
        },
        "id": "VUrlRLfp_h9J",
        "colab_type": "code",
        "colab": {}
      },
      "source": [
        "# generate histogram\n",
        "df_t.plot(kind='hist', figsize=(10, 6))\n",
        "\n",
        "plt.title('Histogram of Immigration from Denmark, Norway, and Sweden from 1980 - 2013')\n",
        "plt.ylabel('Number of Years')\n",
        "plt.xlabel('Number of Immigrants')\n",
        "\n",
        "plt.show()"
      ],
      "execution_count": 0,
      "outputs": []
    },
    {
      "cell_type": "markdown",
      "metadata": {
        "button": false,
        "deletable": true,
        "editable": true,
        "new_sheet": false,
        "run_control": {
          "read_only": false
        },
        "id": "og9BVBdy_h9Q",
        "colab_type": "text"
      },
      "source": [
        "Let's make a few modifications to improve the impact and aesthetics of the previous plot:\n",
        "* increase the bin size to 15 by passing in `bins` parameter\n",
        "* set transparency to 60% by passing in `alpha` paramemter\n",
        "* label the x-axis by passing in `x-label` paramater\n",
        "* change the colors of the plots by passing in `color` parameter"
      ]
    },
    {
      "cell_type": "code",
      "metadata": {
        "button": false,
        "deletable": true,
        "editable": true,
        "jupyter": {
          "outputs_hidden": false
        },
        "new_sheet": false,
        "run_control": {
          "read_only": false
        },
        "id": "kbi0fPLa_h9R",
        "colab_type": "code",
        "colab": {}
      },
      "source": [
        "# let's get the x-tick values\n",
        "count, bin_edges = np.histogram(df_t, 15)\n",
        "\n",
        "# un-stacked histogram\n",
        "df_t.plot(kind ='hist', \n",
        "          figsize=(10, 6),\n",
        "          bins=15,\n",
        "          alpha=0.6,\n",
        "          xticks=bin_edges,\n",
        "          color=['coral', 'darkslateblue', 'mediumseagreen']\n",
        "         )\n",
        "\n",
        "plt.title('Histogram of Immigration from Denmark, Norway, and Sweden from 1980 - 2013')\n",
        "plt.ylabel('Number of Years')\n",
        "plt.xlabel('Number of Immigrants')\n",
        "\n",
        "plt.show()"
      ],
      "execution_count": 0,
      "outputs": []
    },
    {
      "cell_type": "markdown",
      "metadata": {
        "button": false,
        "deletable": true,
        "editable": true,
        "new_sheet": false,
        "run_control": {
          "read_only": false
        },
        "id": "4iZ8JAnJ_h9W",
        "colab_type": "text"
      },
      "source": [
        "Tip:\n",
        "For a full listing of colors available in Matplotlib, run the following code in your python shell:\n",
        "```python\n",
        "import matplotlib\n",
        "for name, hex in matplotlib.colors.cnames.items():\n",
        "    print(name, hex)\n",
        "```"
      ]
    },
    {
      "cell_type": "markdown",
      "metadata": {
        "button": false,
        "deletable": true,
        "editable": true,
        "new_sheet": false,
        "run_control": {
          "read_only": false
        },
        "id": "WkK5rBbQ_h9X",
        "colab_type": "text"
      },
      "source": [
        "If we do no want the plots to overlap each other, we can stack them using the `stacked` paramemter. Let's also adjust the min and max x-axis labels to remove the extra gap on the edges of the plot. We can pass a tuple (min,max) using the `xlim` paramater, as show below."
      ]
    },
    {
      "cell_type": "code",
      "metadata": {
        "button": false,
        "deletable": true,
        "editable": true,
        "jupyter": {
          "outputs_hidden": false
        },
        "new_sheet": false,
        "run_control": {
          "read_only": false
        },
        "id": "PcJvOZTo_h9X",
        "colab_type": "code",
        "colab": {}
      },
      "source": [
        "count, bin_edges = np.histogram(df_t, 15)\n",
        "xmin = bin_edges[0] - 10   #  first bin value is 31.0, adding buffer of 10 for aesthetic purposes \n",
        "xmax = bin_edges[-1] + 10  #  last bin value is 308.0, adding buffer of 10 for aesthetic purposes\n",
        "\n",
        "# stacked Histogram\n",
        "df_t.plot(kind='hist',\n",
        "          figsize=(10, 6), \n",
        "          bins=15,\n",
        "          xticks=bin_edges,\n",
        "          color=['coral', 'darkslateblue', 'mediumseagreen'],\n",
        "          stacked=True,\n",
        "          xlim=(xmin, xmax)\n",
        "         )\n",
        "\n",
        "plt.title('Histogram of Immigration from Denmark, Norway, and Sweden from 1980 - 2013')\n",
        "plt.ylabel('Number of Years')\n",
        "plt.xlabel('Number of Immigrants') \n",
        "\n",
        "plt.show()"
      ],
      "execution_count": 0,
      "outputs": []
    },
    {
      "cell_type": "markdown",
      "metadata": {
        "button": false,
        "deletable": true,
        "new_sheet": false,
        "run_control": {
          "read_only": false
        },
        "id": "ykoIFEFj_h9a",
        "colab_type": "text"
      },
      "source": [
        "**Question**: Use the scripting layer to display the immigration distribution for Greece, Albania, and Bulgaria for years 1980 - 2013? Use an overlapping plot with 15 bins and a transparency value of 0.35."
      ]
    },
    {
      "cell_type": "code",
      "metadata": {
        "button": false,
        "collapsed": true,
        "deletable": true,
        "jupyter": {
          "outputs_hidden": true
        },
        "new_sheet": false,
        "run_control": {
          "read_only": false
        },
        "id": "TTPd0Stl_h9b",
        "colab_type": "code",
        "colab": {}
      },
      "source": [
        "### type your answer here\n",
        "\n",
        "\n",
        "\n"
      ],
      "execution_count": 0,
      "outputs": []
    },
    {
      "cell_type": "markdown",
      "metadata": {
        "button": false,
        "deletable": true,
        "new_sheet": false,
        "run_control": {
          "read_only": false
        },
        "id": "gB-uhE6l_h9e",
        "colab_type": "text"
      },
      "source": [
        "Double-click __here__ for the solution.\n",
        "<!-- The correct answer is:\n",
        "\\\\ # create a dataframe of the countries of interest (cof)\n",
        "df_cof = df_can.loc[['Greece', 'Albania', 'Bulgaria'], years]\n",
        "-->\n",
        "\n",
        "<!--\n",
        "\\\\ # transpose the dataframe\n",
        "df_cof = df_cof.transpose() \n",
        "-->\n",
        "\n",
        "<!--\n",
        "\\\\ # let's get the x-tick values\n",
        "count, bin_edges = np.histogram(df_cof, 15)\n",
        "-->\n",
        "\n",
        "<!--\n",
        "\\\\ # Un-stacked Histogram\n",
        "df_cof.plot(kind ='hist',\n",
        "            figsize=(10, 6),\n",
        "            bins=15,\n",
        "            alpha=0.35,\n",
        "            xticks=bin_edges,\n",
        "            color=['coral', 'darkslateblue', 'mediumseagreen']\n",
        "            )\n",
        "-->\n",
        "\n",
        "<!--\n",
        "plt.title('Histogram of Immigration from Greece, Albania, and Bulgaria from 1980 - 2013')\n",
        "plt.ylabel('Number of Years')\n",
        "plt.xlabel('Number of Immigrants')\n",
        "-->\n",
        "\n",
        "<!--\n",
        "plt.show()\n",
        "-->"
      ]
    },
    {
      "cell_type": "markdown",
      "metadata": {
        "button": false,
        "deletable": true,
        "editable": true,
        "new_sheet": false,
        "run_control": {
          "read_only": false
        },
        "id": "0BIF5K_O_h9f",
        "colab_type": "text"
      },
      "source": [
        "# Bar Charts (Dataframe) <a id=\"10\"></a>\n",
        "\n",
        "A bar plot is a way of representing data where the *length* of the bars represents the magnitude/size of the feature/variable. Bar graphs usually represent numerical and categorical variables grouped in intervals. \n",
        "\n",
        "To create a bar plot, we can pass one of two arguments via `kind` parameter in `plot()`:\n",
        "\n",
        "* `kind=bar` creates a *vertical* bar plot\n",
        "* `kind=barh` creates a *horizontal* bar plot"
      ]
    },
    {
      "cell_type": "markdown",
      "metadata": {
        "button": false,
        "deletable": true,
        "editable": true,
        "new_sheet": false,
        "run_control": {
          "read_only": false
        },
        "id": "nisL9ar6_h9i",
        "colab_type": "text"
      },
      "source": [
        "**Vertical bar plot**\n",
        "\n",
        "In vertical bar graphs, the x-axis is used for labelling, and the length of bars on the y-axis corresponds to the magnitude of the variable being measured. Vertical bar graphs are particuarly useful in analyzing time series data. One disadvantage is that they lack space for text labelling at the foot of each bar. \n",
        "\n",
        "**Let's start off by analyzing the effect of Iceland's Financial Crisis:**\n",
        "\n",
        "The 2008 - 2011 Icelandic Financial Crisis was a major economic and political event in Iceland. Relative to the size of its economy, Iceland's systemic banking collapse was the largest experienced by any country in economic history. The crisis led to a severe economic depression in 2008 - 2011 and significant political unrest.\n",
        "\n",
        "**Question:** Let's compare the number of Icelandic immigrants (country = 'Iceland') to Canada from year 1980 to 2013. "
      ]
    },
    {
      "cell_type": "code",
      "metadata": {
        "button": false,
        "deletable": true,
        "editable": true,
        "jupyter": {
          "outputs_hidden": false
        },
        "new_sheet": false,
        "run_control": {
          "read_only": false
        },
        "id": "x0FXTL0G_h9j",
        "colab_type": "code",
        "colab": {}
      },
      "source": [
        "# step 1: get the data\n",
        "df_iceland = df_can.loc['Iceland', years]\n",
        "df_iceland.head()"
      ],
      "execution_count": 0,
      "outputs": []
    },
    {
      "cell_type": "code",
      "metadata": {
        "button": false,
        "deletable": true,
        "editable": true,
        "jupyter": {
          "outputs_hidden": false
        },
        "new_sheet": false,
        "run_control": {
          "read_only": false
        },
        "id": "3LDg-mz1_h9q",
        "colab_type": "code",
        "colab": {}
      },
      "source": [
        "# step 2: plot data\n",
        "df_iceland.plot(kind='bar', figsize=(10, 6))\n",
        "\n",
        "plt.xlabel('Year') # add to x-label to the plot\n",
        "plt.ylabel('Number of immigrants') # add y-label to the plot\n",
        "plt.title('Icelandic immigrants to Canada from 1980 to 2013') # add title to the plot\n",
        "\n",
        "plt.show()"
      ],
      "execution_count": 0,
      "outputs": []
    },
    {
      "cell_type": "markdown",
      "metadata": {
        "button": false,
        "deletable": true,
        "editable": true,
        "new_sheet": false,
        "run_control": {
          "read_only": false
        },
        "id": "z0FmIwpd_h9v",
        "colab_type": "text"
      },
      "source": [
        "The bar plot above shows the total number of immigrants broken down by each year. We can clearly see the impact of the financial crisis; the number of immigrants to Canada started increasing rapidly after 2008. \n",
        "\n",
        "Let's annotate this on the plot using the `annotate` method of the **scripting layer** or the **pyplot interface**. We will pass in the following parameters:\n",
        "- `s`: str, the text of annotation.\n",
        "- `xy`: Tuple specifying the (x,y) point to annotate (in this case, end point of arrow).\n",
        "- `xytext`: Tuple specifying the (x,y) point to place the text (in this case, start point of arrow).\n",
        "- `xycoords`: The coordinate system that xy is given in - 'data' uses the coordinate system of the object being annotated (default).\n",
        "- `arrowprops`: Takes a dictionary of properties to draw the arrow:\n",
        "    - `arrowstyle`: Specifies the arrow style, `'->'` is standard arrow.\n",
        "    - `connectionstyle`: Specifies the connection type. `arc3` is a straight line.\n",
        "    - `color`: Specifes color of arror.\n",
        "    - `lw`: Specifies the line width.\n",
        "\n",
        "I encourage you to read the Matplotlib documentation for more details on annotations: \n",
        "http://matplotlib.org/api/pyplot_api.html#matplotlib.pyplot.annotate."
      ]
    },
    {
      "cell_type": "code",
      "metadata": {
        "button": false,
        "deletable": true,
        "editable": true,
        "jupyter": {
          "outputs_hidden": false
        },
        "new_sheet": false,
        "run_control": {
          "read_only": false
        },
        "id": "E5h72QMV_h9y",
        "colab_type": "code",
        "colab": {}
      },
      "source": [
        "df_iceland.plot(kind='bar', figsize=(10, 6), rot=90) # rotate the bars by 90 degrees\n",
        "\n",
        "plt.xlabel('Year')\n",
        "plt.ylabel('Number of Immigrants')\n",
        "plt.title('Icelandic Immigrants to Canada from 1980 to 2013')\n",
        "\n",
        "# Annotate arrow\n",
        "plt.annotate('',                      # s: str. Will leave it blank for no text\n",
        "             xy=(32, 70),             # place head of the arrow at point (year 2012 , pop 70)\n",
        "             xytext=(28, 20),         # place base of the arrow at point (year 2008 , pop 20)\n",
        "             xycoords='data',         # will use the coordinate system of the object being annotated \n",
        "             arrowprops=dict(arrowstyle='->', connectionstyle='arc3', color='blue', lw=2)\n",
        "            )\n",
        "\n",
        "plt.show()"
      ],
      "execution_count": 0,
      "outputs": []
    },
    {
      "cell_type": "markdown",
      "metadata": {
        "button": false,
        "deletable": true,
        "editable": true,
        "new_sheet": false,
        "run_control": {
          "read_only": false
        },
        "id": "Yee0b0E4_h92",
        "colab_type": "text"
      },
      "source": [
        "Let's also annotate a text to go over the arrow.  We will pass in the following additional parameters:\n",
        "- `rotation`: rotation angle of text in degrees (counter clockwise)\n",
        "- `va`: vertical alignment of text [‘center’ | ‘top’ | ‘bottom’ | ‘baseline’]\n",
        "- `ha`: horizontal alignment of text [‘center’ | ‘right’ | ‘left’]"
      ]
    },
    {
      "cell_type": "code",
      "metadata": {
        "button": false,
        "deletable": true,
        "editable": true,
        "jupyter": {
          "outputs_hidden": false
        },
        "new_sheet": false,
        "run_control": {
          "read_only": false
        },
        "id": "Kw-Dec5w_h92",
        "colab_type": "code",
        "colab": {}
      },
      "source": [
        "df_iceland.plot(kind='bar', figsize=(10, 6), rot=90) \n",
        "\n",
        "plt.xlabel('Year')\n",
        "plt.ylabel('Number of Immigrants')\n",
        "plt.title('Icelandic Immigrants to Canada from 1980 to 2013')\n",
        "\n",
        "# Annotate arrow\n",
        "plt.annotate('',                      # s: str. will leave it blank for no text\n",
        "             xy=(32, 70),             # place head of the arrow at point (year 2012 , pop 70)\n",
        "             xytext=(28, 20),         # place base of the arrow at point (year 2008 , pop 20)\n",
        "             xycoords='data',         # will use the coordinate system of the object being annotated \n",
        "             arrowprops=dict(arrowstyle='->', connectionstyle='arc3', color='blue', lw=2)\n",
        "            )\n",
        "\n",
        "# Annotate Text\n",
        "plt.annotate('2008 - 2011 Financial Crisis', # text to display\n",
        "             xy=(28, 30),                    # start the text at at point (year 2008 , pop 30)\n",
        "             rotation=72.5,                  # based on trial and error to match the arrow\n",
        "             va='bottom',                    # want the text to be vertically 'bottom' aligned\n",
        "             ha='left',                      # want the text to be horizontally 'left' algned.\n",
        "            )\n",
        "\n",
        "plt.show()"
      ],
      "execution_count": 0,
      "outputs": []
    },
    {
      "cell_type": "markdown",
      "metadata": {
        "button": false,
        "deletable": true,
        "editable": true,
        "new_sheet": false,
        "run_control": {
          "read_only": false
        },
        "id": "nZk2tFrH_h94",
        "colab_type": "text"
      },
      "source": [
        "**Horizontal Bar Plot**\n",
        "\n",
        "Sometimes it is more practical to represent the data horizontally, especially if you need more room for labelling the bars. In horizontal bar graphs, the y-axis is used for labelling, and the length of bars on the x-axis corresponds to the magnitude of the variable being measured. As you will see, there is more room on the y-axis to  label categetorical variables.\n",
        "\n",
        "\n",
        "**Question:** Using the scripting layter and the `df_can` dataset, create a *horizontal* bar plot showing the *total* number of immigrants to Canada from the top 15 countries, for the period 1980 - 2013. Label each country with the total immigrant count."
      ]
    },
    {
      "cell_type": "markdown",
      "metadata": {
        "button": false,
        "deletable": true,
        "editable": true,
        "new_sheet": false,
        "run_control": {
          "read_only": false
        },
        "id": "kVTTmLz__h95",
        "colab_type": "text"
      },
      "source": [
        "Step 1: Get the data pertaining to the top 15 countries."
      ]
    },
    {
      "cell_type": "code",
      "metadata": {
        "button": false,
        "collapsed": true,
        "deletable": true,
        "jupyter": {
          "outputs_hidden": true
        },
        "new_sheet": false,
        "run_control": {
          "read_only": false
        },
        "id": "-0-MPda6_h97",
        "colab_type": "code",
        "colab": {}
      },
      "source": [
        "### type your answer here\n",
        "\n",
        "\n",
        "\n"
      ],
      "execution_count": 0,
      "outputs": []
    },
    {
      "cell_type": "markdown",
      "metadata": {
        "button": false,
        "deletable": true,
        "new_sheet": false,
        "run_control": {
          "read_only": false
        },
        "id": "4RQnYrJ5_h-D",
        "colab_type": "text"
      },
      "source": [
        "Double-click __here__ for the solution.\n",
        "<!-- The correct answer is:\n",
        "\\\\ # sort dataframe on 'Total' column (descending)\n",
        "df_can.sort_values(by='Total', ascending=True, inplace=True)\n",
        "-->\n",
        "\n",
        "<!--\n",
        "\\\\ # get top 15 countries\n",
        "df_top15 = df_can['Total'].tail(15)\n",
        "df_top15\n",
        "-->"
      ]
    },
    {
      "cell_type": "markdown",
      "metadata": {
        "button": false,
        "deletable": true,
        "editable": true,
        "new_sheet": false,
        "run_control": {
          "read_only": false
        },
        "id": "bJsh3MRW_h-E",
        "colab_type": "text"
      },
      "source": [
        "Step 2: Plot data:\n",
        "   1. Use `kind='barh'` to generate a bar chart with horizontal bars.\n",
        "   2. Make sure to choose a good size for the plot and to label your axes and to give the plot a title.\n",
        "   3. Loop through the countries and annotate the immigrant population using the anotate function of the scripting interface."
      ]
    },
    {
      "cell_type": "code",
      "metadata": {
        "button": false,
        "collapsed": true,
        "deletable": true,
        "jupyter": {
          "outputs_hidden": true
        },
        "new_sheet": false,
        "run_control": {
          "read_only": false
        },
        "id": "XTcqfwAV_h-F",
        "colab_type": "code",
        "colab": {}
      },
      "source": [
        "### type your answer here\n",
        "\n",
        "\n",
        "\n"
      ],
      "execution_count": 0,
      "outputs": []
    },
    {
      "cell_type": "markdown",
      "metadata": {
        "button": false,
        "deletable": true,
        "new_sheet": false,
        "run_control": {
          "read_only": false
        },
        "id": "8wxwkBWz_h-O",
        "colab_type": "text"
      },
      "source": [
        "Double-click __here__ for the solution.\n",
        "<!-- The correct answer is:\n",
        "\\\\ # generate plot\n",
        "df_top15.plot(kind='barh', figsize=(12, 12), color='steelblue')\n",
        "plt.xlabel('Number of Immigrants')\n",
        "plt.title('Top 15 Conuntries Contributing to the Immigration to Canada between 1980 - 2013')\n",
        "-->\n",
        "\n",
        "<!--\n",
        "\\\\ # annotate value labels to each country\n",
        "for index, value in enumerate(df_top15): \n",
        "    label = format(int(value), ',') # format int with commas\n",
        "    \n",
        "    # place text at the end of bar (subtracting 47000 from x, and 0.1 from y to make it fit within the bar)\n",
        "    plt.annotate(label, xy=(value - 47000, index - 0.10), color='white')\n",
        "-->\n",
        "\n",
        "<!--\n",
        "plt.show()\n",
        "-->"
      ]
    },
    {
      "cell_type": "markdown",
      "metadata": {
        "button": false,
        "deletable": true,
        "editable": true,
        "new_sheet": false,
        "run_control": {
          "read_only": false
        },
        "id": "5nr372l8_h-P",
        "colab_type": "text"
      },
      "source": [
        "### Thank you for completing this lab!\n",
        "\n",
        "This notebook was originally created by [Jay Rajasekharan](https://www.linkedin.com/in/jayrajasekharan) with contributions from [Ehsan M. Kermani](https://www.linkedin.com/in/ehsanmkermani), and [Slobodan Markovic](https://www.linkedin.com/in/slobodan-markovic).\n",
        "\n",
        "This notebook was recently revamped by [Alex Aklson](https://www.linkedin.com/in/aklson/). I hope you found this lab session interesting. Feel free to contact me if you have any questions!"
      ]
    },
    {
      "cell_type": "markdown",
      "metadata": {
        "button": false,
        "deletable": true,
        "editable": true,
        "new_sheet": false,
        "run_control": {
          "read_only": false
        },
        "id": "z7O-8RmX_h-Q",
        "colab_type": "text"
      },
      "source": [
        "This notebook is part of a course on **Coursera** called *Data Visualization with Python*. If you accessed this notebook outside the course, you can take this course online by clicking [here](http://cocl.us/DV0101EN_Coursera_Week2_LAB1)."
      ]
    },
    {
      "cell_type": "markdown",
      "metadata": {
        "button": false,
        "deletable": true,
        "editable": true,
        "new_sheet": false,
        "run_control": {
          "read_only": false
        },
        "id": "igVdbgDB_h-T",
        "colab_type": "text"
      },
      "source": [
        "<hr>\n",
        "\n",
        "Copyright &copy; 2019 [Cognitive Class](https://cognitiveclass.ai/?utm_source=bducopyrightlink&utm_medium=dswb&utm_campaign=bdu). This notebook and its source code are released under the terms of the [MIT License](https://bigdatauniversity.com/mit-license/)."
      ]
    }
  ]
}