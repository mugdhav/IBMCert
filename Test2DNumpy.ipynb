{
  "nbformat": 4,
  "nbformat_minor": 0,
  "metadata": {
    "colab": {
      "name": "Test2DNumpy.ipynb",
      "provenance": [],
      "collapsed_sections": [],
      "authorship_tag": "ABX9TyPf6bpW+nsxuOM6fj3Yjv2u",
      "include_colab_link": true
    },
    "kernelspec": {
      "name": "python3",
      "display_name": "Python 3"
    }
  },
  "cells": [
    {
      "cell_type": "markdown",
      "metadata": {
        "id": "view-in-github",
        "colab_type": "text"
      },
      "source": [
        "<a href=\"https://colab.research.google.com/github/mugdhav/IBMCert/blob/master/Test2DNumpy.ipynb\" target=\"_parent\"><img src=\"https://colab.research.google.com/assets/colab-badge.svg\" alt=\"Open In Colab\"/></a>"
      ]
    },
    {
      "cell_type": "code",
      "metadata": {
        "id": "5k2vBXntCyFM",
        "colab_type": "code",
        "colab": {
          "base_uri": "https://localhost:8080/",
          "height": 52
        },
        "outputId": "ac0f4e4a-dcfb-4605-b605-a85ab7ec1733"
      },
      "source": [
        "import numpy as np\n",
        "X=np.array([[1,0],[0,1]])\n",
        "Y=np.array([[2,1],[1,2]]) \n",
        "Z=np.dot(X,Y)\n",
        "Z  #Dot prodtct of arrays is z[0][0] = x[0,0]*y[0,0]+ x[0,1]*y[0,1]......"
      ],
      "execution_count": 2,
      "outputs": [
        {
          "output_type": "execute_result",
          "data": {
            "text/plain": [
              "array([[2, 1],\n",
              "       [1, 2]])"
            ]
          },
          "metadata": {
            "tags": []
          },
          "execution_count": 2
        }
      ]
    },
    {
      "cell_type": "code",
      "metadata": {
        "id": "3wTNI16LJ-SL",
        "colab_type": "code",
        "colab": {}
      },
      "source": [
        "#what does this do:\n",
        "'''keys = list_dict[0].keys()\n",
        "outdict = {keys:[] for key in keys}\n",
        "oh this is reading the all they keys from the first dictionary, which is itself /the first value of a dictionary's first key list_dict[0]\n",
        "The first dictionary keys are the same as the other disctionaries. So it is enough to take the first dictionary's keys and create a separate dictionary/\n",
        ", which has all keys of the first (really,all dictionaries) and every key has an empty list to hold values.\n",
        "Later in the code, each key's value list is appended with a list item. Eventually, every key becomes column of a table, and its list becomes all column values"
      ],
      "execution_count": 0,
      "outputs": []
    }
  ]
}